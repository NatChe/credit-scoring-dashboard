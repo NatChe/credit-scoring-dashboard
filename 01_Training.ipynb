{
 "cells": [
  {
   "cell_type": "markdown",
   "id": "5c864b19-599a-40c8-afc4-3e90cec21d97",
   "metadata": {},
   "source": [
    "# Notebook overview"
   ]
  },
  {
   "cell_type": "markdown",
   "id": "cb524379-3ab1-4838-8b3a-ca1b65b4157d",
   "metadata": {},
   "source": [
    "# Imports\n",
    "## Libraries"
   ]
  },
  {
   "cell_type": "code",
   "execution_count": 693,
   "id": "1c2e150f-eada-4842-a0d2-49daccf8360d",
   "metadata": {},
   "outputs": [],
   "source": [
    "import pandas as pd\n",
    "import numpy as np\n",
    "import matplotlib.pyplot as plt\n",
    "import mlflow\n",
    "import gc, warnings, os, time\n",
    "import mlflow\n",
    "import importlib\n",
    "\n",
    "# custom classes\n",
    "import pipelines\n",
    "import data_preprocessing as process\n",
    "import transformers\n",
    "\n",
    "importlib.reload(process)\n",
    "importlib.reload(transformers)\n",
    "importlib.reload(pipelines)\n",
    "\n",
    "from transformers import ApplicationCleaner\n",
    "from pipelines import PIPELINES, DEFAULT_CONFIG\n",
    "\n",
    "# sklearn\n",
    "from sklearn.model_selection import train_test_split\n",
    "from sklearn.impute import SimpleImputer\n",
    "from sklearn.preprocessing import StandardScaler, OneHotEncoder\n",
    "from sklearn.metrics import roc_auc_score, accuracy_score, classification_report, fbeta_score, roc_curve, RocCurveDisplay, confusion_matrix, recall_score, precision_score\n",
    "\n",
    "from imblearn.over_sampling import SMOTE\n",
    "\n",
    "warnings.simplefilter(action='ignore', category=FutureWarning)\n",
    "\n",
    "pd.set_option('display.max_colwidth', None)\n",
    "pd.options.display.float_format = '{:.4f}'.format"
   ]
  },
  {
   "cell_type": "markdown",
   "id": "5c367c99-2b9f-44f1-85ca-22754eb55fc0",
   "metadata": {},
   "source": [
    "# Pipeline"
   ]
  },
  {
   "cell_type": "markdown",
   "id": "a1a43f5b-1e85-403d-8e05-a0fc3fe2dc57",
   "metadata": {},
   "source": [
    "### Custom score function\n",
    "\n",
    "Every outcome of a confusion matrix has its own cost:\n",
    "\n",
    "**TP:** Customers identified as risky and who actually had payment difficulties. <br/>\n",
    "**TN:** Customers identified as safe and who really didn't have payment issues. <br/>\n",
    "**FP:** Customers identified as risky but who actually don't have payment difficulties. They represent potential clients that are lost. <br/>\n",
    "**FN:** Customers identified as safe but who did have payment issues. These clients are the most costly for the bank and their number should be minimized. <br/>\n",
    "\n",
    "There is a trade-off between False Negatives and False Positives, both represent money lost for the company. However, the False Negative will have more financial impact, so more weight should be attributed to them. We will use the following formula for the custom score function: `10*FN + FP` that will give us a score to minimize."
   ]
  },
  {
   "cell_type": "code",
   "execution_count": 705,
   "id": "5d30a098-3aed-4274-987b-575b4a3414d7",
   "metadata": {},
   "outputs": [],
   "source": [
    "def get_custom_score(y_true, y_pred):\n",
    "    tn, fp, fn, tp = confusion_matrix(y_true, y_pred).ravel()\n",
    "    #print(f'TN: {tn}, FP: {fp}, FN: {fn}, TP: {tp}')\n",
    "    score = 10*fn + fp\n",
    "\n",
    "    #print(score)\n",
    "    return score/y_true.size"
   ]
  },
  {
   "cell_type": "code",
   "execution_count": 694,
   "id": "950f5675-5623-4e1a-93e9-17e25cf499b4",
   "metadata": {},
   "outputs": [],
   "source": [
    "def display_scores(y_true, y_pred, y_pred_proba, name=''):\n",
    "    metrics = {\n",
    "        'AUC': round(roc_auc_score(y_true, y_pred), 2),\n",
    "        'Custom': round(get_custom_score(y_true, y_pred), 2),\n",
    "        'Recall': round(recall_score(y_true, y_pred), 2),\n",
    "        'Precision': round(precision_score(y_true, y_pred), 2),\n",
    "        'F beta 10': round(fbeta_score(y_true, y_pred, beta=10), 2),\n",
    "        'Accuracy': round(accuracy_score(y_true, y_pred, normalize=True), 2),\n",
    "    }\n",
    "    \n",
    "    print('-------------------------')\n",
    "\n",
    "    for metric_name in metrics:\n",
    "        print(f'{metric_name}: {metrics[metric_name]}')\n",
    "        mlflow.log_metric(metric_name, metrics[metric_name])\n",
    "\n",
    "    # Classification report\n",
    "    print('Classification report:')\n",
    "    print(f'{classification_report(y_true, y_pred, zero_division=0)}')\n",
    "\n",
    "    fpr, tpr, thresholds = roc_curve(y_true, y_pred_proba)\n",
    "    auc = roc_auc_score(y_true, y_pred_proba)\n",
    "\n",
    "    #create ROC curve\n",
    "    display = RocCurveDisplay(fpr=fpr, tpr=tpr, roc_auc=auc, estimator_name=name)\n",
    "    display.plot()\n",
    "    \n",
    "    print('-------------------------')"
   ]
  },
  {
   "cell_type": "markdown",
   "id": "f49a9f35-5c3f-4ecc-9256-1432ab782384",
   "metadata": {},
   "source": [
    "### Training"
   ]
  },
  {
   "cell_type": "code",
   "execution_count": 531,
   "id": "78ddc1fa-857b-40c9-a27b-dd9ce4260c4d",
   "metadata": {},
   "outputs": [],
   "source": [
    "def train(pipeline_name, config, dev_mode=True):\n",
    "    print('Training the model')\n",
    "    time_start = time.time()\n",
    "\n",
    "    data = process.load_data(dev_mode)\n",
    "\n",
    "    X = data['application'].drop(process.TARGET_COLUMN, axis=1)\n",
    "    y = data['application'][process.TARGET_COLUMN]\n",
    "\n",
    "    X_train, X_test, y_train, y_test = train_test_split(X,\n",
    "                                                          y,\n",
    "                                                          test_size=0.2,\n",
    "                                                          random_state=42,\n",
    "                                                          shuffle=False)\n",
    "\n",
    "    print('Train shape: {}'.format(X_train.shape))\n",
    "    print('Valid shape: {}'.format(y_train.shape))\n",
    "\n",
    "    pipeline = PIPELINES[pipeline_name](config=config, dev_mode=dev_mode)\n",
    "\n",
    "    print('Start pipeline fit and transform')\n",
    "    pipeline.fit(X_train, y_train)\n",
    "\n",
    "    y_pred = pipeline.predict(X_test)\n",
    "    y_pred_proba = pipeline.predict_proba(X_test)[::,1]\n",
    "\n",
    "    display_scores(y_test, y_pred, y_pred_proba, name=pipeline_name)\n",
    "\n",
    "    mlflow.sklearn.log_model(pipeline, pipeline_name)\n",
    "    \n",
    "    exec_time = round((time.time() - time_start), 2)\n",
    "    print(f'execution time: {exec_time} seconds \\n')"
   ]
  },
  {
   "cell_type": "code",
   "execution_count": 658,
   "id": "f87fe795-f346-4819-a3c3-88d7a3932312",
   "metadata": {
    "scrolled": true
   },
   "outputs": [
    {
     "name": "stdout",
     "output_type": "stream",
     "text": [
      "Loading application_train ...\n",
      "Loading Done.\n",
      "Train shape: (246008, 121)\n",
      "Valid shape: (246008,)\n"
     ]
    },
    {
     "name": "stderr",
     "output_type": "stream",
     "text": [
      "2023/11/17 11:44:34 INFO mlflow.utils.autologging_utils: Created MLflow autologging run with ID 'e04cebeefbd84ff2bf804d0d8ece7b7c', which will track hyperparameters, performance metrics, model artifacts, and lineage information for the current sklearn workflow\n"
     ]
    },
    {
     "name": "stdout",
     "output_type": "stream",
     "text": [
      "prev app shape (338857, 249)\n"
     ]
    },
    {
     "name": "stderr",
     "output_type": "stream",
     "text": [
      "2023/11/17 11:44:34 WARNING mlflow.utils: Truncated the value of the key `steps`. Truncated value: `[('preprocessor', Pipeline(steps=[('cleaner', ApplicationCleaner()),\n",
      "                ('feature_extractor', ApplicationFeaturesExtractor()),\n",
      "                ('merge_previous_applications',\n",
      "                 ApplicationFeaturesMerger(features_to_merge=            PREV_AMT_ANNUITY_MIN  PREV_AMT_ANNUITY_MAX  PREV_AMT_ANNUITY_MEAN  \\\n",
      "SK_ID_CURR                                                                      \n",
      "100001                 3951.0000             3951.0000              3951.0000   \n",
      "10000...`\n",
      "2023/11/17 11:44:35 WARNING mlflow.utils: Truncated the value of the key `preprocessor`. Truncated value: `Pipeline(steps=[('cleaner', ApplicationCleaner()),\n",
      "                ('feature_extractor', ApplicationFeaturesExtractor()),\n",
      "                ('merge_previous_applications',\n",
      "                 ApplicationFeaturesMerger(features_to_merge=            PREV_AMT_ANNUITY_MIN  PREV_AMT_ANNUITY_MAX  PREV_AMT_ANNUITY_MEAN  \\\n",
      "SK_ID_CURR                                                                      \n",
      "100001                 3951.0000             3951.0000              3951.0000   \n",
      "100002                 ...`\n",
      "2023/11/17 11:44:35 WARNING mlflow.utils: Truncated the value of the key `preprocessor__steps`. Truncated value: `[('cleaner', ApplicationCleaner()), ('feature_extractor', ApplicationFeaturesExtractor()), ('merge_previous_applications', ApplicationFeaturesMerger(features_to_merge=            PREV_AMT_ANNUITY_MIN  PREV_AMT_ANNUITY_MAX  PREV_AMT_ANNUITY_MEAN  \\\n",
      "SK_ID_CURR                                                                      \n",
      "100001                 3951.0000             3951.0000              3951.0000   \n",
      "100002                 9251.7750             9251.7750              9251.7750   \n",
      "100003...`\n",
      "2023/11/17 11:44:35 WARNING mlflow.utils: Truncated the value of the key `preprocessor__merge_previous_applications`. Truncated value: `ApplicationFeaturesMerger(features_to_merge=            PREV_AMT_ANNUITY_MIN  PREV_AMT_ANNUITY_MAX  PREV_AMT_ANNUITY_MEAN  \\\n",
      "SK_ID_CURR                                                                      \n",
      "100001                 3951.0000             3951.0000              3951.0000   \n",
      "100002                 9251.7750             9251.7750              9251.7750   \n",
      "100003                 6737.3100            98356.9950             56553.9900   \n",
      "100004                 5357.2500             535...`\n",
      "2023/11/17 11:44:35 WARNING mlflow.utils: Truncated the value of the key `preprocessor__merge_previous_applications__features_to_merge`. Truncated value: `            PREV_AMT_ANNUITY_MIN  PREV_AMT_ANNUITY_MAX  PREV_AMT_ANNUITY_MEAN  \\\n",
      "SK_ID_CURR                                                                      \n",
      "100001                 3951.0000             3951.0000              3951.0000   \n",
      "100002                 9251.7750             9251.7750              9251.7750   \n",
      "100003                 6737.3100            98356.9950             56553.9900   \n",
      "100004                 5357.2500             5357.2500              5357.2500   \n",
      "100005     ...`\n",
      "2023/11/17 11:44:37 WARNING mlflow.data.pandas_dataset: Failed to infer schema for Pandas dataset. Exception: Unable to map 'object' type to MLflow DataType. object can be mapped iff all values have identical data type which is one of (string, (bytes or byterray),  int, float).\n"
     ]
    },
    {
     "name": "stdout",
     "output_type": "stream",
     "text": [
      "[Pipeline] ........... (step 1 of 3) Processing cleaner, total=   0.7s\n",
      "[Pipeline] . (step 2 of 3) Processing feature_extractor, total=   0.0s\n",
      "[Pipeline]  (step 3 of 3) Processing merge_previous_applications, total=   0.0s\n",
      "[Pipeline] ...... (step 1 of 1) Processing preprocessor, total=   0.7s\n"
     ]
    },
    {
     "name": "stderr",
     "output_type": "stream",
     "text": [
      "2023/11/17 11:44:39 WARNING mlflow.sklearn: Training metrics will not be recorded because training labels were not specified. To automatically record training metrics, provide training labels as inputs to the model training function.\n",
      "2023/11/17 11:44:39 WARNING mlflow.sklearn: Failed to infer model signature: Unable to map 'object' type to MLflow DataType. object can be mapped iff all values have identical data type which is one of (string, (bytes or byterray),  int, float).\n"
     ]
    },
    {
     "name": "stdout",
     "output_type": "stream",
     "text": [
      "shape before  (5, 128)\n",
      "new shape after merge (5, 377)\n"
     ]
    },
    {
     "name": "stderr",
     "output_type": "stream",
     "text": [
      "2023/11/17 11:44:39 WARNING mlflow.sklearn: Model was missing function: predict. Not logging python_function flavor!\n"
     ]
    },
    {
     "name": "stdout",
     "output_type": "stream",
     "text": [
      "shape before  (61503, 128)\n",
      "new shape after merge (61503, 377)\n"
     ]
    },
    {
     "name": "stderr",
     "output_type": "stream",
     "text": [
      "2023/11/17 11:44:42 WARNING mlflow.data.pandas_dataset: Failed to infer schema for Pandas dataset. Exception: Unable to map 'object' type to MLflow DataType. object can be mapped iff all values have identical data type which is one of (string, (bytes or byterray),  int, float).\n"
     ]
    },
    {
     "data": {
      "text/html": [
       "<div>\n",
       "<style scoped>\n",
       "    .dataframe tbody tr th:only-of-type {\n",
       "        vertical-align: middle;\n",
       "    }\n",
       "\n",
       "    .dataframe tbody tr th {\n",
       "        vertical-align: top;\n",
       "    }\n",
       "\n",
       "    .dataframe thead th {\n",
       "        text-align: right;\n",
       "    }\n",
       "</style>\n",
       "<table border=\"1\" class=\"dataframe\">\n",
       "  <thead>\n",
       "    <tr style=\"text-align: right;\">\n",
       "      <th></th>\n",
       "      <th>SK_ID_CURR</th>\n",
       "      <th>NAME_CONTRACT_TYPE</th>\n",
       "      <th>CODE_GENDER</th>\n",
       "      <th>FLAG_OWN_CAR</th>\n",
       "      <th>FLAG_OWN_REALTY</th>\n",
       "      <th>CNT_CHILDREN</th>\n",
       "      <th>AMT_INCOME_TOTAL</th>\n",
       "      <th>AMT_CREDIT</th>\n",
       "      <th>AMT_ANNUITY</th>\n",
       "      <th>AMT_GOODS_PRICE</th>\n",
       "      <th>...</th>\n",
       "      <th>REFUSED_HOUR_APPR_PROCESS_START_MAX</th>\n",
       "      <th>REFUSED_HOUR_APPR_PROCESS_START_MEAN</th>\n",
       "      <th>REFUSED_RATE_DOWN_PAYMENT_MIN</th>\n",
       "      <th>REFUSED_RATE_DOWN_PAYMENT_MAX</th>\n",
       "      <th>REFUSED_RATE_DOWN_PAYMENT_MEAN</th>\n",
       "      <th>REFUSED_DAYS_DECISION_MIN</th>\n",
       "      <th>REFUSED_DAYS_DECISION_MAX</th>\n",
       "      <th>REFUSED_DAYS_DECISION_MEAN</th>\n",
       "      <th>REFUSED_CNT_PAYMENT_MEAN</th>\n",
       "      <th>REFUSED_CNT_PAYMENT_SUM</th>\n",
       "    </tr>\n",
       "  </thead>\n",
       "  <tbody>\n",
       "    <tr>\n",
       "      <th>246008</th>\n",
       "      <td>384696</td>\n",
       "      <td>Cash loans</td>\n",
       "      <td>F</td>\n",
       "      <td>0</td>\n",
       "      <td>1</td>\n",
       "      <td>1</td>\n",
       "      <td>180000.0000</td>\n",
       "      <td>545040.0000</td>\n",
       "      <td>36553.5000</td>\n",
       "      <td>450000.0000</td>\n",
       "      <td>...</td>\n",
       "      <td>10.0000</td>\n",
       "      <td>10.0000</td>\n",
       "      <td>NaN</td>\n",
       "      <td>NaN</td>\n",
       "      <td>NaN</td>\n",
       "      <td>-7.0000</td>\n",
       "      <td>-7.0000</td>\n",
       "      <td>-7.0000</td>\n",
       "      <td>24.0000</td>\n",
       "      <td>24.0000</td>\n",
       "    </tr>\n",
       "    <tr>\n",
       "      <th>246009</th>\n",
       "      <td>384697</td>\n",
       "      <td>Cash loans</td>\n",
       "      <td>F</td>\n",
       "      <td>1</td>\n",
       "      <td>1</td>\n",
       "      <td>1</td>\n",
       "      <td>337500.0000</td>\n",
       "      <td>790830.0000</td>\n",
       "      <td>62613.0000</td>\n",
       "      <td>675000.0000</td>\n",
       "      <td>...</td>\n",
       "      <td>NaN</td>\n",
       "      <td>NaN</td>\n",
       "      <td>NaN</td>\n",
       "      <td>NaN</td>\n",
       "      <td>NaN</td>\n",
       "      <td>NaN</td>\n",
       "      <td>NaN</td>\n",
       "      <td>NaN</td>\n",
       "      <td>NaN</td>\n",
       "      <td>NaN</td>\n",
       "    </tr>\n",
       "    <tr>\n",
       "      <th>246010</th>\n",
       "      <td>384698</td>\n",
       "      <td>Cash loans</td>\n",
       "      <td>F</td>\n",
       "      <td>0</td>\n",
       "      <td>1</td>\n",
       "      <td>1</td>\n",
       "      <td>63000.0000</td>\n",
       "      <td>310500.0000</td>\n",
       "      <td>15232.5000</td>\n",
       "      <td>310500.0000</td>\n",
       "      <td>...</td>\n",
       "      <td>NaN</td>\n",
       "      <td>NaN</td>\n",
       "      <td>NaN</td>\n",
       "      <td>NaN</td>\n",
       "      <td>NaN</td>\n",
       "      <td>NaN</td>\n",
       "      <td>NaN</td>\n",
       "      <td>NaN</td>\n",
       "      <td>NaN</td>\n",
       "      <td>NaN</td>\n",
       "    </tr>\n",
       "    <tr>\n",
       "      <th>246011</th>\n",
       "      <td>384699</td>\n",
       "      <td>Cash loans</td>\n",
       "      <td>F</td>\n",
       "      <td>0</td>\n",
       "      <td>0</td>\n",
       "      <td>0</td>\n",
       "      <td>112500.0000</td>\n",
       "      <td>942300.0000</td>\n",
       "      <td>36643.5000</td>\n",
       "      <td>675000.0000</td>\n",
       "      <td>...</td>\n",
       "      <td>NaN</td>\n",
       "      <td>NaN</td>\n",
       "      <td>NaN</td>\n",
       "      <td>NaN</td>\n",
       "      <td>NaN</td>\n",
       "      <td>NaN</td>\n",
       "      <td>NaN</td>\n",
       "      <td>NaN</td>\n",
       "      <td>NaN</td>\n",
       "      <td>NaN</td>\n",
       "    </tr>\n",
       "    <tr>\n",
       "      <th>246012</th>\n",
       "      <td>384700</td>\n",
       "      <td>Cash loans</td>\n",
       "      <td>F</td>\n",
       "      <td>1</td>\n",
       "      <td>1</td>\n",
       "      <td>0</td>\n",
       "      <td>180000.0000</td>\n",
       "      <td>272520.0000</td>\n",
       "      <td>19957.5000</td>\n",
       "      <td>225000.0000</td>\n",
       "      <td>...</td>\n",
       "      <td>NaN</td>\n",
       "      <td>NaN</td>\n",
       "      <td>NaN</td>\n",
       "      <td>NaN</td>\n",
       "      <td>NaN</td>\n",
       "      <td>NaN</td>\n",
       "      <td>NaN</td>\n",
       "      <td>NaN</td>\n",
       "      <td>NaN</td>\n",
       "      <td>NaN</td>\n",
       "    </tr>\n",
       "    <tr>\n",
       "      <th>246013</th>\n",
       "      <td>384701</td>\n",
       "      <td>Cash loans</td>\n",
       "      <td>F</td>\n",
       "      <td>1</td>\n",
       "      <td>0</td>\n",
       "      <td>1</td>\n",
       "      <td>112500.0000</td>\n",
       "      <td>163332.0000</td>\n",
       "      <td>8469.0000</td>\n",
       "      <td>117000.0000</td>\n",
       "      <td>...</td>\n",
       "      <td>NaN</td>\n",
       "      <td>NaN</td>\n",
       "      <td>NaN</td>\n",
       "      <td>NaN</td>\n",
       "      <td>NaN</td>\n",
       "      <td>NaN</td>\n",
       "      <td>NaN</td>\n",
       "      <td>NaN</td>\n",
       "      <td>NaN</td>\n",
       "      <td>NaN</td>\n",
       "    </tr>\n",
       "    <tr>\n",
       "      <th>246014</th>\n",
       "      <td>384702</td>\n",
       "      <td>Cash loans</td>\n",
       "      <td>M</td>\n",
       "      <td>1</td>\n",
       "      <td>1</td>\n",
       "      <td>0</td>\n",
       "      <td>225000.0000</td>\n",
       "      <td>781920.0000</td>\n",
       "      <td>32998.5000</td>\n",
       "      <td>675000.0000</td>\n",
       "      <td>...</td>\n",
       "      <td>NaN</td>\n",
       "      <td>NaN</td>\n",
       "      <td>NaN</td>\n",
       "      <td>NaN</td>\n",
       "      <td>NaN</td>\n",
       "      <td>NaN</td>\n",
       "      <td>NaN</td>\n",
       "      <td>NaN</td>\n",
       "      <td>NaN</td>\n",
       "      <td>NaN</td>\n",
       "    </tr>\n",
       "    <tr>\n",
       "      <th>246015</th>\n",
       "      <td>384703</td>\n",
       "      <td>Cash loans</td>\n",
       "      <td>F</td>\n",
       "      <td>0</td>\n",
       "      <td>1</td>\n",
       "      <td>1</td>\n",
       "      <td>67500.0000</td>\n",
       "      <td>59301.0000</td>\n",
       "      <td>4257.0000</td>\n",
       "      <td>49500.0000</td>\n",
       "      <td>...</td>\n",
       "      <td>NaN</td>\n",
       "      <td>NaN</td>\n",
       "      <td>NaN</td>\n",
       "      <td>NaN</td>\n",
       "      <td>NaN</td>\n",
       "      <td>NaN</td>\n",
       "      <td>NaN</td>\n",
       "      <td>NaN</td>\n",
       "      <td>NaN</td>\n",
       "      <td>NaN</td>\n",
       "    </tr>\n",
       "    <tr>\n",
       "      <th>246016</th>\n",
       "      <td>384704</td>\n",
       "      <td>Cash loans</td>\n",
       "      <td>M</td>\n",
       "      <td>0</td>\n",
       "      <td>0</td>\n",
       "      <td>0</td>\n",
       "      <td>675000.0000</td>\n",
       "      <td>167895.0000</td>\n",
       "      <td>17626.5000</td>\n",
       "      <td>157500.0000</td>\n",
       "      <td>...</td>\n",
       "      <td>10.0000</td>\n",
       "      <td>10.0000</td>\n",
       "      <td>NaN</td>\n",
       "      <td>NaN</td>\n",
       "      <td>NaN</td>\n",
       "      <td>-620.0000</td>\n",
       "      <td>-616.0000</td>\n",
       "      <td>-618.0000</td>\n",
       "      <td>60.0000</td>\n",
       "      <td>120.0000</td>\n",
       "    </tr>\n",
       "    <tr>\n",
       "      <th>246017</th>\n",
       "      <td>384705</td>\n",
       "      <td>Cash loans</td>\n",
       "      <td>F</td>\n",
       "      <td>0</td>\n",
       "      <td>1</td>\n",
       "      <td>1</td>\n",
       "      <td>202500.0000</td>\n",
       "      <td>270000.0000</td>\n",
       "      <td>9828.0000</td>\n",
       "      <td>270000.0000</td>\n",
       "      <td>...</td>\n",
       "      <td>NaN</td>\n",
       "      <td>NaN</td>\n",
       "      <td>NaN</td>\n",
       "      <td>NaN</td>\n",
       "      <td>NaN</td>\n",
       "      <td>NaN</td>\n",
       "      <td>NaN</td>\n",
       "      <td>NaN</td>\n",
       "      <td>NaN</td>\n",
       "      <td>NaN</td>\n",
       "    </tr>\n",
       "  </tbody>\n",
       "</table>\n",
       "<p>10 rows × 377 columns</p>\n",
       "</div>"
      ],
      "text/plain": [
       "        SK_ID_CURR NAME_CONTRACT_TYPE CODE_GENDER  FLAG_OWN_CAR  \\\n",
       "246008      384696         Cash loans           F             0   \n",
       "246009      384697         Cash loans           F             1   \n",
       "246010      384698         Cash loans           F             0   \n",
       "246011      384699         Cash loans           F             0   \n",
       "246012      384700         Cash loans           F             1   \n",
       "246013      384701         Cash loans           F             1   \n",
       "246014      384702         Cash loans           M             1   \n",
       "246015      384703         Cash loans           F             0   \n",
       "246016      384704         Cash loans           M             0   \n",
       "246017      384705         Cash loans           F             0   \n",
       "\n",
       "        FLAG_OWN_REALTY  CNT_CHILDREN  AMT_INCOME_TOTAL  AMT_CREDIT  \\\n",
       "246008                1             1       180000.0000 545040.0000   \n",
       "246009                1             1       337500.0000 790830.0000   \n",
       "246010                1             1        63000.0000 310500.0000   \n",
       "246011                0             0       112500.0000 942300.0000   \n",
       "246012                1             0       180000.0000 272520.0000   \n",
       "246013                0             1       112500.0000 163332.0000   \n",
       "246014                1             0       225000.0000 781920.0000   \n",
       "246015                1             1        67500.0000  59301.0000   \n",
       "246016                0             0       675000.0000 167895.0000   \n",
       "246017                1             1       202500.0000 270000.0000   \n",
       "\n",
       "        AMT_ANNUITY  AMT_GOODS_PRICE  ... REFUSED_HOUR_APPR_PROCESS_START_MAX  \\\n",
       "246008   36553.5000      450000.0000  ...                             10.0000   \n",
       "246009   62613.0000      675000.0000  ...                                 NaN   \n",
       "246010   15232.5000      310500.0000  ...                                 NaN   \n",
       "246011   36643.5000      675000.0000  ...                                 NaN   \n",
       "246012   19957.5000      225000.0000  ...                                 NaN   \n",
       "246013    8469.0000      117000.0000  ...                                 NaN   \n",
       "246014   32998.5000      675000.0000  ...                                 NaN   \n",
       "246015    4257.0000       49500.0000  ...                                 NaN   \n",
       "246016   17626.5000      157500.0000  ...                             10.0000   \n",
       "246017    9828.0000      270000.0000  ...                                 NaN   \n",
       "\n",
       "       REFUSED_HOUR_APPR_PROCESS_START_MEAN REFUSED_RATE_DOWN_PAYMENT_MIN  \\\n",
       "246008                              10.0000                           NaN   \n",
       "246009                                  NaN                           NaN   \n",
       "246010                                  NaN                           NaN   \n",
       "246011                                  NaN                           NaN   \n",
       "246012                                  NaN                           NaN   \n",
       "246013                                  NaN                           NaN   \n",
       "246014                                  NaN                           NaN   \n",
       "246015                                  NaN                           NaN   \n",
       "246016                              10.0000                           NaN   \n",
       "246017                                  NaN                           NaN   \n",
       "\n",
       "       REFUSED_RATE_DOWN_PAYMENT_MAX REFUSED_RATE_DOWN_PAYMENT_MEAN  \\\n",
       "246008                           NaN                            NaN   \n",
       "246009                           NaN                            NaN   \n",
       "246010                           NaN                            NaN   \n",
       "246011                           NaN                            NaN   \n",
       "246012                           NaN                            NaN   \n",
       "246013                           NaN                            NaN   \n",
       "246014                           NaN                            NaN   \n",
       "246015                           NaN                            NaN   \n",
       "246016                           NaN                            NaN   \n",
       "246017                           NaN                            NaN   \n",
       "\n",
       "        REFUSED_DAYS_DECISION_MIN  REFUSED_DAYS_DECISION_MAX  \\\n",
       "246008                    -7.0000                    -7.0000   \n",
       "246009                        NaN                        NaN   \n",
       "246010                        NaN                        NaN   \n",
       "246011                        NaN                        NaN   \n",
       "246012                        NaN                        NaN   \n",
       "246013                        NaN                        NaN   \n",
       "246014                        NaN                        NaN   \n",
       "246015                        NaN                        NaN   \n",
       "246016                  -620.0000                  -616.0000   \n",
       "246017                        NaN                        NaN   \n",
       "\n",
       "        REFUSED_DAYS_DECISION_MEAN  REFUSED_CNT_PAYMENT_MEAN  \\\n",
       "246008                     -7.0000                   24.0000   \n",
       "246009                         NaN                       NaN   \n",
       "246010                         NaN                       NaN   \n",
       "246011                         NaN                       NaN   \n",
       "246012                         NaN                       NaN   \n",
       "246013                         NaN                       NaN   \n",
       "246014                         NaN                       NaN   \n",
       "246015                         NaN                       NaN   \n",
       "246016                   -618.0000                   60.0000   \n",
       "246017                         NaN                       NaN   \n",
       "\n",
       "        REFUSED_CNT_PAYMENT_SUM  \n",
       "246008                  24.0000  \n",
       "246009                      NaN  \n",
       "246010                      NaN  \n",
       "246011                      NaN  \n",
       "246012                      NaN  \n",
       "246013                      NaN  \n",
       "246014                      NaN  \n",
       "246015                      NaN  \n",
       "246016                 120.0000  \n",
       "246017                      NaN  \n",
       "\n",
       "[10 rows x 377 columns]"
      ]
     },
     "execution_count": 658,
     "metadata": {},
     "output_type": "execute_result"
    }
   ],
   "source": [
    "# debug\n",
    "test_config = {\n",
    "    'preprocessing': {\n",
    "        'should_fill_na': False,\n",
    "        'num_imputer': SimpleImputer(strategy='median'),\n",
    "        'cat_imputer': SimpleImputer(strategy='most_frequent'),\n",
    "        'should_scale': True,\n",
    "        'scaler': StandardScaler(),\n",
    "        'use_bureau_and_balance': False,\n",
    "        'use_previous_applications': True\n",
    "    },\n",
    "     'balancing': {\n",
    "        'should_oversample': False,\n",
    "        'with_categorical': False\n",
    "    },\n",
    "    'model_params': {\n",
    "        'random_state': 42\n",
    "    }\n",
    "}\n",
    "\n",
    "time_start = time.time()\n",
    "\n",
    "data = process.load_data(dev_mode=False)\n",
    "\n",
    "X = data['application'].drop(process.TARGET_COLUMN, axis=1)\n",
    "y = data['application'][process.TARGET_COLUMN]\n",
    "\n",
    "X_train, X_test, y_train, y_test = train_test_split(X,\n",
    "                                                      y,\n",
    "                                                      test_size=0.2,\n",
    "                                                      random_state=42,\n",
    "                                                      shuffle=False)\n",
    "\n",
    "print('Train shape: {}'.format(X_train.shape))\n",
    "print('Valid shape: {}'.format(y_train.shape))\n",
    "\n",
    "pipeline = PIPELINES['log_regression'](config=test_config, dev_mode=False)\n",
    "\n",
    "\n",
    "X_new = pipeline.fit(X_train)\n",
    "X_new_test = pipeline.transform(X_test)\n",
    "X_new_test.head(10)"
   ]
  },
  {
   "cell_type": "code",
   "execution_count": null,
   "id": "6d8d438d-a8f7-4729-830d-9a0d9a26ce4b",
   "metadata": {},
   "outputs": [],
   "source": []
  },
  {
   "cell_type": "code",
   "execution_count": 700,
   "id": "f94f7410-fdf6-40aa-beb5-97d1f27b6fd4",
   "metadata": {},
   "outputs": [
    {
     "name": "stdout",
     "output_type": "stream",
     "text": [
      "Training the model\n",
      "Loading application_train ...\n",
      "Loading Done.\n",
      "Train shape: (4000, 121)\n",
      "Valid shape: (4000,)\n"
     ]
    },
    {
     "name": "stderr",
     "output_type": "stream",
     "text": [
      "2023/11/20 14:53:57 WARNING mlflow.sklearn: Training metrics will not be recorded because training labels were not specified. To automatically record training metrics, provide training labels as inputs to the model training function.\n",
      "2023/11/20 14:53:57 WARNING mlflow.sklearn: Failed to infer model signature: the trained model does not have a `predict` or `transform` function, which is required in order to infer the signature\n",
      "2023/11/20 14:53:57 WARNING mlflow.sklearn: Model was missing function: predict. Not logging python_function flavor!\n"
     ]
    },
    {
     "name": "stdout",
     "output_type": "stream",
     "text": [
      "Start pipeline fit and transform\n",
      "[Pipeline] ........... (step 1 of 8) Processing cleaner, total=   0.0s\n",
      "[Pipeline] . (step 2 of 8) Processing feature_extractor, total=   0.0s\n",
      "shape before  (4000, 128)\n",
      "new shape after merge (4000, 244)\n",
      "[Pipeline]  (step 3 of 8) Processing merge_bureau_and_balance, total=   0.0s\n",
      "[Pipeline] ........... (step 4 of 8) Processing imputer, total=   0.1s\n",
      "[Pipeline] ............ (step 5 of 8) Processing scalar, total=   0.0s\n",
      "[Pipeline] ........... (step 6 of 8) Processing encoder, total=   0.0s\n",
      "[Pipeline] ............. (step 7 of 8) Processing smote, total=   1.7s\n"
     ]
    },
    {
     "name": "stderr",
     "output_type": "stream",
     "text": [
      "2023/11/20 14:53:59 WARNING mlflow.utils.autologging_utils: MLflow autologging encountered a warning: \"/Users/natche/opt/anaconda3/envs/tf/lib/python3.9/site-packages/mlflow/data/pandas_dataset.py:116: UserWarning: Hint: Inferred schema contains integer column(s). Integer columns in Python cannot represent missing values. If your input data contains missing values at inference time, it will be encoded as floats and will cause a schema enforcement error. The best way to avoid this problem is to infer the model schema based on a realistic data sample (training dataset) that includes missing values. Alternatively, you can declare integer columns as doubles (float64) whenever these columns may have missing values. See `Handling Integers With Missing Values <https://www.mlflow.org/docs/latest/models.html#handling-integers-with-missing-values>`_ for more details.\"\n",
      "/Users/natche/opt/anaconda3/envs/tf/lib/python3.9/site-packages/sklearn/metrics/_classification.py:1469: UndefinedMetricWarning: Precision is ill-defined and being set to 0.0 in labels with no predicted samples. Use `zero_division` parameter to control this behavior.\n",
      "  _warn_prf(average, modifier, msg_start, len(result))\n",
      "2023/11/20 14:53:59 WARNING mlflow.utils.autologging_utils: MLflow autologging encountered a warning: \"/Users/natche/opt/anaconda3/envs/tf/lib/python3.9/site-packages/mlflow/models/signature.py:212: UserWarning: Hint: Inferred schema contains integer column(s). Integer columns in Python cannot represent missing values. If your input data contains missing values at inference time, it will be encoded as floats and will cause a schema enforcement error. The best way to avoid this problem is to infer the model schema based on a realistic data sample (training dataset) that includes missing values. Alternatively, you can declare integer columns as doubles (float64) whenever these columns may have missing values. See `Handling Integers With Missing Values <https://www.mlflow.org/docs/latest/models.html#handling-integers-with-missing-values>`_ for more details.\"\n",
      "2023/11/20 14:54:01 WARNING mlflow.utils.autologging_utils: Encountered unexpected error during sklearn autologging: The following failures occurred while performing one or more logging operations: [MlflowException('Failed to perform one or more operations on the run with ID 00a3622b0fc64fffb94c75257774cfe6. Failed operations: [MlflowException(\"Changing param values is not allowed. Param with key=\\'verbose\\' was already logged with value=\\'True\\' for run ID=\\'00a3622b0fc64fffb94c75257774cfe6\\'. Attempted logging new value \\'0\\'.\")]')]\n"
     ]
    },
    {
     "name": "stdout",
     "output_type": "stream",
     "text": [
      "[Pipeline] ........ (step 8 of 8) Processing classifier, total=   1.7s\n",
      "shape before  (1000, 128)\n",
      "new shape after merge (1000, 244)\n",
      "shape before  (1000, 128)\n",
      "new shape after merge (1000, 244)\n",
      "TN: 0, FP: 920, FN: 0, TP: 80\n",
      "920\n",
      "-------------------------\n",
      "AUC: 0.5\n",
      "Custom: 0.92\n",
      "Recall: 1.0\n",
      "Precision: 0.08\n",
      "F beta 10: 0.9\n",
      "Accuracy: 0.08\n",
      "Classification report:\n",
      "              precision    recall  f1-score   support\n",
      "\n",
      "           0       0.00      0.00      0.00       920\n",
      "           1       0.08      1.00      0.15        80\n",
      "\n",
      "    accuracy                           0.08      1000\n",
      "   macro avg       0.04      0.50      0.07      1000\n",
      "weighted avg       0.01      0.08      0.01      1000\n",
      "\n",
      "-------------------------\n",
      "execution time: 16.52 seconds \n",
      "\n"
     ]
    },
    {
     "data": {
      "image/png": "[encoded data removed]",
      "text/plain": [
       "<Figure size 640x480 with 1 Axes>"
      ]
     },
     "metadata": {},
     "output_type": "display_data"
    }
   ],
   "source": [
    "test_config = {\n",
    "    'preprocessing': {\n",
    "        'should_fill_na': True,\n",
    "        'num_imputer': SimpleImputer(strategy='median'),\n",
    "        'cat_imputer': SimpleImputer(strategy='most_frequent'),\n",
    "        'should_scale': True,\n",
    "        'scaler': StandardScaler(),\n",
    "        'use_bureau_and_balance': True,\n",
    "        'use_previous_applications': False\n",
    "    },\n",
    "     'balancing': {\n",
    "        'should_oversample': True,\n",
    "        'with_categorical': False\n",
    "    },\n",
    "    'model_params': {\n",
    "        'random_state': 42\n",
    "    }\n",
    "}\n",
    "\n",
    "train('log_regression', config=test_config, dev_mode=True)"
   ]
  },
  {
   "cell_type": "code",
   "execution_count": null,
   "id": "c9cd7cfd-f69a-48ce-be38-fce89ab332c4",
   "metadata": {},
   "outputs": [],
   "source": []
  },
  {
   "cell_type": "code",
   "execution_count": null,
   "id": "868eab7f-c27d-48c1-a56c-fe7a741af864",
   "metadata": {},
   "outputs": [],
   "source": []
  },
  {
   "cell_type": "code",
   "execution_count": null,
   "id": "e6abaa29-822b-4879-a8df-ef8df5f1b2cb",
   "metadata": {},
   "outputs": [],
   "source": []
  },
  {
   "cell_type": "markdown",
   "id": "70c8cd9c-a20a-425b-a37a-fd0270c4b127",
   "metadata": {},
   "source": [
    "# Experiments\n",
    "## Dummy classifier\n",
    "\n",
    "Set the baseline with the Dummy Classifier"
   ]
  },
  {
   "cell_type": "code",
   "execution_count": 515,
   "id": "33bef21a-f03b-4cc8-9f82-79ebe8fb32dc",
   "metadata": {},
   "outputs": [
    {
     "name": "stdout",
     "output_type": "stream",
     "text": [
      "Training the model\n",
      "Loading application_train ...\n"
     ]
    },
    {
     "name": "stderr",
     "output_type": "stream",
     "text": [
      "2023/11/15 10:24:13 INFO mlflow.utils.autologging_utils: Created MLflow autologging run with ID '99efc56521ce44b68edbd0288454132d', which will track hyperparameters, performance metrics, model artifacts, and lineage information for the current sklearn workflow\n"
     ]
    },
    {
     "name": "stdout",
     "output_type": "stream",
     "text": [
      "Loading Done.\n",
      "Train shape: (246008, 121)\n",
      "Valid shape: (246008,)\n",
      "Start pipeline fit and transform\n"
     ]
    },
    {
     "name": "stderr",
     "output_type": "stream",
     "text": [
      "2023/11/15 10:24:15 WARNING mlflow.data.pandas_dataset: Failed to infer schema for Pandas dataset. Exception: Unable to map 'object' type to MLflow DataType. object can be mapped iff all values have identical data type which is one of (string, (bytes or byterray),  int, float).\n",
      "/Users/natche/opt/anaconda3/envs/tf/lib/python3.9/site-packages/sklearn/metrics/_classification.py:1469: UndefinedMetricWarning: Precision is ill-defined and being set to 0.0 in labels with no predicted samples. Use `zero_division` parameter to control this behavior.\n",
      "  _warn_prf(average, modifier, msg_start, len(result))\n",
      "2023/11/15 10:24:16 WARNING mlflow.sklearn: Failed to infer model signature: Unable to map 'object' type to MLflow DataType. object can be mapped iff all values have identical data type which is one of (string, (bytes or byterray),  int, float).\n",
      "2023/11/15 10:24:18 WARNING mlflow.data.pandas_dataset: Failed to infer schema for Pandas dataset. Exception: Unable to map 'object' type to MLflow DataType. object can be mapped iff all values have identical data type which is one of (string, (bytes or byterray),  int, float).\n",
      "2023/11/15 10:24:19 WARNING mlflow.data.pandas_dataset: Failed to infer schema for Pandas dataset. Exception: Unable to map 'object' type to MLflow DataType. object can be mapped iff all values have identical data type which is one of (string, (bytes or byterray),  int, float).\n"
     ]
    },
    {
     "name": "stdout",
     "output_type": "stream",
     "text": [
      "-------------------------\n",
      "ROC AUC: 0.5\n",
      "Accuracy: 0.92\n",
      "Fbeta score(b=10): 0.0\n",
      "Classification report:\n",
      "              precision    recall  f1-score   support\n",
      "\n",
      "           0       0.92      1.00      0.96     56619\n",
      "           1       0.00      0.00      0.00      4884\n",
      "\n",
      "    accuracy                           0.92     61503\n",
      "   macro avg       0.46      0.50      0.48     61503\n",
      "weighted avg       0.85      0.92      0.88     61503\n",
      "\n",
      "-------------------------\n",
      "execution time: 8.94 seconds \n",
      "\n"
     ]
    },
    {
     "data": {
      "image/png": "[encoded data removed]",
      "text/plain": [
       "<Figure size 640x480 with 1 Axes>"
      ]
     },
     "metadata": {},
     "output_type": "display_data"
    }
   ],
   "source": [
    "train('dummy', config={'strategy': 'prior'}, dev_mode=False)"
   ]
  },
  {
   "cell_type": "markdown",
   "id": "15d46829-1951-4307-aa84-92f612b03a36",
   "metadata": {},
   "source": [
    "TODO: explanation"
   ]
  },
  {
   "cell_type": "markdown",
   "id": "68c91425-f367-4324-9e3a-143e0acfbe31",
   "metadata": {},
   "source": [
    "## Logistic Regression"
   ]
  },
  {
   "cell_type": "markdown",
   "id": "15f1ac50-88af-4dbe-9516-ba98f0eae9af",
   "metadata": {},
   "source": [
    "We will start with the most simple configuration."
   ]
  },
  {
   "cell_type": "code",
   "execution_count": 576,
   "id": "982f93f9-8eeb-4595-9b4d-3314a98c70d6",
   "metadata": {},
   "outputs": [],
   "source": [
    "# Set the experiment\n",
    "mlflow.set_experiment(\"Logistic Regression\")\n",
    "\n",
    "# Track models automatically\n",
    "mlflow.sklearn.autolog()"
   ]
  },
  {
   "cell_type": "code",
   "execution_count": 663,
   "id": "dcd757bf-1a58-4211-aab6-c5031b75f5f3",
   "metadata": {},
   "outputs": [],
   "source": [
    "config = {\n",
    "    'preprocessing': {\n",
    "        'should_fill_na': True,\n",
    "        'num_imputer': SimpleImputer(strategy='median'),\n",
    "        'cat_imputer': SimpleImputer(strategy='most_frequent'),\n",
    "        'should_scale': True,\n",
    "        'scaler': StandardScaler(),\n",
    "        'use_bureau_and_balance': False,\n",
    "        'use_previous_applications': False\n",
    "    },\n",
    "     'balancing': {\n",
    "        'should_oversample': False,\n",
    "        'with_categorical': False\n",
    "    },\n",
    "    'model_params': {\n",
    "        'random_state': 42\n",
    "    }\n",
    "}"
   ]
  },
  {
   "cell_type": "code",
   "execution_count": 535,
   "id": "655e9dec-b6aa-48bc-96b6-cc76fd827531",
   "metadata": {
    "scrolled": true
   },
   "outputs": [
    {
     "name": "stderr",
     "output_type": "stream",
     "text": [
      "2023/11/15 11:00:09 WARNING mlflow.sklearn: Training metrics will not be recorded because training labels were not specified. To automatically record training metrics, provide training labels as inputs to the model training function.\n",
      "2023/11/15 11:00:09 WARNING mlflow.sklearn: Failed to infer model signature: the trained model does not have a `predict` or `transform` function, which is required in order to infer the signature\n",
      "2023/11/15 11:00:09 WARNING mlflow.sklearn: Model was missing function: predict. Not logging python_function flavor!\n"
     ]
    },
    {
     "name": "stdout",
     "output_type": "stream",
     "text": [
      "Training the model\n",
      "Loading application_train ...\n",
      "Loading Done.\n",
      "Train shape: (800, 121)\n",
      "Valid shape: (800,)\n",
      "Start pipeline fit and transform\n",
      "[Pipeline] ........... (step 1 of 7) Processing cleaner, total=   0.0s\n",
      "[Pipeline] . (step 2 of 7) Processing feature_extractor, total=   0.0s\n",
      "[Pipeline] ........... (step 3 of 7) Processing imputer, total=   0.0s\n",
      "[Pipeline] ............ (step 4 of 7) Processing scalar, total=   0.0s\n"
     ]
    },
    {
     "name": "stderr",
     "output_type": "stream",
     "text": [
      "2023/11/15 11:00:10 WARNING mlflow.models.model: Logging model metadata to the tracking server has failed. The model artifacts have been logged successfully under file:///Users/natche/Jupiter/Project%207/mlruns/972159027913578879/6a92fa47e6664e7490737cc069bfcc52/artifacts. Set logging level to DEBUG via `logging.getLogger(\"mlflow\").setLevel(logging.DEBUG)` to see the full traceback.\n",
      "2023/11/15 11:00:10 WARNING mlflow.utils.autologging_utils: Encountered unexpected error during sklearn autologging: The following failures occurred while performing one or more logging operations: [MlflowException('Failed to perform one or more operations on the run with ID 6a92fa47e6664e7490737cc069bfcc52. Failed operations: [MlflowException(\"The run 6a92fa47e6664e7490737cc069bfcc52 must be in \\'active\\' lifecycle_stage.\"), MlflowException(\"The run 6a92fa47e6664e7490737cc069bfcc52 must be in \\'active\\' lifecycle_stage.\")]')]\n",
      "2023/11/15 11:00:10 WARNING mlflow.utils.autologging_utils: MLflow autologging encountered a warning: \"/Users/natche/opt/anaconda3/envs/tf/lib/python3.9/site-packages/mlflow/data/pandas_dataset.py:116: UserWarning: Hint: Inferred schema contains integer column(s). Integer columns in Python cannot represent missing values. If your input data contains missing values at inference time, it will be encoded as floats and will cause a schema enforcement error. The best way to avoid this problem is to infer the model schema based on a realistic data sample (training dataset) that includes missing values. Alternatively, you can declare integer columns as doubles (float64) whenever these columns may have missing values. See `Handling Integers With Missing Values <https://www.mlflow.org/docs/latest/models.html#handling-integers-with-missing-values>`_ for more details.\"\n",
      "/Users/natche/opt/anaconda3/envs/tf/lib/python3.9/site-packages/sklearn/metrics/_classification.py:1469: UndefinedMetricWarning: Precision is ill-defined and being set to 0.0 in labels with no predicted samples. Use `zero_division` parameter to control this behavior.\n",
      "  _warn_prf(average, modifier, msg_start, len(result))\n"
     ]
    },
    {
     "name": "stdout",
     "output_type": "stream",
     "text": [
      "[Pipeline] .......... (step 5 of 7) Processing smote_nc, total=   1.3s\n",
      "[Pipeline] ........... (step 6 of 7) Processing encoder, total=   0.0s\n"
     ]
    },
    {
     "name": "stderr",
     "output_type": "stream",
     "text": [
      "2023/11/15 11:00:11 WARNING mlflow.utils.autologging_utils: MLflow autologging encountered a warning: \"/Users/natche/opt/anaconda3/envs/tf/lib/python3.9/site-packages/mlflow/models/signature.py:212: UserWarning: Hint: Inferred schema contains integer column(s). Integer columns in Python cannot represent missing values. If your input data contains missing values at inference time, it will be encoded as floats and will cause a schema enforcement error. The best way to avoid this problem is to infer the model schema based on a realistic data sample (training dataset) that includes missing values. Alternatively, you can declare integer columns as doubles (float64) whenever these columns may have missing values. See `Handling Integers With Missing Values <https://www.mlflow.org/docs/latest/models.html#handling-integers-with-missing-values>`_ for more details.\"\n",
      "2023/11/15 11:00:12 WARNING mlflow.models.model: Logging model metadata to the tracking server has failed. The model artifacts have been logged successfully under file:///Users/natche/Jupiter/Project%207/mlruns/972159027913578879/6a92fa47e6664e7490737cc069bfcc52/artifacts. Set logging level to DEBUG via `logging.getLogger(\"mlflow\").setLevel(logging.DEBUG)` to see the full traceback.\n",
      "2023/11/15 11:00:12 WARNING mlflow.utils.autologging_utils: Encountered unexpected error during sklearn autologging: The following failures occurred while performing one or more logging operations: [MlflowException('Failed to perform one or more operations on the run with ID 6a92fa47e6664e7490737cc069bfcc52. Failed operations: [MlflowException(\"The run 6a92fa47e6664e7490737cc069bfcc52 must be in \\'active\\' lifecycle_stage.\")]')]\n"
     ]
    },
    {
     "name": "stdout",
     "output_type": "stream",
     "text": [
      "[Pipeline] ........ (step 7 of 7) Processing classifier, total=   1.5s\n",
      "-------------------------\n",
      "ROC AUC: 0.5\n"
     ]
    },
    {
     "ename": "MlflowException",
     "evalue": "The run 6a92fa47e6664e7490737cc069bfcc52 must be in 'active' lifecycle_stage.",
     "output_type": "error",
     "traceback": [
      "\u001b[0;31m---------------------------------------------------------------------------\u001b[0m",
      "\u001b[0;31mMlflowException\u001b[0m                           Traceback (most recent call last)",
      "Cell \u001b[0;32mIn[535], line 5\u001b[0m\n\u001b[1;32m      2\u001b[0m config[\u001b[38;5;124m'\u001b[39m\u001b[38;5;124mbalancing\u001b[39m\u001b[38;5;124m'\u001b[39m][\u001b[38;5;124m'\u001b[39m\u001b[38;5;124mshould_oversample\u001b[39m\u001b[38;5;124m'\u001b[39m] \u001b[38;5;241m=\u001b[39m \u001b[38;5;28;01mTrue\u001b[39;00m\n\u001b[1;32m      3\u001b[0m config[\u001b[38;5;124m'\u001b[39m\u001b[38;5;124mbalancing\u001b[39m\u001b[38;5;124m'\u001b[39m][\u001b[38;5;124m'\u001b[39m\u001b[38;5;124mwith_categorical\u001b[39m\u001b[38;5;124m'\u001b[39m] \u001b[38;5;241m=\u001b[39m \u001b[38;5;28;01mTrue\u001b[39;00m\n\u001b[0;32m----> 5\u001b[0m \u001b[43mtrain\u001b[49m\u001b[43m(\u001b[49m\u001b[38;5;124;43m'\u001b[39;49m\u001b[38;5;124;43mlog_regression\u001b[39;49m\u001b[38;5;124;43m'\u001b[39;49m\u001b[43m,\u001b[49m\u001b[43m \u001b[49m\u001b[43mconfig\u001b[49m\u001b[43m,\u001b[49m\u001b[43m \u001b[49m\u001b[43mdev_mode\u001b[49m\u001b[38;5;241;43m=\u001b[39;49m\u001b[38;5;28;43;01mTrue\u001b[39;49;00m\u001b[43m)\u001b[49m\n",
      "Cell \u001b[0;32mIn[531], line 27\u001b[0m, in \u001b[0;36mtrain\u001b[0;34m(pipeline_name, config, dev_mode)\u001b[0m\n\u001b[1;32m     24\u001b[0m y_pred \u001b[38;5;241m=\u001b[39m pipeline\u001b[38;5;241m.\u001b[39mpredict(X_test)\n\u001b[1;32m     25\u001b[0m y_pred_proba \u001b[38;5;241m=\u001b[39m pipeline\u001b[38;5;241m.\u001b[39mpredict_proba(X_test)[::,\u001b[38;5;241m1\u001b[39m]\n\u001b[0;32m---> 27\u001b[0m \u001b[43mdisplay_scores\u001b[49m\u001b[43m(\u001b[49m\u001b[43my_test\u001b[49m\u001b[43m,\u001b[49m\u001b[43m \u001b[49m\u001b[43my_pred\u001b[49m\u001b[43m,\u001b[49m\u001b[43m \u001b[49m\u001b[43my_pred_proba\u001b[49m\u001b[43m,\u001b[49m\u001b[43m \u001b[49m\u001b[43mname\u001b[49m\u001b[38;5;241;43m=\u001b[39;49m\u001b[43mpipeline_name\u001b[49m\u001b[43m)\u001b[49m\n\u001b[1;32m     29\u001b[0m mlflow\u001b[38;5;241m.\u001b[39msklearn\u001b[38;5;241m.\u001b[39mlog_model(pipeline, pipeline_name)\n\u001b[1;32m     31\u001b[0m exec_time \u001b[38;5;241m=\u001b[39m \u001b[38;5;28mround\u001b[39m((time\u001b[38;5;241m.\u001b[39mtime() \u001b[38;5;241m-\u001b[39m time_start), \u001b[38;5;241m2\u001b[39m)\n",
      "Cell \u001b[0;32mIn[530], line 7\u001b[0m, in \u001b[0;36mdisplay_scores\u001b[0;34m(y_true, y_pred, y_pred_proba, name)\u001b[0m\n\u001b[1;32m      5\u001b[0m roc_auc \u001b[38;5;241m=\u001b[39m \u001b[38;5;28mround\u001b[39m(roc_auc_score(y_true, y_pred), \u001b[38;5;241m2\u001b[39m)\n\u001b[1;32m      6\u001b[0m \u001b[38;5;28mprint\u001b[39m(\u001b[38;5;124mf\u001b[39m\u001b[38;5;124m'\u001b[39m\u001b[38;5;124mROC AUC: \u001b[39m\u001b[38;5;132;01m{\u001b[39;00mroc_auc\u001b[38;5;132;01m}\u001b[39;00m\u001b[38;5;124m'\u001b[39m)\n\u001b[0;32m----> 7\u001b[0m \u001b[43mmlflow\u001b[49m\u001b[38;5;241;43m.\u001b[39;49m\u001b[43mlog_metric\u001b[49m\u001b[43m(\u001b[49m\u001b[38;5;124;43m\"\u001b[39;49m\u001b[38;5;124;43mAUC\u001b[39;49m\u001b[38;5;124;43m\"\u001b[39;49m\u001b[43m,\u001b[49m\u001b[43m \u001b[49m\u001b[43mroc_auc\u001b[49m\u001b[43m)\u001b[49m\n\u001b[1;32m      9\u001b[0m \u001b[38;5;66;03m# Accuracy\u001b[39;00m\n\u001b[1;32m     10\u001b[0m accuracy \u001b[38;5;241m=\u001b[39m \u001b[38;5;28mround\u001b[39m(accuracy_score(y_true, y_pred, normalize\u001b[38;5;241m=\u001b[39m\u001b[38;5;28;01mTrue\u001b[39;00m), \u001b[38;5;241m2\u001b[39m)\n",
      "File \u001b[0;32m~/opt/anaconda3/envs/tf/lib/python3.9/site-packages/mlflow/tracking/fluent.py:699\u001b[0m, in \u001b[0;36mlog_metric\u001b[0;34m(key, value, step)\u001b[0m\n\u001b[1;32m    675\u001b[0m \u001b[38;5;250m\u001b[39m\u001b[38;5;124;03m\"\"\"\u001b[39;00m\n\u001b[1;32m    676\u001b[0m \u001b[38;5;124;03mLog a metric under the current run. If no run is active, this method will create\u001b[39;00m\n\u001b[1;32m    677\u001b[0m \u001b[38;5;124;03ma new active run.\u001b[39;00m\n\u001b[0;32m   (...)\u001b[0m\n\u001b[1;32m    696\u001b[0m \u001b[38;5;124;03m        mlflow.log_metric(\"mse\", 2500.00)\u001b[39;00m\n\u001b[1;32m    697\u001b[0m \u001b[38;5;124;03m\"\"\"\u001b[39;00m\n\u001b[1;32m    698\u001b[0m run_id \u001b[38;5;241m=\u001b[39m _get_or_start_run()\u001b[38;5;241m.\u001b[39minfo\u001b[38;5;241m.\u001b[39mrun_id\n\u001b[0;32m--> 699\u001b[0m \u001b[43mMlflowClient\u001b[49m\u001b[43m(\u001b[49m\u001b[43m)\u001b[49m\u001b[38;5;241;43m.\u001b[39;49m\u001b[43mlog_metric\u001b[49m\u001b[43m(\u001b[49m\u001b[43mrun_id\u001b[49m\u001b[43m,\u001b[49m\u001b[43m \u001b[49m\u001b[43mkey\u001b[49m\u001b[43m,\u001b[49m\u001b[43m \u001b[49m\u001b[43mvalue\u001b[49m\u001b[43m,\u001b[49m\u001b[43m \u001b[49m\u001b[43mget_current_time_millis\u001b[49m\u001b[43m(\u001b[49m\u001b[43m)\u001b[49m\u001b[43m,\u001b[49m\u001b[43m \u001b[49m\u001b[43mstep\u001b[49m\u001b[43m \u001b[49m\u001b[38;5;129;43;01mor\u001b[39;49;00m\u001b[43m \u001b[49m\u001b[38;5;241;43m0\u001b[39;49m\u001b[43m)\u001b[49m\n",
      "File \u001b[0;32m~/opt/anaconda3/envs/tf/lib/python3.9/site-packages/mlflow/tracking/client.py:750\u001b[0m, in \u001b[0;36mMlflowClient.log_metric\u001b[0;34m(self, run_id, key, value, timestamp, step)\u001b[0m\n\u001b[1;32m    685\u001b[0m \u001b[38;5;28;01mdef\u001b[39;00m \u001b[38;5;21mlog_metric\u001b[39m(\n\u001b[1;32m    686\u001b[0m     \u001b[38;5;28mself\u001b[39m,\n\u001b[1;32m    687\u001b[0m     run_id: \u001b[38;5;28mstr\u001b[39m,\n\u001b[0;32m   (...)\u001b[0m\n\u001b[1;32m    691\u001b[0m     step: Optional[\u001b[38;5;28mint\u001b[39m] \u001b[38;5;241m=\u001b[39m \u001b[38;5;28;01mNone\u001b[39;00m,\n\u001b[1;32m    692\u001b[0m ) \u001b[38;5;241m-\u001b[39m\u001b[38;5;241m>\u001b[39m \u001b[38;5;28;01mNone\u001b[39;00m:\n\u001b[1;32m    693\u001b[0m \u001b[38;5;250m    \u001b[39m\u001b[38;5;124;03m\"\"\"\u001b[39;00m\n\u001b[1;32m    694\u001b[0m \u001b[38;5;124;03m    Log a metric against the run ID.\u001b[39;00m\n\u001b[1;32m    695\u001b[0m \n\u001b[0;32m   (...)\u001b[0m\n\u001b[1;32m    748\u001b[0m \u001b[38;5;124;03m        status: FINISHED\u001b[39;00m\n\u001b[1;32m    749\u001b[0m \u001b[38;5;124;03m    \"\"\"\u001b[39;00m\n\u001b[0;32m--> 750\u001b[0m     \u001b[38;5;28;43mself\u001b[39;49m\u001b[38;5;241;43m.\u001b[39;49m\u001b[43m_tracking_client\u001b[49m\u001b[38;5;241;43m.\u001b[39;49m\u001b[43mlog_metric\u001b[49m\u001b[43m(\u001b[49m\u001b[43mrun_id\u001b[49m\u001b[43m,\u001b[49m\u001b[43m \u001b[49m\u001b[43mkey\u001b[49m\u001b[43m,\u001b[49m\u001b[43m \u001b[49m\u001b[43mvalue\u001b[49m\u001b[43m,\u001b[49m\u001b[43m \u001b[49m\u001b[43mtimestamp\u001b[49m\u001b[43m,\u001b[49m\u001b[43m \u001b[49m\u001b[43mstep\u001b[49m\u001b[43m)\u001b[49m\n",
      "File \u001b[0;32m~/opt/anaconda3/envs/tf/lib/python3.9/site-packages/mlflow/tracking/_tracking_service/client.py:286\u001b[0m, in \u001b[0;36mTrackingServiceClient.log_metric\u001b[0;34m(self, run_id, key, value, timestamp, step)\u001b[0m\n\u001b[1;32m    284\u001b[0m metric_value \u001b[38;5;241m=\u001b[39m convert_metric_value_to_float_if_possible(value)\n\u001b[1;32m    285\u001b[0m metric \u001b[38;5;241m=\u001b[39m Metric(key, metric_value, timestamp, step)\n\u001b[0;32m--> 286\u001b[0m \u001b[38;5;28;43mself\u001b[39;49m\u001b[38;5;241;43m.\u001b[39;49m\u001b[43mstore\u001b[49m\u001b[38;5;241;43m.\u001b[39;49m\u001b[43mlog_metric\u001b[49m\u001b[43m(\u001b[49m\u001b[43mrun_id\u001b[49m\u001b[43m,\u001b[49m\u001b[43m \u001b[49m\u001b[43mmetric\u001b[49m\u001b[43m)\u001b[49m\n",
      "File \u001b[0;32m~/opt/anaconda3/envs/tf/lib/python3.9/site-packages/mlflow/store/tracking/file_store.py:926\u001b[0m, in \u001b[0;36mFileStore.log_metric\u001b[0;34m(self, run_id, metric)\u001b[0m\n\u001b[1;32m    924\u001b[0m _validate_metric(metric\u001b[38;5;241m.\u001b[39mkey, metric\u001b[38;5;241m.\u001b[39mvalue, metric\u001b[38;5;241m.\u001b[39mtimestamp, metric\u001b[38;5;241m.\u001b[39mstep)\n\u001b[1;32m    925\u001b[0m run_info \u001b[38;5;241m=\u001b[39m \u001b[38;5;28mself\u001b[39m\u001b[38;5;241m.\u001b[39m_get_run_info(run_id)\n\u001b[0;32m--> 926\u001b[0m \u001b[43mcheck_run_is_active\u001b[49m\u001b[43m(\u001b[49m\u001b[43mrun_info\u001b[49m\u001b[43m)\u001b[49m\n\u001b[1;32m    927\u001b[0m \u001b[38;5;28mself\u001b[39m\u001b[38;5;241m.\u001b[39m_log_run_metric(run_info, metric)\n",
      "File \u001b[0;32m~/opt/anaconda3/envs/tf/lib/python3.9/site-packages/mlflow/entities/run_info.py:11\u001b[0m, in \u001b[0;36mcheck_run_is_active\u001b[0;34m(run_info)\u001b[0m\n\u001b[1;32m      9\u001b[0m \u001b[38;5;28;01mdef\u001b[39;00m \u001b[38;5;21mcheck_run_is_active\u001b[39m(run_info):\n\u001b[1;32m     10\u001b[0m     \u001b[38;5;28;01mif\u001b[39;00m run_info\u001b[38;5;241m.\u001b[39mlifecycle_stage \u001b[38;5;241m!=\u001b[39m LifecycleStage\u001b[38;5;241m.\u001b[39mACTIVE:\n\u001b[0;32m---> 11\u001b[0m         \u001b[38;5;28;01mraise\u001b[39;00m MlflowException(\n\u001b[1;32m     12\u001b[0m             \u001b[38;5;124mf\u001b[39m\u001b[38;5;124m\"\u001b[39m\u001b[38;5;124mThe run \u001b[39m\u001b[38;5;132;01m{\u001b[39;00mrun_info\u001b[38;5;241m.\u001b[39mrun_id\u001b[38;5;132;01m}\u001b[39;00m\u001b[38;5;124m must be in \u001b[39m\u001b[38;5;124m'\u001b[39m\u001b[38;5;124mactive\u001b[39m\u001b[38;5;124m'\u001b[39m\u001b[38;5;124m lifecycle_stage.\u001b[39m\u001b[38;5;124m\"\u001b[39m,\n\u001b[1;32m     13\u001b[0m             error_code\u001b[38;5;241m=\u001b[39mINVALID_PARAMETER_VALUE,\n\u001b[1;32m     14\u001b[0m         )\n",
      "\u001b[0;31mMlflowException\u001b[0m: The run 6a92fa47e6664e7490737cc069bfcc52 must be in 'active' lifecycle_stage."
     ]
    }
   ],
   "source": [
    "# test on sample\n",
    "config['balancing']['should_oversample'] = True\n",
    "config['balancing']['with_categorical'] = True\n",
    "\n",
    "train('log_regression', config, dev_mode=True)"
   ]
  },
  {
   "cell_type": "markdown",
   "id": "a897ee6f-21c5-412f-891b-f80c0585dff7",
   "metadata": {},
   "source": [
    "### Baseline"
   ]
  },
  {
   "cell_type": "code",
   "execution_count": 584,
   "id": "a65563d1-eb5b-4203-8d96-da331a286ed9",
   "metadata": {},
   "outputs": [],
   "source": [
    "mlflow.end_run()"
   ]
  },
  {
   "cell_type": "code",
   "execution_count": 703,
   "id": "cd3eecfc-efc9-4bc0-92ee-fd239d158707",
   "metadata": {},
   "outputs": [
    {
     "name": "stdout",
     "output_type": "stream",
     "text": [
      "Training the model\n",
      "Loading application_train ...\n",
      "Loading Done.\n",
      "Train shape: (246008, 121)\n",
      "Valid shape: (246008,)\n",
      "Start pipeline fit and transform\n"
     ]
    },
    {
     "name": "stderr",
     "output_type": "stream",
     "text": [
      "2023/11/20 14:55:27 WARNING mlflow.utils: Truncated the value of the key `steps`. Truncated value: `[('preprocessor', Pipeline(steps=[('cleaner', ApplicationCleaner()),\n",
      "                ('feature_extractor', ApplicationFeaturesExtractor()),\n",
      "                ('imputer',\n",
      "                 ApplicationImputer(cat_imputer=SimpleImputer(strategy='most_frequent'),\n",
      "                                    num_imputer=SimpleImputer(strategy='median'))),\n",
      "                ('scalar', ApplicationScaler(scaler=StandardScaler())),\n",
      "                ('encoder', ApplicationEncoder())],\n",
      "         verbose=True)), ('class...`\n",
      "2023/11/20 14:55:29 WARNING mlflow.data.pandas_dataset: Failed to infer schema for Pandas dataset. Exception: Unable to map 'object' type to MLflow DataType. object can be mapped iff all values have identical data type which is one of (string, (bytes or byterray),  int, float).\n"
     ]
    },
    {
     "name": "stdout",
     "output_type": "stream",
     "text": [
      "[Pipeline] ........... (step 1 of 5) Processing cleaner, total=   0.7s\n",
      "[Pipeline] . (step 2 of 5) Processing feature_extractor, total=   0.0s\n",
      "[Pipeline] ........... (step 3 of 5) Processing imputer, total=   2.1s\n",
      "[Pipeline] ............ (step 4 of 5) Processing scalar, total=   0.3s\n",
      "[Pipeline] ........... (step 5 of 5) Processing encoder, total=   1.2s\n",
      "[Pipeline] ...... (step 1 of 2) Processing preprocessor, total=   4.3s\n",
      "[Pipeline] ........ (step 2 of 2) Processing classifier, total=   0.9s\n"
     ]
    },
    {
     "name": "stderr",
     "output_type": "stream",
     "text": [
      "/Users/natche/opt/anaconda3/envs/tf/lib/python3.9/site-packages/sklearn/metrics/_classification.py:1469: UndefinedMetricWarning: Precision is ill-defined and being set to 0.0 in labels with no predicted samples. Use `zero_division` parameter to control this behavior.\n",
      "  _warn_prf(average, modifier, msg_start, len(result))\n",
      "2023/11/20 14:55:44 WARNING mlflow.sklearn: Failed to infer model signature: Unable to map 'object' type to MLflow DataType. object can be mapped iff all values have identical data type which is one of (string, (bytes or byterray),  int, float).\n",
      "2023/11/20 14:55:47 WARNING mlflow.data.pandas_dataset: Failed to infer schema for Pandas dataset. Exception: Unable to map 'object' type to MLflow DataType. object can be mapped iff all values have identical data type which is one of (string, (bytes or byterray),  int, float).\n",
      "2023/11/20 14:55:48 WARNING mlflow.data.pandas_dataset: Failed to infer schema for Pandas dataset. Exception: Unable to map 'object' type to MLflow DataType. object can be mapped iff all values have identical data type which is one of (string, (bytes or byterray),  int, float).\n",
      "/Users/natche/opt/anaconda3/envs/tf/lib/python3.9/site-packages/sklearn/metrics/_classification.py:1469: UndefinedMetricWarning: Precision is ill-defined and being set to 0.0 due to no predicted samples. Use `zero_division` parameter to control this behavior.\n",
      "  _warn_prf(average, modifier, msg_start, len(result))\n"
     ]
    },
    {
     "name": "stdout",
     "output_type": "stream",
     "text": [
      "TN: 56619, FP: 0, FN: 4884, TP: 0\n",
      "48840\n",
      "-------------------------\n",
      "AUC: 0.5\n",
      "Custom: 0.79\n",
      "Recall: 0.0\n",
      "Precision: 0.0\n",
      "F beta 10: 0.0\n",
      "Accuracy: 0.92\n",
      "Classification report:\n",
      "              precision    recall  f1-score   support\n",
      "\n",
      "           0       0.92      1.00      0.96     56619\n",
      "           1       0.00      0.00      0.00      4884\n",
      "\n",
      "    accuracy                           0.92     61503\n",
      "   macro avg       0.46      0.50      0.48     61503\n",
      "weighted avg       0.85      0.92      0.88     61503\n",
      "\n",
      "-------------------------\n",
      "execution time: 24.51 seconds \n",
      "\n"
     ]
    },
    {
     "data": {
      "image/png": "[encoded data removed]",
      "text/plain": [
       "<Figure size 640x480 with 1 Axes>"
      ]
     },
     "metadata": {},
     "output_type": "display_data"
    }
   ],
   "source": [
    "base_config = {\n",
    "    'preprocessing': {\n",
    "        'should_fill_na': True,\n",
    "        'num_imputer': SimpleImputer(strategy='median'),\n",
    "        'cat_imputer': SimpleImputer(strategy='most_frequent'),\n",
    "        'should_scale': True,\n",
    "        'scaler': StandardScaler(),\n",
    "        'use_bureau_and_balance': False,\n",
    "        'use_previous_applications': False\n",
    "    },\n",
    "     'balancing': {\n",
    "        'should_oversample': False,\n",
    "        'with_categorical': False\n",
    "    },\n",
    "    'model_params': {\n",
    "        'random_state': 42\n",
    "    }\n",
    "}\n",
    "\n",
    "with mlflow.start_run(run_name = 'log_regression_baseline'):\n",
    "    train('log_regression', config=base_config, dev_mode=False)\n",
    "\n",
    "mlflow.end_run()"
   ]
  },
  {
   "cell_type": "code",
   "execution_count": 702,
   "id": "858e50d4-b326-4fa2-b112-bd297fc27278",
   "metadata": {},
   "outputs": [],
   "source": [
    "mlflow.end_run()"
   ]
  },
  {
   "cell_type": "markdown",
   "id": "c6dbe8ea-307b-4ae9-8b17-d4aebf5db103",
   "metadata": {},
   "source": [
    "### With SMOTE"
   ]
  },
  {
   "cell_type": "code",
   "execution_count": 665,
   "id": "796f2248-9b61-4942-815d-dad2619cbfeb",
   "metadata": {},
   "outputs": [],
   "source": [
    "smote_config = {\n",
    "    'preprocessing': {\n",
    "        'should_fill_na': True,\n",
    "        'num_imputer': SimpleImputer(strategy='median'),\n",
    "        'cat_imputer': SimpleImputer(strategy='most_frequent'),\n",
    "        'should_scale': True,\n",
    "        'scaler': StandardScaler(),\n",
    "        'use_bureau_and_balance': False,\n",
    "        'use_previous_applications': False\n",
    "    },\n",
    "     'balancing': {\n",
    "        'should_oversample': True,\n",
    "        'with_categorical': False\n",
    "    },\n",
    "    'model_params': {\n",
    "        'random_state': 42\n",
    "    }\n",
    "}"
   ]
  },
  {
   "cell_type": "code",
   "execution_count": 704,
   "id": "3397aa12-787f-4bb3-a966-9651daab51b8",
   "metadata": {},
   "outputs": [
    {
     "name": "stdout",
     "output_type": "stream",
     "text": [
      "Training the model\n",
      "Loading application_train ...\n",
      "Loading Done.\n",
      "Train shape: (246008, 121)\n",
      "Valid shape: (246008,)\n",
      "Start pipeline fit and transform\n",
      "[Pipeline] ........... (step 1 of 7) Processing cleaner, total=   0.7s\n",
      "[Pipeline] . (step 2 of 7) Processing feature_extractor, total=   0.0s\n",
      "[Pipeline] ........... (step 3 of 7) Processing imputer, total=   2.2s\n",
      "[Pipeline] ............ (step 4 of 7) Processing scalar, total=   0.2s\n",
      "[Pipeline] ........... (step 5 of 7) Processing encoder, total=   1.2s\n"
     ]
    },
    {
     "name": "stderr",
     "output_type": "stream",
     "text": [
      "2023/11/20 14:57:03 WARNING mlflow.sklearn: Training metrics will not be recorded because training labels were not specified. To automatically record training metrics, provide training labels as inputs to the model training function.\n",
      "2023/11/20 14:57:03 WARNING mlflow.sklearn: Failed to infer model signature: the trained model does not have a `predict` or `transform` function, which is required in order to infer the signature\n",
      "2023/11/20 14:57:03 WARNING mlflow.sklearn: Model was missing function: predict. Not logging python_function flavor!\n"
     ]
    },
    {
     "name": "stdout",
     "output_type": "stream",
     "text": [
      "[Pipeline] ............. (step 6 of 7) Processing smote, total=   3.8s\n"
     ]
    },
    {
     "name": "stderr",
     "output_type": "stream",
     "text": [
      "2023/11/20 14:57:17 WARNING mlflow.utils.autologging_utils: MLflow autologging encountered a warning: \"/Users/natche/opt/anaconda3/envs/tf/lib/python3.9/site-packages/mlflow/data/pandas_dataset.py:116: UserWarning: Hint: Inferred schema contains integer column(s). Integer columns in Python cannot represent missing values. If your input data contains missing values at inference time, it will be encoded as floats and will cause a schema enforcement error. The best way to avoid this problem is to infer the model schema based on a realistic data sample (training dataset) that includes missing values. Alternatively, you can declare integer columns as doubles (float64) whenever these columns may have missing values. See `Handling Integers With Missing Values <https://www.mlflow.org/docs/latest/models.html#handling-integers-with-missing-values>`_ for more details.\"\n",
      "2023/11/20 14:57:20 WARNING mlflow.utils.autologging_utils: MLflow autologging encountered a warning: \"/Users/natche/opt/anaconda3/envs/tf/lib/python3.9/site-packages/mlflow/models/signature.py:212: UserWarning: Hint: Inferred schema contains integer column(s). Integer columns in Python cannot represent missing values. If your input data contains missing values at inference time, it will be encoded as floats and will cause a schema enforcement error. The best way to avoid this problem is to infer the model schema based on a realistic data sample (training dataset) that includes missing values. Alternatively, you can declare integer columns as doubles (float64) whenever these columns may have missing values. See `Handling Integers With Missing Values <https://www.mlflow.org/docs/latest/models.html#handling-integers-with-missing-values>`_ for more details.\"\n"
     ]
    },
    {
     "name": "stdout",
     "output_type": "stream",
     "text": [
      "[Pipeline] ........ (step 7 of 7) Processing classifier, total=  15.6s\n"
     ]
    },
    {
     "name": "stderr",
     "output_type": "stream",
     "text": [
      "2023/11/20 14:57:24 WARNING mlflow.utils.autologging_utils: MLflow autologging encountered a warning: \"/Users/natche/opt/anaconda3/envs/tf/lib/python3.9/site-packages/mlflow/data/pandas_dataset.py:116: UserWarning: Hint: Inferred schema contains integer column(s). Integer columns in Python cannot represent missing values. If your input data contains missing values at inference time, it will be encoded as floats and will cause a schema enforcement error. The best way to avoid this problem is to infer the model schema based on a realistic data sample (training dataset) that includes missing values. Alternatively, you can declare integer columns as doubles (float64) whenever these columns may have missing values. See `Handling Integers With Missing Values <https://www.mlflow.org/docs/latest/models.html#handling-integers-with-missing-values>`_ for more details.\"\n",
      "2023/11/20 14:57:26 WARNING mlflow.utils.autologging_utils: MLflow autologging encountered a warning: \"/Users/natche/opt/anaconda3/envs/tf/lib/python3.9/site-packages/mlflow/data/pandas_dataset.py:116: UserWarning: Hint: Inferred schema contains integer column(s). Integer columns in Python cannot represent missing values. If your input data contains missing values at inference time, it will be encoded as floats and will cause a schema enforcement error. The best way to avoid this problem is to infer the model schema based on a realistic data sample (training dataset) that includes missing values. Alternatively, you can declare integer columns as doubles (float64) whenever these columns may have missing values. See `Handling Integers With Missing Values <https://www.mlflow.org/docs/latest/models.html#handling-integers-with-missing-values>`_ for more details.\"\n"
     ]
    },
    {
     "name": "stdout",
     "output_type": "stream",
     "text": [
      "TN: 39733, FP: 16886, FN: 1987, TP: 2897\n",
      "36756\n",
      "-------------------------\n",
      "AUC: 0.65\n",
      "Custom: 0.6\n",
      "Recall: 0.59\n",
      "Precision: 0.15\n",
      "F beta 10: 0.58\n",
      "Accuracy: 0.69\n",
      "Classification report:\n",
      "              precision    recall  f1-score   support\n",
      "\n",
      "           0       0.95      0.70      0.81     56619\n",
      "           1       0.15      0.59      0.23      4884\n",
      "\n",
      "    accuracy                           0.69     61503\n",
      "   macro avg       0.55      0.65      0.52     61503\n",
      "weighted avg       0.89      0.69      0.76     61503\n",
      "\n",
      "-------------------------\n",
      "execution time: 30.33 seconds \n",
      "\n"
     ]
    },
    {
     "data": {
      "image/png": "[encoded data removed]",
      "text/plain": [
       "<Figure size 640x480 with 1 Axes>"
      ]
     },
     "metadata": {},
     "output_type": "display_data"
    }
   ],
   "source": [
    "with mlflow.start_run(run_name = 'log_regression_base_smote'):\n",
    "    train('log_regression', config=smote_config, dev_mode=False)\n",
    "\n",
    "mlflow.end_run()"
   ]
  },
  {
   "cell_type": "markdown",
   "id": "e0e1ab8a-d90d-4395-b390-a6d3e793da57",
   "metadata": {},
   "source": [
    "### With SMOTENC"
   ]
  },
  {
   "cell_type": "code",
   "execution_count": 667,
   "id": "f491802a-be94-4436-bbbd-0a7a70059313",
   "metadata": {},
   "outputs": [],
   "source": [
    "smotenc_config = {\n",
    "    'preprocessing': {\n",
    "        'should_fill_na': True,\n",
    "        'num_imputer': SimpleImputer(strategy='median'),\n",
    "        'cat_imputer': SimpleImputer(strategy='most_frequent'),\n",
    "        'should_scale': True,\n",
    "        'scaler': StandardScaler(),\n",
    "        'use_bureau_and_balance': False,\n",
    "        'use_previous_applications': False\n",
    "    },\n",
    "     'balancing': {\n",
    "        'should_oversample': True,\n",
    "        'with_categorical': True\n",
    "    },\n",
    "    'model_params': {\n",
    "        'random_state': 42\n",
    "    }\n",
    "}"
   ]
  },
  {
   "cell_type": "code",
   "execution_count": 668,
   "id": "16f58e3f-d930-4215-990a-1e377ef4a026",
   "metadata": {},
   "outputs": [
    {
     "name": "stdout",
     "output_type": "stream",
     "text": [
      "Training the model\n",
      "Loading application_train ...\n",
      "Loading Done.\n",
      "Train shape: (246008, 121)\n",
      "Valid shape: (246008,)\n",
      "Start pipeline fit and transform\n",
      "[Pipeline] ........... (step 1 of 7) Processing cleaner, total=   0.7s\n",
      "[Pipeline] . (step 2 of 7) Processing feature_extractor, total=   0.0s\n",
      "[Pipeline] ........... (step 3 of 7) Processing imputer, total=   2.2s\n",
      "[Pipeline] ............ (step 4 of 7) Processing scalar, total=   0.2s\n"
     ]
    },
    {
     "name": "stderr",
     "output_type": "stream",
     "text": [
      "2023/11/17 11:56:53 WARNING mlflow.sklearn: Training metrics will not be recorded because training labels were not specified. To automatically record training metrics, provide training labels as inputs to the model training function.\n",
      "2023/11/17 11:56:53 WARNING mlflow.sklearn: Failed to infer model signature: the trained model does not have a `predict` or `transform` function, which is required in order to infer the signature\n",
      "2023/11/17 11:56:53 WARNING mlflow.sklearn: Model was missing function: predict. Not logging python_function flavor!\n"
     ]
    },
    {
     "name": "stdout",
     "output_type": "stream",
     "text": [
      "[Pipeline] .......... (step 5 of 7) Processing smote_nc, total= 3.4min\n",
      "[Pipeline] ........... (step 6 of 7) Processing encoder, total=   2.4s\n"
     ]
    },
    {
     "name": "stderr",
     "output_type": "stream",
     "text": [
      "2023/11/17 12:00:28 WARNING mlflow.utils.autologging_utils: MLflow autologging encountered a warning: \"/Users/natche/opt/anaconda3/envs/tf/lib/python3.9/site-packages/mlflow/data/pandas_dataset.py:116: UserWarning: Hint: Inferred schema contains integer column(s). Integer columns in Python cannot represent missing values. If your input data contains missing values at inference time, it will be encoded as floats and will cause a schema enforcement error. The best way to avoid this problem is to infer the model schema based on a realistic data sample (training dataset) that includes missing values. Alternatively, you can declare integer columns as doubles (float64) whenever these columns may have missing values. See `Handling Integers With Missing Values <https://www.mlflow.org/docs/latest/models.html#handling-integers-with-missing-values>`_ for more details.\"\n",
      "2023/11/17 12:00:33 WARNING mlflow.utils.autologging_utils: MLflow autologging encountered a warning: \"/Users/natche/opt/anaconda3/envs/tf/lib/python3.9/site-packages/mlflow/models/signature.py:212: UserWarning: Hint: Inferred schema contains integer column(s). Integer columns in Python cannot represent missing values. If your input data contains missing values at inference time, it will be encoded as floats and will cause a schema enforcement error. The best way to avoid this problem is to infer the model schema based on a realistic data sample (training dataset) that includes missing values. Alternatively, you can declare integer columns as doubles (float64) whenever these columns may have missing values. See `Handling Integers With Missing Values <https://www.mlflow.org/docs/latest/models.html#handling-integers-with-missing-values>`_ for more details.\"\n"
     ]
    },
    {
     "name": "stdout",
     "output_type": "stream",
     "text": [
      "[Pipeline] ........ (step 7 of 7) Processing classifier, total=  16.8s\n"
     ]
    },
    {
     "name": "stderr",
     "output_type": "stream",
     "text": [
      "2023/11/17 12:00:36 WARNING mlflow.utils.autologging_utils: MLflow autologging encountered a warning: \"/Users/natche/opt/anaconda3/envs/tf/lib/python3.9/site-packages/mlflow/data/pandas_dataset.py:116: UserWarning: Hint: Inferred schema contains integer column(s). Integer columns in Python cannot represent missing values. If your input data contains missing values at inference time, it will be encoded as floats and will cause a schema enforcement error. The best way to avoid this problem is to infer the model schema based on a realistic data sample (training dataset) that includes missing values. Alternatively, you can declare integer columns as doubles (float64) whenever these columns may have missing values. See `Handling Integers With Missing Values <https://www.mlflow.org/docs/latest/models.html#handling-integers-with-missing-values>`_ for more details.\"\n",
      "2023/11/17 12:00:38 WARNING mlflow.utils.autologging_utils: MLflow autologging encountered a warning: \"/Users/natche/opt/anaconda3/envs/tf/lib/python3.9/site-packages/mlflow/data/pandas_dataset.py:116: UserWarning: Hint: Inferred schema contains integer column(s). Integer columns in Python cannot represent missing values. If your input data contains missing values at inference time, it will be encoded as floats and will cause a schema enforcement error. The best way to avoid this problem is to infer the model schema based on a realistic data sample (training dataset) that includes missing values. Alternatively, you can declare integer columns as doubles (float64) whenever these columns may have missing values. See `Handling Integers With Missing Values <https://www.mlflow.org/docs/latest/models.html#handling-integers-with-missing-values>`_ for more details.\"\n"
     ]
    },
    {
     "name": "stdout",
     "output_type": "stream",
     "text": [
      "-------------------------\n",
      "ROC AUC: 0.64\n",
      "Accuracy: 0.76\n",
      "Fbeta score(b=10): 0.47\n",
      "Classification report:\n",
      "              precision    recall  f1-score   support\n",
      "\n",
      "           0       0.95      0.79      0.86     56619\n",
      "           1       0.16      0.48      0.25      4884\n",
      "\n",
      "    accuracy                           0.76     61503\n",
      "   macro avg       0.56      0.64      0.55     61503\n",
      "weighted avg       0.88      0.76      0.81     61503\n",
      "\n",
      "-------------------------\n",
      "execution time: 232.67 seconds \n",
      "\n"
     ]
    },
    {
     "data": {
      "image/png": "[encoded data removed]",
      "text/plain": [
       "<Figure size 640x480 with 1 Axes>"
      ]
     },
     "metadata": {},
     "output_type": "display_data"
    }
   ],
   "source": [
    "with mlflow.start_run(run_name = 'log_regression_base_smotenc'):\n",
    "    train('log_regression', config=smotenc_config, dev_mode=False)\n",
    "\n",
    "mlflow.end_run()"
   ]
  },
  {
   "cell_type": "markdown",
   "id": "6f9ca503-444c-4c6a-ab11-391adb5c5c3c",
   "metadata": {},
   "source": [
    "### Add bureau and balance"
   ]
  },
  {
   "cell_type": "code",
   "execution_count": 669,
   "id": "f0e28c57-6e34-44d8-b33f-370683ca27ec",
   "metadata": {},
   "outputs": [
    {
     "name": "stdout",
     "output_type": "stream",
     "text": [
      "Training the model\n",
      "Loading application_train ...\n",
      "Loading Done.\n",
      "Train shape: (246008, 121)\n",
      "Valid shape: (246008,)\n",
      "Start pipeline fit and transform\n",
      "[Pipeline] ........... (step 1 of 8) Processing cleaner, total=   0.7s\n",
      "[Pipeline] . (step 2 of 8) Processing feature_extractor, total=   0.0s\n",
      "shape before  (246008, 128)\n",
      "new shape after merge (246008, 244)\n",
      "[Pipeline]  (step 3 of 8) Processing merge_bureau_and_balance, total=   0.2s\n",
      "[Pipeline] ........... (step 4 of 8) Processing imputer, total=   4.6s\n",
      "[Pipeline] ............ (step 5 of 8) Processing scalar, total=   0.4s\n",
      "[Pipeline] ........... (step 6 of 8) Processing encoder, total=   1.3s\n"
     ]
    },
    {
     "name": "stderr",
     "output_type": "stream",
     "text": [
      "2023/11/17 12:01:27 WARNING mlflow.sklearn: Training metrics will not be recorded because training labels were not specified. To automatically record training metrics, provide training labels as inputs to the model training function.\n",
      "2023/11/17 12:01:27 WARNING mlflow.sklearn: Failed to infer model signature: the trained model does not have a `predict` or `transform` function, which is required in order to infer the signature\n",
      "2023/11/17 12:01:27 WARNING mlflow.sklearn: Model was missing function: predict. Not logging python_function flavor!\n"
     ]
    },
    {
     "name": "stdout",
     "output_type": "stream",
     "text": [
      "[Pipeline] ............. (step 7 of 8) Processing smote, total=   4.7s\n"
     ]
    },
    {
     "name": "stderr",
     "output_type": "stream",
     "text": [
      "2023/11/17 12:01:46 WARNING mlflow.utils.autologging_utils: MLflow autologging encountered a warning: \"/Users/natche/opt/anaconda3/envs/tf/lib/python3.9/site-packages/mlflow/data/pandas_dataset.py:116: UserWarning: Hint: Inferred schema contains integer column(s). Integer columns in Python cannot represent missing values. If your input data contains missing values at inference time, it will be encoded as floats and will cause a schema enforcement error. The best way to avoid this problem is to infer the model schema based on a realistic data sample (training dataset) that includes missing values. Alternatively, you can declare integer columns as doubles (float64) whenever these columns may have missing values. See `Handling Integers With Missing Values <https://www.mlflow.org/docs/latest/models.html#handling-integers-with-missing-values>`_ for more details.\"\n",
      "2023/11/17 12:01:51 WARNING mlflow.utils.autologging_utils: MLflow autologging encountered a warning: \"/Users/natche/opt/anaconda3/envs/tf/lib/python3.9/site-packages/mlflow/models/signature.py:212: UserWarning: Hint: Inferred schema contains integer column(s). Integer columns in Python cannot represent missing values. If your input data contains missing values at inference time, it will be encoded as floats and will cause a schema enforcement error. The best way to avoid this problem is to infer the model schema based on a realistic data sample (training dataset) that includes missing values. Alternatively, you can declare integer columns as doubles (float64) whenever these columns may have missing values. See `Handling Integers With Missing Values <https://www.mlflow.org/docs/latest/models.html#handling-integers-with-missing-values>`_ for more details.\"\n"
     ]
    },
    {
     "name": "stdout",
     "output_type": "stream",
     "text": [
      "[Pipeline] ........ (step 8 of 8) Processing classifier, total=  21.6s\n",
      "shape before  (61503, 128)\n",
      "new shape after merge (61503, 244)\n"
     ]
    },
    {
     "name": "stderr",
     "output_type": "stream",
     "text": [
      "2023/11/17 12:01:55 WARNING mlflow.utils.autologging_utils: MLflow autologging encountered a warning: \"/Users/natche/opt/anaconda3/envs/tf/lib/python3.9/site-packages/mlflow/data/pandas_dataset.py:116: UserWarning: Hint: Inferred schema contains integer column(s). Integer columns in Python cannot represent missing values. If your input data contains missing values at inference time, it will be encoded as floats and will cause a schema enforcement error. The best way to avoid this problem is to infer the model schema based on a realistic data sample (training dataset) that includes missing values. Alternatively, you can declare integer columns as doubles (float64) whenever these columns may have missing values. See `Handling Integers With Missing Values <https://www.mlflow.org/docs/latest/models.html#handling-integers-with-missing-values>`_ for more details.\"\n"
     ]
    },
    {
     "name": "stdout",
     "output_type": "stream",
     "text": [
      "shape before  (61503, 128)\n",
      "new shape after merge (61503, 244)\n"
     ]
    },
    {
     "name": "stderr",
     "output_type": "stream",
     "text": [
      "2023/11/17 12:01:58 WARNING mlflow.utils.autologging_utils: MLflow autologging encountered a warning: \"/Users/natche/opt/anaconda3/envs/tf/lib/python3.9/site-packages/mlflow/data/pandas_dataset.py:116: UserWarning: Hint: Inferred schema contains integer column(s). Integer columns in Python cannot represent missing values. If your input data contains missing values at inference time, it will be encoded as floats and will cause a schema enforcement error. The best way to avoid this problem is to infer the model schema based on a realistic data sample (training dataset) that includes missing values. Alternatively, you can declare integer columns as doubles (float64) whenever these columns may have missing values. See `Handling Integers With Missing Values <https://www.mlflow.org/docs/latest/models.html#handling-integers-with-missing-values>`_ for more details.\"\n"
     ]
    },
    {
     "name": "stdout",
     "output_type": "stream",
     "text": [
      "-------------------------\n",
      "ROC AUC: 0.63\n",
      "Accuracy: 0.69\n",
      "Fbeta score(b=10): 0.55\n",
      "Classification report:\n",
      "              precision    recall  f1-score   support\n",
      "\n",
      "           0       0.95      0.70      0.80     56619\n",
      "           1       0.14      0.56      0.22      4884\n",
      "\n",
      "    accuracy                           0.69     61503\n",
      "   macro avg       0.54      0.63      0.51     61503\n",
      "weighted avg       0.88      0.69      0.76     61503\n",
      "\n",
      "-------------------------\n",
      "execution time: 53.76 seconds \n",
      "\n"
     ]
    },
    {
     "data": {
      "image/png": "[encoded data removed]",
      "text/plain": [
       "<Figure size 640x480 with 1 Axes>"
      ]
     },
     "metadata": {},
     "output_type": "display_data"
    }
   ],
   "source": [
    "with_bureau_config = {\n",
    "    'preprocessing': {\n",
    "        'should_fill_na': True,\n",
    "        'num_imputer': SimpleImputer(strategy='median'),\n",
    "        'cat_imputer': SimpleImputer(strategy='most_frequent'),\n",
    "        'should_scale': True,\n",
    "        'scaler': StandardScaler(),\n",
    "        'use_bureau_and_balance': True,\n",
    "        'use_previous_applications': False\n",
    "    },\n",
    "     'balancing': {\n",
    "        'should_oversample': True,\n",
    "        'with_categorical': False\n",
    "    },\n",
    "    'model_params': {\n",
    "        'random_state': 42\n",
    "    }\n",
    "}\n",
    "with mlflow.start_run(run_name = 'log_regression_with_bureau'):\n",
    "    train('log_regression', config=with_bureau_config, dev_mode=False)\n",
    "mlflow.end_run()"
   ]
  },
  {
   "cell_type": "markdown",
   "id": "8b5d37c3-51a4-4f6f-8765-da3027bc567f",
   "metadata": {},
   "source": [
    "### Add previous applications"
   ]
  },
  {
   "cell_type": "code",
   "execution_count": 670,
   "id": "eda20229-4ebf-49b1-ae50-4fecc75fa271",
   "metadata": {},
   "outputs": [
    {
     "name": "stdout",
     "output_type": "stream",
     "text": [
      "Training the model\n",
      "Loading application_train ...\n",
      "Loading Done.\n",
      "Train shape: (246008, 121)\n",
      "Valid shape: (246008,)\n",
      "prev app shape (338857, 237)\n",
      "Start pipeline fit and transform\n",
      "[Pipeline] ........... (step 1 of 9) Processing cleaner, total=   0.7s\n",
      "[Pipeline] . (step 2 of 9) Processing feature_extractor, total=   0.0s\n",
      "shape before  (246008, 128)\n",
      "new shape after merge (246008, 244)\n",
      "[Pipeline]  (step 3 of 9) Processing merge_bureau_and_balance, total=   0.2s\n",
      "shape before  (246008, 244)\n",
      "new shape after merge (246008, 481)\n",
      "[Pipeline]  (step 4 of 9) Processing merge_previous_applications, total=   0.4s\n",
      "[Pipeline] ........... (step 5 of 9) Processing imputer, total=  10.9s\n",
      "[Pipeline] ............ (step 6 of 9) Processing scalar, total=   1.2s\n",
      "[Pipeline] ........... (step 7 of 9) Processing encoder, total=   2.1s\n"
     ]
    },
    {
     "name": "stderr",
     "output_type": "stream",
     "text": [
      "2023/11/17 12:02:50 WARNING mlflow.sklearn: Training metrics will not be recorded because training labels were not specified. To automatically record training metrics, provide training labels as inputs to the model training function.\n",
      "2023/11/17 12:02:50 WARNING mlflow.sklearn: Failed to infer model signature: the trained model does not have a `predict` or `transform` function, which is required in order to infer the signature\n",
      "2023/11/17 12:02:50 WARNING mlflow.sklearn: Model was missing function: predict. Not logging python_function flavor!\n"
     ]
    },
    {
     "name": "stdout",
     "output_type": "stream",
     "text": [
      "[Pipeline] ............. (step 8 of 9) Processing smote, total=   8.1s\n"
     ]
    },
    {
     "name": "stderr",
     "output_type": "stream",
     "text": [
      "2023/11/17 12:03:24 WARNING mlflow.utils.autologging_utils: MLflow autologging encountered a warning: \"/Users/natche/opt/anaconda3/envs/tf/lib/python3.9/site-packages/mlflow/data/pandas_dataset.py:116: UserWarning: Hint: Inferred schema contains integer column(s). Integer columns in Python cannot represent missing values. If your input data contains missing values at inference time, it will be encoded as floats and will cause a schema enforcement error. The best way to avoid this problem is to infer the model schema based on a realistic data sample (training dataset) that includes missing values. Alternatively, you can declare integer columns as doubles (float64) whenever these columns may have missing values. See `Handling Integers With Missing Values <https://www.mlflow.org/docs/latest/models.html#handling-integers-with-missing-values>`_ for more details.\"\n",
      "2023/11/17 12:03:31 WARNING mlflow.utils.autologging_utils: MLflow autologging encountered a warning: \"/Users/natche/opt/anaconda3/envs/tf/lib/python3.9/site-packages/mlflow/models/signature.py:212: UserWarning: Hint: Inferred schema contains integer column(s). Integer columns in Python cannot represent missing values. If your input data contains missing values at inference time, it will be encoded as floats and will cause a schema enforcement error. The best way to avoid this problem is to infer the model schema based on a realistic data sample (training dataset) that includes missing values. Alternatively, you can declare integer columns as doubles (float64) whenever these columns may have missing values. See `Handling Integers With Missing Values <https://www.mlflow.org/docs/latest/models.html#handling-integers-with-missing-values>`_ for more details.\"\n"
     ]
    },
    {
     "name": "stdout",
     "output_type": "stream",
     "text": [
      "[Pipeline] ........ (step 9 of 9) Processing classifier, total=  35.5s\n",
      "shape before  (61503, 128)\n",
      "new shape after merge (61503, 244)\n",
      "shape before  (61503, 244)\n",
      "new shape after merge (61503, 481)\n"
     ]
    },
    {
     "name": "stderr",
     "output_type": "stream",
     "text": [
      "2023/11/17 12:03:37 WARNING mlflow.utils.autologging_utils: MLflow autologging encountered a warning: \"/Users/natche/opt/anaconda3/envs/tf/lib/python3.9/site-packages/mlflow/data/pandas_dataset.py:116: UserWarning: Hint: Inferred schema contains integer column(s). Integer columns in Python cannot represent missing values. If your input data contains missing values at inference time, it will be encoded as floats and will cause a schema enforcement error. The best way to avoid this problem is to infer the model schema based on a realistic data sample (training dataset) that includes missing values. Alternatively, you can declare integer columns as doubles (float64) whenever these columns may have missing values. See `Handling Integers With Missing Values <https://www.mlflow.org/docs/latest/models.html#handling-integers-with-missing-values>`_ for more details.\"\n"
     ]
    },
    {
     "name": "stdout",
     "output_type": "stream",
     "text": [
      "shape before  (61503, 128)\n",
      "new shape after merge (61503, 244)\n",
      "shape before  (61503, 244)\n",
      "new shape after merge (61503, 481)\n"
     ]
    },
    {
     "name": "stderr",
     "output_type": "stream",
     "text": [
      "2023/11/17 12:03:42 WARNING mlflow.utils.autologging_utils: MLflow autologging encountered a warning: \"/Users/natche/opt/anaconda3/envs/tf/lib/python3.9/site-packages/mlflow/data/pandas_dataset.py:116: UserWarning: Hint: Inferred schema contains integer column(s). Integer columns in Python cannot represent missing values. If your input data contains missing values at inference time, it will be encoded as floats and will cause a schema enforcement error. The best way to avoid this problem is to infer the model schema based on a realistic data sample (training dataset) that includes missing values. Alternatively, you can declare integer columns as doubles (float64) whenever these columns may have missing values. See `Handling Integers With Missing Values <https://www.mlflow.org/docs/latest/models.html#handling-integers-with-missing-values>`_ for more details.\"\n"
     ]
    },
    {
     "name": "stdout",
     "output_type": "stream",
     "text": [
      "-------------------------\n",
      "ROC AUC: 0.63\n",
      "Accuracy: 0.7\n",
      "Fbeta score(b=10): 0.54\n",
      "Classification report:\n",
      "              precision    recall  f1-score   support\n",
      "\n",
      "           0       0.95      0.72      0.82     56619\n",
      "           1       0.14      0.55      0.23      4884\n",
      "\n",
      "    accuracy                           0.70     61503\n",
      "   macro avg       0.55      0.63      0.52     61503\n",
      "weighted avg       0.88      0.70      0.77     61503\n",
      "\n",
      "-------------------------\n",
      "execution time: 92.77 seconds \n",
      "\n"
     ]
    },
    {
     "data": {
      "image/png": "[encoded data removed]",
      "text/plain": [
       "<Figure size 640x480 with 1 Axes>"
      ]
     },
     "metadata": {},
     "output_type": "display_data"
    }
   ],
   "source": [
    "with_prev_app_config = {\n",
    "    'preprocessing': {\n",
    "        'should_fill_na': True,\n",
    "        'num_imputer': SimpleImputer(strategy='median'),\n",
    "        'cat_imputer': SimpleImputer(strategy='most_frequent'),\n",
    "        'should_scale': True,\n",
    "        'scaler': StandardScaler(),\n",
    "        'use_bureau_and_balance': True,\n",
    "        'use_previous_applications': True\n",
    "    },\n",
    "     'balancing': {\n",
    "        'should_oversample': True,\n",
    "        'with_categorical': False\n",
    "    },\n",
    "    'model_params': {\n",
    "        'random_state': 42\n",
    "    }\n",
    "}\n",
    "with mlflow.start_run(run_name = 'log_regression_with_prev_app'):\n",
    "    train('log_regression', config=with_prev_app_config, dev_mode=False)\n",
    "mlflow.end_run()"
   ]
  },
  {
   "cell_type": "code",
   "execution_count": 616,
   "id": "9462bee3-bf63-41ed-91cc-f131a891a995",
   "metadata": {},
   "outputs": [],
   "source": [
    "mlflow.end_run()"
   ]
  },
  {
   "cell_type": "code",
   "execution_count": null,
   "id": "a13cec13-e9ff-42a1-988d-c39c29af7bb3",
   "metadata": {},
   "outputs": [],
   "source": []
  }
 ],
 "metadata": {
  "kernelspec": {
   "display_name": "Python 3 (ipykernel)",
   "language": "python",
   "name": "python3"
  },
  "language_info": {
   "codemirror_mode": {
    "name": "ipython",
    "version": 3
   },
   "file_extension": ".py",
   "mimetype": "text/x-python",
   "name": "python",
   "nbconvert_exporter": "python",
   "pygments_lexer": "ipython3",
   "version": "3.9.18"
  }
 },
 "nbformat": 4,
 "nbformat_minor": 5
}
