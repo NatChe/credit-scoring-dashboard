{
 "cells": [
  {
   "cell_type": "markdown",
   "id": "5c864b19-599a-40c8-afc4-3e90cec21d97",
   "metadata": {},
   "source": [
    "# Notebook overview"
   ]
  },
  {
   "cell_type": "markdown",
   "id": "cb524379-3ab1-4838-8b3a-ca1b65b4157d",
   "metadata": {},
   "source": [
    "# Imports\n",
    "## Libraries"
   ]
  },
  {
   "cell_type": "code",
   "execution_count": 574,
   "id": "1c2e150f-eada-4842-a0d2-49daccf8360d",
   "metadata": {},
   "outputs": [],
   "source": [
    "import pandas as pd\n",
    "import numpy as np\n",
    "import matplotlib.pyplot as plt\n",
    "import mlflow\n",
    "import gc, warnings, os, time\n",
    "import mlflow\n",
    "import importlib\n",
    "\n",
    "# custom classes\n",
    "import pipelines\n",
    "import data_preprocessing as process\n",
    "import transformers\n",
    "\n",
    "importlib.reload(process)\n",
    "importlib.reload(transformers)\n",
    "importlib.reload(pipelines)\n",
    "\n",
    "from transformers import ApplicationCleaner\n",
    "from pipelines import PIPELINES, DEFAULT_CONFIG\n",
    "\n",
    "# sklearn\n",
    "from sklearn.model_selection import train_test_split\n",
    "from sklearn.impute import SimpleImputer\n",
    "from sklearn.preprocessing import StandardScaler, OneHotEncoder\n",
    "from sklearn.metrics import roc_auc_score, accuracy_score, classification_report, fbeta_score, roc_curve, RocCurveDisplay\n",
    "\n",
    "from imblearn.over_sampling import SMOTE\n",
    "\n",
    "warnings.simplefilter(action='ignore', category=FutureWarning)\n",
    "\n",
    "pd.set_option('display.max_colwidth', None)\n",
    "pd.options.display.float_format = '{:.4f}'.format"
   ]
  },
  {
   "cell_type": "markdown",
   "id": "5c367c99-2b9f-44f1-85ca-22754eb55fc0",
   "metadata": {},
   "source": [
    "# Pipeline"
   ]
  },
  {
   "cell_type": "code",
   "execution_count": 530,
   "id": "950f5675-5623-4e1a-93e9-17e25cf499b4",
   "metadata": {},
   "outputs": [],
   "source": [
    "def display_scores(y_true, y_pred, y_pred_proba, name=''):\n",
    "    print('-------------------------')\n",
    "\n",
    "    # AUC\n",
    "    roc_auc = round(roc_auc_score(y_true, y_pred), 2)\n",
    "    print(f'ROC AUC: {roc_auc}')\n",
    "    mlflow.log_metric(\"AUC\", roc_auc)\n",
    "\n",
    "    # Accuracy\n",
    "    accuracy = round(accuracy_score(y_true, y_pred, normalize=True), 2)\n",
    "    print(f'Accuracy: {accuracy}')\n",
    "    mlflow.log_metric(\"Accuracy\", accuracy)\n",
    "\n",
    "    # F beta 10\n",
    "    fbeta = round(fbeta_score(y_true, y_pred, beta=10), 2)\n",
    "    print(f'Fbeta score(b=10): {fbeta}')\n",
    "    mlflow.log_metric(\"Fbeta_10\", fbeta)\n",
    "\n",
    "    # Classification report\n",
    "    print('Classification report:')\n",
    "    print(f'{classification_report(y_true, y_pred, zero_division=0)}')\n",
    "\n",
    "    fpr, tpr, thresholds = roc_curve(y_true, y_pred_proba)\n",
    "    auc = roc_auc_score(y_true, y_pred_proba)\n",
    "\n",
    "    #create ROC curve\n",
    "    display = RocCurveDisplay(fpr=fpr, tpr=tpr, roc_auc=auc, estimator_name=name)\n",
    "    display.plot()\n",
    "    \n",
    "    print('-------------------------')"
   ]
  },
  {
   "cell_type": "code",
   "execution_count": 531,
   "id": "78ddc1fa-857b-40c9-a27b-dd9ce4260c4d",
   "metadata": {},
   "outputs": [],
   "source": [
    "def train(pipeline_name, config, dev_mode=True):\n",
    "    print('Training the model')\n",
    "    time_start = time.time()\n",
    "\n",
    "    data = process.load_data(dev_mode)\n",
    "\n",
    "    X = data['application'].drop(process.TARGET_COLUMN, axis=1)\n",
    "    y = data['application'][process.TARGET_COLUMN]\n",
    "\n",
    "    X_train, X_test, y_train, y_test = train_test_split(X,\n",
    "                                                          y,\n",
    "                                                          test_size=0.2,\n",
    "                                                          random_state=42,\n",
    "                                                          shuffle=False)\n",
    "\n",
    "    print('Train shape: {}'.format(X_train.shape))\n",
    "    print('Valid shape: {}'.format(y_train.shape))\n",
    "\n",
    "    pipeline = PIPELINES[pipeline_name](config=config, dev_mode=dev_mode)\n",
    "\n",
    "    print('Start pipeline fit and transform')\n",
    "    pipeline.fit(X_train, y_train)\n",
    "\n",
    "    y_pred = pipeline.predict(X_test)\n",
    "    y_pred_proba = pipeline.predict_proba(X_test)[::,1]\n",
    "\n",
    "    display_scores(y_test, y_pred, y_pred_proba, name=pipeline_name)\n",
    "\n",
    "    mlflow.sklearn.log_model(pipeline, pipeline_name)\n",
    "    \n",
    "    exec_time = round((time.time() - time_start), 2)\n",
    "    print(f'execution time: {exec_time} seconds \\n')"
   ]
  },
  {
   "cell_type": "code",
   "execution_count": 564,
   "id": "f87fe795-f346-4819-a3c3-88d7a3932312",
   "metadata": {},
   "outputs": [
    {
     "name": "stdout",
     "output_type": "stream",
     "text": [
      "Loading application_train ...\n",
      "Loading Done.\n",
      "Train shape: (4000, 121)\n",
      "Valid shape: (4000,)\n"
     ]
    },
    {
     "name": "stderr",
     "output_type": "stream",
     "text": [
      "2023/11/16 16:29:24 INFO mlflow.utils.autologging_utils: Created MLflow autologging run with ID '1d281340373b48ffba6cce2b6d4d6980', which will track hyperparameters, performance metrics, model artifacts, and lineage information for the current sklearn workflow\n",
      "2023/11/16 16:29:24 WARNING mlflow.utils: Truncated the value of the key `steps`. Truncated value: `[('preprocessor', Pipeline(steps=[('cleaner', ApplicationCleaner()),\n",
      "                ('feature_extractor', ApplicationFeaturesExtractor()),\n",
      "                ('merge_bureau_and_balance',\n",
      "                 ApplicationFeaturesMerger(features_to_merge=            BUREAU_DAYS_CREDIT_MIN  BUREAU_DAYS_CREDIT_MAX  \\\n",
      "SK_ID_CURR                                                   \n",
      "100568                       -1274                    -207   \n",
      "101060                       -2632                    -709   \n",
      "101...`\n",
      "2023/11/16 16:29:24 WARNING mlflow.utils: Truncated the value of the key `preprocessor`. Truncated value: `Pipeline(steps=[('cleaner', ApplicationCleaner()),\n",
      "                ('feature_extractor', ApplicationFeaturesExtractor()),\n",
      "                ('merge_bureau_and_balance',\n",
      "                 ApplicationFeaturesMerger(features_to_merge=            BUREAU_DAYS_CREDIT_MIN  BUREAU_DAYS_CREDIT_MAX  \\\n",
      "SK_ID_CURR                                                   \n",
      "100568                       -1274                    -207   \n",
      "101060                       -2632                    -709   \n",
      "101562               ...`\n",
      "2023/11/16 16:29:24 WARNING mlflow.utils: Truncated the value of the key `preprocessor__steps`. Truncated value: `[('cleaner', ApplicationCleaner()), ('feature_extractor', ApplicationFeaturesExtractor()), ('merge_bureau_and_balance', ApplicationFeaturesMerger(features_to_merge=            BUREAU_DAYS_CREDIT_MIN  BUREAU_DAYS_CREDIT_MAX  \\\n",
      "SK_ID_CURR                                                   \n",
      "100568                       -1274                    -207   \n",
      "101060                       -2632                    -709   \n",
      "101562                       -1722                    -785   \n",
      "101616                 ...`\n",
      "2023/11/16 16:29:24 WARNING mlflow.utils: Truncated the value of the key `preprocessor__merge_bureau_and_balance`. Truncated value: `ApplicationFeaturesMerger(features_to_merge=            BUREAU_DAYS_CREDIT_MIN  BUREAU_DAYS_CREDIT_MAX  \\\n",
      "SK_ID_CURR                                                   \n",
      "100568                       -1274                    -207   \n",
      "101060                       -2632                    -709   \n",
      "101562                       -1722                    -785   \n",
      "101616                       -1205                    -137   \n",
      "101724                        -871                    -506   \n",
      "...                ...`\n",
      "2023/11/16 16:29:24 WARNING mlflow.utils: Truncated the value of the key `preprocessor__merge_bureau_and_balance__features_to_merge`. Truncated value: `            BUREAU_DAYS_CREDIT_MIN  BUREAU_DAYS_CREDIT_MAX  \\\n",
      "SK_ID_CURR                                                   \n",
      "100568                       -1274                    -207   \n",
      "101060                       -2632                    -709   \n",
      "101562                       -1722                    -785   \n",
      "101616                       -1205                    -137   \n",
      "101724                        -871                    -506   \n",
      "...                            ...                     ...   \n",
      "4...`\n"
     ]
    },
    {
     "name": "stdout",
     "output_type": "stream",
     "text": [
      "(1004, 103)\n"
     ]
    },
    {
     "name": "stderr",
     "output_type": "stream",
     "text": [
      "2023/11/16 16:29:24 WARNING mlflow.data.pandas_dataset: Failed to infer schema for Pandas dataset. Exception: Unable to map 'object' type to MLflow DataType. object can be mapped iff all values have identical data type which is one of (string, (bytes or byterray),  int, float).\n",
      "/Users/natche/opt/anaconda3/envs/tf/lib/python3.9/site-packages/sklearn/impute/_base.py:555: UserWarning: Skipping features without any observed values: ['BUREAU_MONTHS_BALANCE_MIN_MIN' 'BUREAU_MONTHS_BALANCE_MAX_MAX'\n",
      " 'BUREAU_MONTHS_BALANCE_SIZE_MEAN' 'BUREAU_STATUS_0_MEAN_MEAN'\n",
      " 'BUREAU_STATUS_1_MEAN_MEAN' 'BUREAU_STATUS_2_MEAN_MEAN'\n",
      " 'BUREAU_STATUS_C_MEAN_MEAN' 'BUREAU_STATUS_X_MEAN_MEAN'\n",
      " 'BUREAU_STATUS_nan_MEAN_MEAN' 'ACTIVE_MONTHS_BALANCE_MIN_MIN'\n",
      " 'ACTIVE_MONTHS_BALANCE_MAX_MAX' 'ACTIVE_MONTHS_BALANCE_SIZE_MEAN'\n",
      " 'CLOSED_AMT_ANNUITY_MAX' 'CLOSED_AMT_ANNUITY_MEAN'\n",
      " 'CLOSED_MONTHS_BALANCE_MIN_MIN' 'CLOSED_MONTHS_BALANCE_MAX_MAX'\n",
      " 'CLOSED_MONTHS_BALANCE_SIZE_MEAN']. At least one non-missing value is needed for imputation with strategy='median'.\n",
      "  warnings.warn(\n",
      "/Users/natche/opt/anaconda3/envs/tf/lib/python3.9/site-packages/sklearn/impute/_base.py:555: UserWarning: Skipping features without any observed values: ['BUREAU_MONTHS_BALANCE_MIN_MIN' 'BUREAU_MONTHS_BALANCE_MAX_MAX'\n",
      " 'BUREAU_MONTHS_BALANCE_SIZE_MEAN' 'BUREAU_STATUS_0_MEAN_MEAN'\n",
      " 'BUREAU_STATUS_1_MEAN_MEAN' 'BUREAU_STATUS_2_MEAN_MEAN'\n",
      " 'BUREAU_STATUS_C_MEAN_MEAN' 'BUREAU_STATUS_X_MEAN_MEAN'\n",
      " 'BUREAU_STATUS_nan_MEAN_MEAN' 'ACTIVE_MONTHS_BALANCE_MIN_MIN'\n",
      " 'ACTIVE_MONTHS_BALANCE_MAX_MAX' 'ACTIVE_MONTHS_BALANCE_SIZE_MEAN'\n",
      " 'CLOSED_AMT_ANNUITY_MAX' 'CLOSED_AMT_ANNUITY_MEAN'\n",
      " 'CLOSED_MONTHS_BALANCE_MIN_MIN' 'CLOSED_MONTHS_BALANCE_MAX_MAX'\n",
      " 'CLOSED_MONTHS_BALANCE_SIZE_MEAN']. At least one non-missing value is needed for imputation with strategy='median'.\n",
      "  warnings.warn(\n"
     ]
    },
    {
     "name": "stdout",
     "output_type": "stream",
     "text": [
      "[Pipeline] ........... (step 1 of 6) Processing cleaner, total=   0.0s\n",
      "[Pipeline] . (step 2 of 6) Processing feature_extractor, total=   0.0s\n",
      "shape before  (4000, 128)\n",
      "new shape after merge (4000, 231)\n",
      "[Pipeline]  (step 3 of 6) Processing merge_bureau_and_balance, total=   0.0s\n",
      "[Pipeline] ........... (step 4 of 6) Processing imputer, total=   0.1s\n",
      "[Pipeline] ............ (step 5 of 6) Processing scalar, total=   0.0s\n",
      "[Pipeline] ........... (step 6 of 6) Processing encoder, total=   0.0s\n",
      "[Pipeline] ...... (step 1 of 1) Processing preprocessor, total=   0.1s\n"
     ]
    },
    {
     "name": "stderr",
     "output_type": "stream",
     "text": [
      "2023/11/16 16:29:24 WARNING mlflow.sklearn: Training metrics will not be recorded because training labels were not specified. To automatically record training metrics, provide training labels as inputs to the model training function.\n",
      "/Users/natche/opt/anaconda3/envs/tf/lib/python3.9/site-packages/sklearn/impute/_base.py:555: UserWarning: Skipping features without any observed values: ['BUREAU_MONTHS_BALANCE_MIN_MIN' 'BUREAU_MONTHS_BALANCE_MAX_MAX'\n",
      " 'BUREAU_MONTHS_BALANCE_SIZE_MEAN' 'BUREAU_STATUS_0_MEAN_MEAN'\n",
      " 'BUREAU_STATUS_1_MEAN_MEAN' 'BUREAU_STATUS_2_MEAN_MEAN'\n",
      " 'BUREAU_STATUS_C_MEAN_MEAN' 'BUREAU_STATUS_X_MEAN_MEAN'\n",
      " 'BUREAU_STATUS_nan_MEAN_MEAN' 'ACTIVE_MONTHS_BALANCE_MIN_MIN'\n",
      " 'ACTIVE_MONTHS_BALANCE_MAX_MAX' 'ACTIVE_MONTHS_BALANCE_SIZE_MEAN'\n",
      " 'CLOSED_AMT_ANNUITY_MAX' 'CLOSED_AMT_ANNUITY_MEAN'\n",
      " 'CLOSED_MONTHS_BALANCE_MIN_MIN' 'CLOSED_MONTHS_BALANCE_MAX_MAX'\n",
      " 'CLOSED_MONTHS_BALANCE_SIZE_MEAN']. At least one non-missing value is needed for imputation with strategy='median'.\n",
      "  warnings.warn(\n",
      "2023/11/16 16:29:24 WARNING mlflow.sklearn: Failed to infer model signature: Unable to map 'object' type to MLflow DataType. object can be mapped iff all values have identical data type which is one of (string, (bytes or byterray),  int, float).\n",
      "2023/11/16 16:29:24 WARNING mlflow.sklearn: Model was missing function: predict. Not logging python_function flavor!\n"
     ]
    },
    {
     "name": "stdout",
     "output_type": "stream",
     "text": [
      "shape before  (5, 128)\n",
      "new shape after merge (5, 231)\n"
     ]
    },
    {
     "name": "stderr",
     "output_type": "stream",
     "text": [
      "/Users/natche/opt/anaconda3/envs/tf/lib/python3.9/site-packages/sklearn/impute/_base.py:555: UserWarning: Skipping features without any observed values: ['BUREAU_MONTHS_BALANCE_MIN_MIN' 'BUREAU_MONTHS_BALANCE_MAX_MAX'\n",
      " 'BUREAU_MONTHS_BALANCE_SIZE_MEAN' 'BUREAU_STATUS_0_MEAN_MEAN'\n",
      " 'BUREAU_STATUS_1_MEAN_MEAN' 'BUREAU_STATUS_2_MEAN_MEAN'\n",
      " 'BUREAU_STATUS_C_MEAN_MEAN' 'BUREAU_STATUS_X_MEAN_MEAN'\n",
      " 'BUREAU_STATUS_nan_MEAN_MEAN' 'ACTIVE_MONTHS_BALANCE_MIN_MIN'\n",
      " 'ACTIVE_MONTHS_BALANCE_MAX_MAX' 'ACTIVE_MONTHS_BALANCE_SIZE_MEAN'\n",
      " 'CLOSED_AMT_ANNUITY_MAX' 'CLOSED_AMT_ANNUITY_MEAN'\n",
      " 'CLOSED_MONTHS_BALANCE_MIN_MIN' 'CLOSED_MONTHS_BALANCE_MAX_MAX'\n",
      " 'CLOSED_MONTHS_BALANCE_SIZE_MEAN']. At least one non-missing value is needed for imputation with strategy='median'.\n",
      "  warnings.warn(\n",
      "2023/11/16 16:29:25 WARNING mlflow.utils.autologging_utils: MLflow autologging encountered a warning: \"/Users/natche/opt/anaconda3/envs/tf/lib/python3.9/site-packages/mlflow/data/pandas_dataset.py:116: UserWarning: Hint: Inferred schema contains integer column(s). Integer columns in Python cannot represent missing values. If your input data contains missing values at inference time, it will be encoded as floats and will cause a schema enforcement error. The best way to avoid this problem is to infer the model schema based on a realistic data sample (training dataset) that includes missing values. Alternatively, you can declare integer columns as doubles (float64) whenever these columns may have missing values. See `Handling Integers With Missing Values <https://www.mlflow.org/docs/latest/models.html#handling-integers-with-missing-values>`_ for more details.\"\n"
     ]
    },
    {
     "name": "stdout",
     "output_type": "stream",
     "text": [
      "shape before  (1000, 128)\n",
      "new shape after merge (1000, 231)\n"
     ]
    },
    {
     "data": {
      "text/html": [
       "<div>\n",
       "<style scoped>\n",
       "    .dataframe tbody tr th:only-of-type {\n",
       "        vertical-align: middle;\n",
       "    }\n",
       "\n",
       "    .dataframe tbody tr th {\n",
       "        vertical-align: top;\n",
       "    }\n",
       "\n",
       "    .dataframe thead th {\n",
       "        text-align: right;\n",
       "    }\n",
       "</style>\n",
       "<table border=\"1\" class=\"dataframe\">\n",
       "  <thead>\n",
       "    <tr style=\"text-align: right;\">\n",
       "      <th></th>\n",
       "      <th>NAME_CONTRACT_TYPE_Cash loans</th>\n",
       "      <th>NAME_CONTRACT_TYPE_Revolving loans</th>\n",
       "      <th>CODE_GENDER_F</th>\n",
       "      <th>CODE_GENDER_M</th>\n",
       "      <th>NAME_TYPE_SUITE_Children</th>\n",
       "      <th>NAME_TYPE_SUITE_Family</th>\n",
       "      <th>NAME_TYPE_SUITE_Group of people</th>\n",
       "      <th>NAME_TYPE_SUITE_Other_A</th>\n",
       "      <th>NAME_TYPE_SUITE_Other_B</th>\n",
       "      <th>NAME_TYPE_SUITE_Spouse, partner</th>\n",
       "      <th>...</th>\n",
       "      <th>FLAG_DOCUMENT_13</th>\n",
       "      <th>FLAG_DOCUMENT_14</th>\n",
       "      <th>FLAG_DOCUMENT_15</th>\n",
       "      <th>FLAG_DOCUMENT_16</th>\n",
       "      <th>FLAG_DOCUMENT_17</th>\n",
       "      <th>FLAG_DOCUMENT_18</th>\n",
       "      <th>FLAG_DOCUMENT_19</th>\n",
       "      <th>FLAG_DOCUMENT_20</th>\n",
       "      <th>FLAG_DOCUMENT_21</th>\n",
       "      <th>SK_ID_CURR</th>\n",
       "    </tr>\n",
       "  </thead>\n",
       "  <tbody>\n",
       "    <tr>\n",
       "      <th>4000</th>\n",
       "      <td>1.0000</td>\n",
       "      <td>0.0000</td>\n",
       "      <td>1.0000</td>\n",
       "      <td>0.0000</td>\n",
       "      <td>0.0000</td>\n",
       "      <td>1.0000</td>\n",
       "      <td>0.0000</td>\n",
       "      <td>0.0000</td>\n",
       "      <td>0.0000</td>\n",
       "      <td>0.0000</td>\n",
       "      <td>...</td>\n",
       "      <td>0.0000</td>\n",
       "      <td>0.0000</td>\n",
       "      <td>0.0000</td>\n",
       "      <td>0.0000</td>\n",
       "      <td>0.0000</td>\n",
       "      <td>0.0000</td>\n",
       "      <td>0.0000</td>\n",
       "      <td>0.0000</td>\n",
       "      <td>0.0000</td>\n",
       "      <td>104678</td>\n",
       "    </tr>\n",
       "    <tr>\n",
       "      <th>4001</th>\n",
       "      <td>1.0000</td>\n",
       "      <td>0.0000</td>\n",
       "      <td>1.0000</td>\n",
       "      <td>0.0000</td>\n",
       "      <td>0.0000</td>\n",
       "      <td>0.0000</td>\n",
       "      <td>0.0000</td>\n",
       "      <td>0.0000</td>\n",
       "      <td>0.0000</td>\n",
       "      <td>0.0000</td>\n",
       "      <td>...</td>\n",
       "      <td>0.0000</td>\n",
       "      <td>0.0000</td>\n",
       "      <td>0.0000</td>\n",
       "      <td>0.0000</td>\n",
       "      <td>0.0000</td>\n",
       "      <td>0.0000</td>\n",
       "      <td>0.0000</td>\n",
       "      <td>0.0000</td>\n",
       "      <td>0.0000</td>\n",
       "      <td>104679</td>\n",
       "    </tr>\n",
       "    <tr>\n",
       "      <th>4002</th>\n",
       "      <td>1.0000</td>\n",
       "      <td>0.0000</td>\n",
       "      <td>1.0000</td>\n",
       "      <td>0.0000</td>\n",
       "      <td>0.0000</td>\n",
       "      <td>0.0000</td>\n",
       "      <td>0.0000</td>\n",
       "      <td>0.0000</td>\n",
       "      <td>0.0000</td>\n",
       "      <td>1.0000</td>\n",
       "      <td>...</td>\n",
       "      <td>0.0000</td>\n",
       "      <td>0.0000</td>\n",
       "      <td>0.0000</td>\n",
       "      <td>0.0000</td>\n",
       "      <td>0.0000</td>\n",
       "      <td>0.0000</td>\n",
       "      <td>0.0000</td>\n",
       "      <td>0.0000</td>\n",
       "      <td>0.0000</td>\n",
       "      <td>104680</td>\n",
       "    </tr>\n",
       "    <tr>\n",
       "      <th>4003</th>\n",
       "      <td>0.0000</td>\n",
       "      <td>1.0000</td>\n",
       "      <td>1.0000</td>\n",
       "      <td>0.0000</td>\n",
       "      <td>0.0000</td>\n",
       "      <td>0.0000</td>\n",
       "      <td>0.0000</td>\n",
       "      <td>0.0000</td>\n",
       "      <td>0.0000</td>\n",
       "      <td>0.0000</td>\n",
       "      <td>...</td>\n",
       "      <td>0.0000</td>\n",
       "      <td>0.0000</td>\n",
       "      <td>0.0000</td>\n",
       "      <td>0.0000</td>\n",
       "      <td>0.0000</td>\n",
       "      <td>0.0000</td>\n",
       "      <td>0.0000</td>\n",
       "      <td>0.0000</td>\n",
       "      <td>0.0000</td>\n",
       "      <td>104681</td>\n",
       "    </tr>\n",
       "    <tr>\n",
       "      <th>4004</th>\n",
       "      <td>1.0000</td>\n",
       "      <td>0.0000</td>\n",
       "      <td>0.0000</td>\n",
       "      <td>1.0000</td>\n",
       "      <td>0.0000</td>\n",
       "      <td>0.0000</td>\n",
       "      <td>0.0000</td>\n",
       "      <td>0.0000</td>\n",
       "      <td>0.0000</td>\n",
       "      <td>0.0000</td>\n",
       "      <td>...</td>\n",
       "      <td>0.0000</td>\n",
       "      <td>0.0000</td>\n",
       "      <td>0.0000</td>\n",
       "      <td>0.0000</td>\n",
       "      <td>0.0000</td>\n",
       "      <td>0.0000</td>\n",
       "      <td>0.0000</td>\n",
       "      <td>0.0000</td>\n",
       "      <td>0.0000</td>\n",
       "      <td>104682</td>\n",
       "    </tr>\n",
       "    <tr>\n",
       "      <th>4005</th>\n",
       "      <td>1.0000</td>\n",
       "      <td>0.0000</td>\n",
       "      <td>1.0000</td>\n",
       "      <td>0.0000</td>\n",
       "      <td>0.0000</td>\n",
       "      <td>0.0000</td>\n",
       "      <td>0.0000</td>\n",
       "      <td>0.0000</td>\n",
       "      <td>0.0000</td>\n",
       "      <td>0.0000</td>\n",
       "      <td>...</td>\n",
       "      <td>0.0000</td>\n",
       "      <td>0.0000</td>\n",
       "      <td>0.0000</td>\n",
       "      <td>0.0000</td>\n",
       "      <td>0.0000</td>\n",
       "      <td>0.0000</td>\n",
       "      <td>0.0000</td>\n",
       "      <td>0.0000</td>\n",
       "      <td>0.0000</td>\n",
       "      <td>104683</td>\n",
       "    </tr>\n",
       "    <tr>\n",
       "      <th>4006</th>\n",
       "      <td>1.0000</td>\n",
       "      <td>0.0000</td>\n",
       "      <td>1.0000</td>\n",
       "      <td>0.0000</td>\n",
       "      <td>0.0000</td>\n",
       "      <td>1.0000</td>\n",
       "      <td>0.0000</td>\n",
       "      <td>0.0000</td>\n",
       "      <td>0.0000</td>\n",
       "      <td>0.0000</td>\n",
       "      <td>...</td>\n",
       "      <td>0.0000</td>\n",
       "      <td>0.0000</td>\n",
       "      <td>0.0000</td>\n",
       "      <td>0.0000</td>\n",
       "      <td>0.0000</td>\n",
       "      <td>0.0000</td>\n",
       "      <td>0.0000</td>\n",
       "      <td>0.0000</td>\n",
       "      <td>0.0000</td>\n",
       "      <td>104684</td>\n",
       "    </tr>\n",
       "    <tr>\n",
       "      <th>4007</th>\n",
       "      <td>1.0000</td>\n",
       "      <td>0.0000</td>\n",
       "      <td>0.0000</td>\n",
       "      <td>1.0000</td>\n",
       "      <td>0.0000</td>\n",
       "      <td>1.0000</td>\n",
       "      <td>0.0000</td>\n",
       "      <td>0.0000</td>\n",
       "      <td>0.0000</td>\n",
       "      <td>0.0000</td>\n",
       "      <td>...</td>\n",
       "      <td>0.0000</td>\n",
       "      <td>0.0000</td>\n",
       "      <td>0.0000</td>\n",
       "      <td>0.0000</td>\n",
       "      <td>0.0000</td>\n",
       "      <td>0.0000</td>\n",
       "      <td>0.0000</td>\n",
       "      <td>0.0000</td>\n",
       "      <td>0.0000</td>\n",
       "      <td>104686</td>\n",
       "    </tr>\n",
       "    <tr>\n",
       "      <th>4008</th>\n",
       "      <td>1.0000</td>\n",
       "      <td>0.0000</td>\n",
       "      <td>1.0000</td>\n",
       "      <td>0.0000</td>\n",
       "      <td>0.0000</td>\n",
       "      <td>0.0000</td>\n",
       "      <td>0.0000</td>\n",
       "      <td>0.0000</td>\n",
       "      <td>0.0000</td>\n",
       "      <td>0.0000</td>\n",
       "      <td>...</td>\n",
       "      <td>0.0000</td>\n",
       "      <td>0.0000</td>\n",
       "      <td>0.0000</td>\n",
       "      <td>0.0000</td>\n",
       "      <td>0.0000</td>\n",
       "      <td>0.0000</td>\n",
       "      <td>0.0000</td>\n",
       "      <td>0.0000</td>\n",
       "      <td>0.0000</td>\n",
       "      <td>104687</td>\n",
       "    </tr>\n",
       "    <tr>\n",
       "      <th>4009</th>\n",
       "      <td>1.0000</td>\n",
       "      <td>0.0000</td>\n",
       "      <td>0.0000</td>\n",
       "      <td>1.0000</td>\n",
       "      <td>0.0000</td>\n",
       "      <td>1.0000</td>\n",
       "      <td>0.0000</td>\n",
       "      <td>0.0000</td>\n",
       "      <td>0.0000</td>\n",
       "      <td>0.0000</td>\n",
       "      <td>...</td>\n",
       "      <td>0.0000</td>\n",
       "      <td>0.0000</td>\n",
       "      <td>0.0000</td>\n",
       "      <td>0.0000</td>\n",
       "      <td>0.0000</td>\n",
       "      <td>0.0000</td>\n",
       "      <td>0.0000</td>\n",
       "      <td>0.0000</td>\n",
       "      <td>0.0000</td>\n",
       "      <td>104688</td>\n",
       "    </tr>\n",
       "  </tbody>\n",
       "</table>\n",
       "<p>10 rows × 334 columns</p>\n",
       "</div>"
      ],
      "text/plain": [
       "      NAME_CONTRACT_TYPE_Cash loans  NAME_CONTRACT_TYPE_Revolving loans  \\\n",
       "4000                         1.0000                              0.0000   \n",
       "4001                         1.0000                              0.0000   \n",
       "4002                         1.0000                              0.0000   \n",
       "4003                         0.0000                              1.0000   \n",
       "4004                         1.0000                              0.0000   \n",
       "4005                         1.0000                              0.0000   \n",
       "4006                         1.0000                              0.0000   \n",
       "4007                         1.0000                              0.0000   \n",
       "4008                         1.0000                              0.0000   \n",
       "4009                         1.0000                              0.0000   \n",
       "\n",
       "      CODE_GENDER_F  CODE_GENDER_M  NAME_TYPE_SUITE_Children  \\\n",
       "4000         1.0000         0.0000                    0.0000   \n",
       "4001         1.0000         0.0000                    0.0000   \n",
       "4002         1.0000         0.0000                    0.0000   \n",
       "4003         1.0000         0.0000                    0.0000   \n",
       "4004         0.0000         1.0000                    0.0000   \n",
       "4005         1.0000         0.0000                    0.0000   \n",
       "4006         1.0000         0.0000                    0.0000   \n",
       "4007         0.0000         1.0000                    0.0000   \n",
       "4008         1.0000         0.0000                    0.0000   \n",
       "4009         0.0000         1.0000                    0.0000   \n",
       "\n",
       "      NAME_TYPE_SUITE_Family  NAME_TYPE_SUITE_Group of people  \\\n",
       "4000                  1.0000                           0.0000   \n",
       "4001                  0.0000                           0.0000   \n",
       "4002                  0.0000                           0.0000   \n",
       "4003                  0.0000                           0.0000   \n",
       "4004                  0.0000                           0.0000   \n",
       "4005                  0.0000                           0.0000   \n",
       "4006                  1.0000                           0.0000   \n",
       "4007                  1.0000                           0.0000   \n",
       "4008                  0.0000                           0.0000   \n",
       "4009                  1.0000                           0.0000   \n",
       "\n",
       "      NAME_TYPE_SUITE_Other_A  NAME_TYPE_SUITE_Other_B  \\\n",
       "4000                   0.0000                   0.0000   \n",
       "4001                   0.0000                   0.0000   \n",
       "4002                   0.0000                   0.0000   \n",
       "4003                   0.0000                   0.0000   \n",
       "4004                   0.0000                   0.0000   \n",
       "4005                   0.0000                   0.0000   \n",
       "4006                   0.0000                   0.0000   \n",
       "4007                   0.0000                   0.0000   \n",
       "4008                   0.0000                   0.0000   \n",
       "4009                   0.0000                   0.0000   \n",
       "\n",
       "      NAME_TYPE_SUITE_Spouse, partner  ...  FLAG_DOCUMENT_13  \\\n",
       "4000                           0.0000  ...            0.0000   \n",
       "4001                           0.0000  ...            0.0000   \n",
       "4002                           1.0000  ...            0.0000   \n",
       "4003                           0.0000  ...            0.0000   \n",
       "4004                           0.0000  ...            0.0000   \n",
       "4005                           0.0000  ...            0.0000   \n",
       "4006                           0.0000  ...            0.0000   \n",
       "4007                           0.0000  ...            0.0000   \n",
       "4008                           0.0000  ...            0.0000   \n",
       "4009                           0.0000  ...            0.0000   \n",
       "\n",
       "      FLAG_DOCUMENT_14  FLAG_DOCUMENT_15  FLAG_DOCUMENT_16  FLAG_DOCUMENT_17  \\\n",
       "4000            0.0000            0.0000            0.0000            0.0000   \n",
       "4001            0.0000            0.0000            0.0000            0.0000   \n",
       "4002            0.0000            0.0000            0.0000            0.0000   \n",
       "4003            0.0000            0.0000            0.0000            0.0000   \n",
       "4004            0.0000            0.0000            0.0000            0.0000   \n",
       "4005            0.0000            0.0000            0.0000            0.0000   \n",
       "4006            0.0000            0.0000            0.0000            0.0000   \n",
       "4007            0.0000            0.0000            0.0000            0.0000   \n",
       "4008            0.0000            0.0000            0.0000            0.0000   \n",
       "4009            0.0000            0.0000            0.0000            0.0000   \n",
       "\n",
       "      FLAG_DOCUMENT_18  FLAG_DOCUMENT_19  FLAG_DOCUMENT_20  FLAG_DOCUMENT_21  \\\n",
       "4000            0.0000            0.0000            0.0000            0.0000   \n",
       "4001            0.0000            0.0000            0.0000            0.0000   \n",
       "4002            0.0000            0.0000            0.0000            0.0000   \n",
       "4003            0.0000            0.0000            0.0000            0.0000   \n",
       "4004            0.0000            0.0000            0.0000            0.0000   \n",
       "4005            0.0000            0.0000            0.0000            0.0000   \n",
       "4006            0.0000            0.0000            0.0000            0.0000   \n",
       "4007            0.0000            0.0000            0.0000            0.0000   \n",
       "4008            0.0000            0.0000            0.0000            0.0000   \n",
       "4009            0.0000            0.0000            0.0000            0.0000   \n",
       "\n",
       "      SK_ID_CURR  \n",
       "4000      104678  \n",
       "4001      104679  \n",
       "4002      104680  \n",
       "4003      104681  \n",
       "4004      104682  \n",
       "4005      104683  \n",
       "4006      104684  \n",
       "4007      104686  \n",
       "4008      104687  \n",
       "4009      104688  \n",
       "\n",
       "[10 rows x 334 columns]"
      ]
     },
     "execution_count": 564,
     "metadata": {},
     "output_type": "execute_result"
    }
   ],
   "source": [
    "# debug\n",
    "test_config = {\n",
    "    'preprocessing': {\n",
    "        'should_fill_na': True,\n",
    "        'num_imputer': SimpleImputer(strategy='median'),\n",
    "        'cat_imputer': SimpleImputer(strategy='most_frequent'),\n",
    "        'should_scale': True,\n",
    "        'scaler': StandardScaler(),\n",
    "        'use_bureau': True\n",
    "    },\n",
    "     'balancing': {\n",
    "        'should_oversample': False,\n",
    "        'with_categorical': False\n",
    "    },\n",
    "    'model_params': {\n",
    "        'random_state': 42\n",
    "    }\n",
    "}\n",
    "\n",
    "time_start = time.time()\n",
    "\n",
    "data = process.load_data(dev_mode=True)\n",
    "\n",
    "X = data['application'].drop(process.TARGET_COLUMN, axis=1)\n",
    "y = data['application'][process.TARGET_COLUMN]\n",
    "\n",
    "X_train, X_test, y_train, y_test = train_test_split(X,\n",
    "                                                      y,\n",
    "                                                      test_size=0.2,\n",
    "                                                      random_state=42,\n",
    "                                                      shuffle=False)\n",
    "\n",
    "print('Train shape: {}'.format(X_train.shape))\n",
    "print('Valid shape: {}'.format(y_train.shape))\n",
    "\n",
    "pipeline = PIPELINES['log_regression'](config=test_config)\n",
    "\n",
    "\n",
    "X_new = pipeline.fit(X_train)\n",
    "X_new_test = pipeline.transform(X_test)\n",
    "X_new_test.head(10)"
   ]
  },
  {
   "cell_type": "code",
   "execution_count": 573,
   "id": "f94f7410-fdf6-40aa-beb5-97d1f27b6fd4",
   "metadata": {},
   "outputs": [
    {
     "name": "stdout",
     "output_type": "stream",
     "text": [
      "Training the model\n",
      "Loading application_train ...\n",
      "Loading Done.\n",
      "Train shape: (246008, 121)\n",
      "Valid shape: (246008,)\n",
      "Start pipeline fit and transform\n",
      "[Pipeline] ........... (step 1 of 8) Processing cleaner, total=   0.3s\n",
      "[Pipeline] . (step 2 of 8) Processing feature_extractor, total=   0.0s\n",
      "shape before  (246008, 128)\n",
      "new shape after merge (246008, 244)\n",
      "[Pipeline]  (step 3 of 8) Processing merge_bureau_and_balance, total=   0.2s\n",
      "X shape before removing (246008, 244)\n",
      "X shape after removing (246008, 202)\n",
      "[Pipeline] ........... (step 4 of 8) Processing imputer, total=   4.5s\n",
      "[Pipeline] ............ (step 5 of 8) Processing scalar, total=   0.4s\n",
      "[Pipeline] ........... (step 6 of 8) Processing encoder, total=   1.2s\n"
     ]
    },
    {
     "name": "stderr",
     "output_type": "stream",
     "text": [
      "2023/11/16 16:54:36 WARNING mlflow.sklearn: Training metrics will not be recorded because training labels were not specified. To automatically record training metrics, provide training labels as inputs to the model training function.\n",
      "2023/11/16 16:54:36 WARNING mlflow.sklearn: Failed to infer model signature: the trained model does not have a `predict` or `transform` function, which is required in order to infer the signature\n",
      "2023/11/16 16:54:36 WARNING mlflow.sklearn: Model was missing function: predict. Not logging python_function flavor!\n"
     ]
    },
    {
     "name": "stdout",
     "output_type": "stream",
     "text": [
      "[Pipeline] ............. (step 7 of 8) Processing smote, total=   4.8s\n"
     ]
    },
    {
     "name": "stderr",
     "output_type": "stream",
     "text": [
      "2023/11/16 16:54:54 WARNING mlflow.utils.autologging_utils: MLflow autologging encountered a warning: \"/Users/natche/opt/anaconda3/envs/tf/lib/python3.9/site-packages/mlflow/data/pandas_dataset.py:116: UserWarning: Hint: Inferred schema contains integer column(s). Integer columns in Python cannot represent missing values. If your input data contains missing values at inference time, it will be encoded as floats and will cause a schema enforcement error. The best way to avoid this problem is to infer the model schema based on a realistic data sample (training dataset) that includes missing values. Alternatively, you can declare integer columns as doubles (float64) whenever these columns may have missing values. See `Handling Integers With Missing Values <https://www.mlflow.org/docs/latest/models.html#handling-integers-with-missing-values>`_ for more details.\"\n",
      "2023/11/16 16:54:59 WARNING mlflow.utils.autologging_utils: MLflow autologging encountered a warning: \"/Users/natche/opt/anaconda3/envs/tf/lib/python3.9/site-packages/mlflow/models/signature.py:212: UserWarning: Hint: Inferred schema contains integer column(s). Integer columns in Python cannot represent missing values. If your input data contains missing values at inference time, it will be encoded as floats and will cause a schema enforcement error. The best way to avoid this problem is to infer the model schema based on a realistic data sample (training dataset) that includes missing values. Alternatively, you can declare integer columns as doubles (float64) whenever these columns may have missing values. See `Handling Integers With Missing Values <https://www.mlflow.org/docs/latest/models.html#handling-integers-with-missing-values>`_ for more details.\"\n"
     ]
    },
    {
     "name": "stdout",
     "output_type": "stream",
     "text": [
      "[Pipeline] ........ (step 8 of 8) Processing classifier, total=  20.5s\n",
      "shape before  (61503, 128)\n",
      "new shape after merge (61503, 244)\n"
     ]
    },
    {
     "name": "stderr",
     "output_type": "stream",
     "text": [
      "2023/11/16 16:55:03 WARNING mlflow.utils.autologging_utils: MLflow autologging encountered a warning: \"/Users/natche/opt/anaconda3/envs/tf/lib/python3.9/site-packages/mlflow/data/pandas_dataset.py:116: UserWarning: Hint: Inferred schema contains integer column(s). Integer columns in Python cannot represent missing values. If your input data contains missing values at inference time, it will be encoded as floats and will cause a schema enforcement error. The best way to avoid this problem is to infer the model schema based on a realistic data sample (training dataset) that includes missing values. Alternatively, you can declare integer columns as doubles (float64) whenever these columns may have missing values. See `Handling Integers With Missing Values <https://www.mlflow.org/docs/latest/models.html#handling-integers-with-missing-values>`_ for more details.\"\n"
     ]
    },
    {
     "name": "stdout",
     "output_type": "stream",
     "text": [
      "shape before  (61503, 128)\n",
      "new shape after merge (61503, 244)\n"
     ]
    },
    {
     "name": "stderr",
     "output_type": "stream",
     "text": [
      "2023/11/16 16:55:06 WARNING mlflow.utils.autologging_utils: MLflow autologging encountered a warning: \"/Users/natche/opt/anaconda3/envs/tf/lib/python3.9/site-packages/mlflow/data/pandas_dataset.py:116: UserWarning: Hint: Inferred schema contains integer column(s). Integer columns in Python cannot represent missing values. If your input data contains missing values at inference time, it will be encoded as floats and will cause a schema enforcement error. The best way to avoid this problem is to infer the model schema based on a realistic data sample (training dataset) that includes missing values. Alternatively, you can declare integer columns as doubles (float64) whenever these columns may have missing values. See `Handling Integers With Missing Values <https://www.mlflow.org/docs/latest/models.html#handling-integers-with-missing-values>`_ for more details.\"\n"
     ]
    },
    {
     "name": "stdout",
     "output_type": "stream",
     "text": [
      "-------------------------\n",
      "ROC AUC: 0.63\n",
      "Accuracy: 0.69\n",
      "Fbeta score(b=10): 0.55\n",
      "Classification report:\n",
      "              precision    recall  f1-score   support\n",
      "\n",
      "           0       0.95      0.70      0.80     56619\n",
      "           1       0.14      0.56      0.22      4884\n",
      "\n",
      "    accuracy                           0.69     61503\n",
      "   macro avg       0.54      0.63      0.51     61503\n",
      "weighted avg       0.88      0.69      0.76     61503\n",
      "\n",
      "-------------------------\n",
      "execution time: 51.52 seconds \n",
      "\n"
     ]
    },
    {
     "data": {
      "image/png": "[encoded data removed]",
      "text/plain": [
       "<Figure size 640x480 with 1 Axes>"
      ]
     },
     "metadata": {},
     "output_type": "display_data"
    }
   ],
   "source": [
    "test_config = {\n",
    "    'preprocessing': {\n",
    "        'should_fill_na': True,\n",
    "        'num_imputer': SimpleImputer(strategy='median'),\n",
    "        'cat_imputer': SimpleImputer(strategy='most_frequent'),\n",
    "        'should_scale': True,\n",
    "        'scaler': StandardScaler(),\n",
    "        'use_bureau': True\n",
    "    },\n",
    "     'balancing': {\n",
    "        'should_oversample': True,\n",
    "        'with_categorical': False\n",
    "    },\n",
    "    'model_params': {\n",
    "        'random_state': 42\n",
    "    }\n",
    "}\n",
    "\n",
    "train('log_regression', config=test_config, dev_mode=False)"
   ]
  },
  {
   "cell_type": "markdown",
   "id": "70c8cd9c-a20a-425b-a37a-fd0270c4b127",
   "metadata": {},
   "source": [
    "# Experiments\n",
    "## Dummy classifier\n",
    "\n",
    "Set the baseline with the Dummy Classifier"
   ]
  },
  {
   "cell_type": "code",
   "execution_count": 515,
   "id": "33bef21a-f03b-4cc8-9f82-79ebe8fb32dc",
   "metadata": {},
   "outputs": [
    {
     "name": "stdout",
     "output_type": "stream",
     "text": [
      "Training the model\n",
      "Loading application_train ...\n"
     ]
    },
    {
     "name": "stderr",
     "output_type": "stream",
     "text": [
      "2023/11/15 10:24:13 INFO mlflow.utils.autologging_utils: Created MLflow autologging run with ID '99efc56521ce44b68edbd0288454132d', which will track hyperparameters, performance metrics, model artifacts, and lineage information for the current sklearn workflow\n"
     ]
    },
    {
     "name": "stdout",
     "output_type": "stream",
     "text": [
      "Loading Done.\n",
      "Train shape: (246008, 121)\n",
      "Valid shape: (246008,)\n",
      "Start pipeline fit and transform\n"
     ]
    },
    {
     "name": "stderr",
     "output_type": "stream",
     "text": [
      "2023/11/15 10:24:15 WARNING mlflow.data.pandas_dataset: Failed to infer schema for Pandas dataset. Exception: Unable to map 'object' type to MLflow DataType. object can be mapped iff all values have identical data type which is one of (string, (bytes or byterray),  int, float).\n",
      "/Users/natche/opt/anaconda3/envs/tf/lib/python3.9/site-packages/sklearn/metrics/_classification.py:1469: UndefinedMetricWarning: Precision is ill-defined and being set to 0.0 in labels with no predicted samples. Use `zero_division` parameter to control this behavior.\n",
      "  _warn_prf(average, modifier, msg_start, len(result))\n",
      "2023/11/15 10:24:16 WARNING mlflow.sklearn: Failed to infer model signature: Unable to map 'object' type to MLflow DataType. object can be mapped iff all values have identical data type which is one of (string, (bytes or byterray),  int, float).\n",
      "2023/11/15 10:24:18 WARNING mlflow.data.pandas_dataset: Failed to infer schema for Pandas dataset. Exception: Unable to map 'object' type to MLflow DataType. object can be mapped iff all values have identical data type which is one of (string, (bytes or byterray),  int, float).\n",
      "2023/11/15 10:24:19 WARNING mlflow.data.pandas_dataset: Failed to infer schema for Pandas dataset. Exception: Unable to map 'object' type to MLflow DataType. object can be mapped iff all values have identical data type which is one of (string, (bytes or byterray),  int, float).\n"
     ]
    },
    {
     "name": "stdout",
     "output_type": "stream",
     "text": [
      "-------------------------\n",
      "ROC AUC: 0.5\n",
      "Accuracy: 0.92\n",
      "Fbeta score(b=10): 0.0\n",
      "Classification report:\n",
      "              precision    recall  f1-score   support\n",
      "\n",
      "           0       0.92      1.00      0.96     56619\n",
      "           1       0.00      0.00      0.00      4884\n",
      "\n",
      "    accuracy                           0.92     61503\n",
      "   macro avg       0.46      0.50      0.48     61503\n",
      "weighted avg       0.85      0.92      0.88     61503\n",
      "\n",
      "-------------------------\n",
      "execution time: 8.94 seconds \n",
      "\n"
     ]
    },
    {
     "data": {
      "image/png": "[encoded data removed]",
      "text/plain": [
       "<Figure size 640x480 with 1 Axes>"
      ]
     },
     "metadata": {},
     "output_type": "display_data"
    }
   ],
   "source": [
    "train('dummy', config={'strategy': 'prior'}, dev_mode=False)"
   ]
  },
  {
   "cell_type": "markdown",
   "id": "15d46829-1951-4307-aa84-92f612b03a36",
   "metadata": {},
   "source": [
    "TODO: explanation"
   ]
  },
  {
   "cell_type": "markdown",
   "id": "68c91425-f367-4324-9e3a-143e0acfbe31",
   "metadata": {},
   "source": [
    "## Logistic Regression"
   ]
  },
  {
   "cell_type": "markdown",
   "id": "15f1ac50-88af-4dbe-9516-ba98f0eae9af",
   "metadata": {},
   "source": [
    "We will start with the most simple configuration."
   ]
  },
  {
   "cell_type": "code",
   "execution_count": 576,
   "id": "982f93f9-8eeb-4595-9b4d-3314a98c70d6",
   "metadata": {},
   "outputs": [],
   "source": [
    "# Set the experiment\n",
    "mlflow.set_experiment(\"Logistic Regression\")\n",
    "\n",
    "# Track models automatically\n",
    "mlflow.sklearn.autolog()"
   ]
  },
  {
   "cell_type": "code",
   "execution_count": 516,
   "id": "dcd757bf-1a58-4211-aab6-c5031b75f5f3",
   "metadata": {},
   "outputs": [],
   "source": [
    "config = {\n",
    "    'preprocessing': {\n",
    "        'should_fill_na': True,\n",
    "        'num_imputer': SimpleImputer(strategy='median'),\n",
    "        'cat_imputer': SimpleImputer(strategy='most_frequent'),\n",
    "        'should_scale': True,\n",
    "        'scaler': StandardScaler(),\n",
    "    },\n",
    "     'balancing': {\n",
    "        'should_oversample': False,\n",
    "        'with_categorical': False\n",
    "    },\n",
    "    'model_params': {\n",
    "        'random_state': 42\n",
    "    }\n",
    "}"
   ]
  },
  {
   "cell_type": "code",
   "execution_count": 535,
   "id": "655e9dec-b6aa-48bc-96b6-cc76fd827531",
   "metadata": {
    "scrolled": true
   },
   "outputs": [
    {
     "name": "stderr",
     "output_type": "stream",
     "text": [
      "2023/11/15 11:00:09 WARNING mlflow.sklearn: Training metrics will not be recorded because training labels were not specified. To automatically record training metrics, provide training labels as inputs to the model training function.\n",
      "2023/11/15 11:00:09 WARNING mlflow.sklearn: Failed to infer model signature: the trained model does not have a `predict` or `transform` function, which is required in order to infer the signature\n",
      "2023/11/15 11:00:09 WARNING mlflow.sklearn: Model was missing function: predict. Not logging python_function flavor!\n"
     ]
    },
    {
     "name": "stdout",
     "output_type": "stream",
     "text": [
      "Training the model\n",
      "Loading application_train ...\n",
      "Loading Done.\n",
      "Train shape: (800, 121)\n",
      "Valid shape: (800,)\n",
      "Start pipeline fit and transform\n",
      "[Pipeline] ........... (step 1 of 7) Processing cleaner, total=   0.0s\n",
      "[Pipeline] . (step 2 of 7) Processing feature_extractor, total=   0.0s\n",
      "[Pipeline] ........... (step 3 of 7) Processing imputer, total=   0.0s\n",
      "[Pipeline] ............ (step 4 of 7) Processing scalar, total=   0.0s\n"
     ]
    },
    {
     "name": "stderr",
     "output_type": "stream",
     "text": [
      "2023/11/15 11:00:10 WARNING mlflow.models.model: Logging model metadata to the tracking server has failed. The model artifacts have been logged successfully under file:///Users/natche/Jupiter/Project%207/mlruns/972159027913578879/6a92fa47e6664e7490737cc069bfcc52/artifacts. Set logging level to DEBUG via `logging.getLogger(\"mlflow\").setLevel(logging.DEBUG)` to see the full traceback.\n",
      "2023/11/15 11:00:10 WARNING mlflow.utils.autologging_utils: Encountered unexpected error during sklearn autologging: The following failures occurred while performing one or more logging operations: [MlflowException('Failed to perform one or more operations on the run with ID 6a92fa47e6664e7490737cc069bfcc52. Failed operations: [MlflowException(\"The run 6a92fa47e6664e7490737cc069bfcc52 must be in \\'active\\' lifecycle_stage.\"), MlflowException(\"The run 6a92fa47e6664e7490737cc069bfcc52 must be in \\'active\\' lifecycle_stage.\")]')]\n",
      "2023/11/15 11:00:10 WARNING mlflow.utils.autologging_utils: MLflow autologging encountered a warning: \"/Users/natche/opt/anaconda3/envs/tf/lib/python3.9/site-packages/mlflow/data/pandas_dataset.py:116: UserWarning: Hint: Inferred schema contains integer column(s). Integer columns in Python cannot represent missing values. If your input data contains missing values at inference time, it will be encoded as floats and will cause a schema enforcement error. The best way to avoid this problem is to infer the model schema based on a realistic data sample (training dataset) that includes missing values. Alternatively, you can declare integer columns as doubles (float64) whenever these columns may have missing values. See `Handling Integers With Missing Values <https://www.mlflow.org/docs/latest/models.html#handling-integers-with-missing-values>`_ for more details.\"\n",
      "/Users/natche/opt/anaconda3/envs/tf/lib/python3.9/site-packages/sklearn/metrics/_classification.py:1469: UndefinedMetricWarning: Precision is ill-defined and being set to 0.0 in labels with no predicted samples. Use `zero_division` parameter to control this behavior.\n",
      "  _warn_prf(average, modifier, msg_start, len(result))\n"
     ]
    },
    {
     "name": "stdout",
     "output_type": "stream",
     "text": [
      "[Pipeline] .......... (step 5 of 7) Processing smote_nc, total=   1.3s\n",
      "[Pipeline] ........... (step 6 of 7) Processing encoder, total=   0.0s\n"
     ]
    },
    {
     "name": "stderr",
     "output_type": "stream",
     "text": [
      "2023/11/15 11:00:11 WARNING mlflow.utils.autologging_utils: MLflow autologging encountered a warning: \"/Users/natche/opt/anaconda3/envs/tf/lib/python3.9/site-packages/mlflow/models/signature.py:212: UserWarning: Hint: Inferred schema contains integer column(s). Integer columns in Python cannot represent missing values. If your input data contains missing values at inference time, it will be encoded as floats and will cause a schema enforcement error. The best way to avoid this problem is to infer the model schema based on a realistic data sample (training dataset) that includes missing values. Alternatively, you can declare integer columns as doubles (float64) whenever these columns may have missing values. See `Handling Integers With Missing Values <https://www.mlflow.org/docs/latest/models.html#handling-integers-with-missing-values>`_ for more details.\"\n",
      "2023/11/15 11:00:12 WARNING mlflow.models.model: Logging model metadata to the tracking server has failed. The model artifacts have been logged successfully under file:///Users/natche/Jupiter/Project%207/mlruns/972159027913578879/6a92fa47e6664e7490737cc069bfcc52/artifacts. Set logging level to DEBUG via `logging.getLogger(\"mlflow\").setLevel(logging.DEBUG)` to see the full traceback.\n",
      "2023/11/15 11:00:12 WARNING mlflow.utils.autologging_utils: Encountered unexpected error during sklearn autologging: The following failures occurred while performing one or more logging operations: [MlflowException('Failed to perform one or more operations on the run with ID 6a92fa47e6664e7490737cc069bfcc52. Failed operations: [MlflowException(\"The run 6a92fa47e6664e7490737cc069bfcc52 must be in \\'active\\' lifecycle_stage.\")]')]\n"
     ]
    },
    {
     "name": "stdout",
     "output_type": "stream",
     "text": [
      "[Pipeline] ........ (step 7 of 7) Processing classifier, total=   1.5s\n",
      "-------------------------\n",
      "ROC AUC: 0.5\n"
     ]
    },
    {
     "ename": "MlflowException",
     "evalue": "The run 6a92fa47e6664e7490737cc069bfcc52 must be in 'active' lifecycle_stage.",
     "output_type": "error",
     "traceback": [
      "\u001b[0;31m---------------------------------------------------------------------------\u001b[0m",
      "\u001b[0;31mMlflowException\u001b[0m                           Traceback (most recent call last)",
      "Cell \u001b[0;32mIn[535], line 5\u001b[0m\n\u001b[1;32m      2\u001b[0m config[\u001b[38;5;124m'\u001b[39m\u001b[38;5;124mbalancing\u001b[39m\u001b[38;5;124m'\u001b[39m][\u001b[38;5;124m'\u001b[39m\u001b[38;5;124mshould_oversample\u001b[39m\u001b[38;5;124m'\u001b[39m] \u001b[38;5;241m=\u001b[39m \u001b[38;5;28;01mTrue\u001b[39;00m\n\u001b[1;32m      3\u001b[0m config[\u001b[38;5;124m'\u001b[39m\u001b[38;5;124mbalancing\u001b[39m\u001b[38;5;124m'\u001b[39m][\u001b[38;5;124m'\u001b[39m\u001b[38;5;124mwith_categorical\u001b[39m\u001b[38;5;124m'\u001b[39m] \u001b[38;5;241m=\u001b[39m \u001b[38;5;28;01mTrue\u001b[39;00m\n\u001b[0;32m----> 5\u001b[0m \u001b[43mtrain\u001b[49m\u001b[43m(\u001b[49m\u001b[38;5;124;43m'\u001b[39;49m\u001b[38;5;124;43mlog_regression\u001b[39;49m\u001b[38;5;124;43m'\u001b[39;49m\u001b[43m,\u001b[49m\u001b[43m \u001b[49m\u001b[43mconfig\u001b[49m\u001b[43m,\u001b[49m\u001b[43m \u001b[49m\u001b[43mdev_mode\u001b[49m\u001b[38;5;241;43m=\u001b[39;49m\u001b[38;5;28;43;01mTrue\u001b[39;49;00m\u001b[43m)\u001b[49m\n",
      "Cell \u001b[0;32mIn[531], line 27\u001b[0m, in \u001b[0;36mtrain\u001b[0;34m(pipeline_name, config, dev_mode)\u001b[0m\n\u001b[1;32m     24\u001b[0m y_pred \u001b[38;5;241m=\u001b[39m pipeline\u001b[38;5;241m.\u001b[39mpredict(X_test)\n\u001b[1;32m     25\u001b[0m y_pred_proba \u001b[38;5;241m=\u001b[39m pipeline\u001b[38;5;241m.\u001b[39mpredict_proba(X_test)[::,\u001b[38;5;241m1\u001b[39m]\n\u001b[0;32m---> 27\u001b[0m \u001b[43mdisplay_scores\u001b[49m\u001b[43m(\u001b[49m\u001b[43my_test\u001b[49m\u001b[43m,\u001b[49m\u001b[43m \u001b[49m\u001b[43my_pred\u001b[49m\u001b[43m,\u001b[49m\u001b[43m \u001b[49m\u001b[43my_pred_proba\u001b[49m\u001b[43m,\u001b[49m\u001b[43m \u001b[49m\u001b[43mname\u001b[49m\u001b[38;5;241;43m=\u001b[39;49m\u001b[43mpipeline_name\u001b[49m\u001b[43m)\u001b[49m\n\u001b[1;32m     29\u001b[0m mlflow\u001b[38;5;241m.\u001b[39msklearn\u001b[38;5;241m.\u001b[39mlog_model(pipeline, pipeline_name)\n\u001b[1;32m     31\u001b[0m exec_time \u001b[38;5;241m=\u001b[39m \u001b[38;5;28mround\u001b[39m((time\u001b[38;5;241m.\u001b[39mtime() \u001b[38;5;241m-\u001b[39m time_start), \u001b[38;5;241m2\u001b[39m)\n",
      "Cell \u001b[0;32mIn[530], line 7\u001b[0m, in \u001b[0;36mdisplay_scores\u001b[0;34m(y_true, y_pred, y_pred_proba, name)\u001b[0m\n\u001b[1;32m      5\u001b[0m roc_auc \u001b[38;5;241m=\u001b[39m \u001b[38;5;28mround\u001b[39m(roc_auc_score(y_true, y_pred), \u001b[38;5;241m2\u001b[39m)\n\u001b[1;32m      6\u001b[0m \u001b[38;5;28mprint\u001b[39m(\u001b[38;5;124mf\u001b[39m\u001b[38;5;124m'\u001b[39m\u001b[38;5;124mROC AUC: \u001b[39m\u001b[38;5;132;01m{\u001b[39;00mroc_auc\u001b[38;5;132;01m}\u001b[39;00m\u001b[38;5;124m'\u001b[39m)\n\u001b[0;32m----> 7\u001b[0m \u001b[43mmlflow\u001b[49m\u001b[38;5;241;43m.\u001b[39;49m\u001b[43mlog_metric\u001b[49m\u001b[43m(\u001b[49m\u001b[38;5;124;43m\"\u001b[39;49m\u001b[38;5;124;43mAUC\u001b[39;49m\u001b[38;5;124;43m\"\u001b[39;49m\u001b[43m,\u001b[49m\u001b[43m \u001b[49m\u001b[43mroc_auc\u001b[49m\u001b[43m)\u001b[49m\n\u001b[1;32m      9\u001b[0m \u001b[38;5;66;03m# Accuracy\u001b[39;00m\n\u001b[1;32m     10\u001b[0m accuracy \u001b[38;5;241m=\u001b[39m \u001b[38;5;28mround\u001b[39m(accuracy_score(y_true, y_pred, normalize\u001b[38;5;241m=\u001b[39m\u001b[38;5;28;01mTrue\u001b[39;00m), \u001b[38;5;241m2\u001b[39m)\n",
      "File \u001b[0;32m~/opt/anaconda3/envs/tf/lib/python3.9/site-packages/mlflow/tracking/fluent.py:699\u001b[0m, in \u001b[0;36mlog_metric\u001b[0;34m(key, value, step)\u001b[0m\n\u001b[1;32m    675\u001b[0m \u001b[38;5;250m\u001b[39m\u001b[38;5;124;03m\"\"\"\u001b[39;00m\n\u001b[1;32m    676\u001b[0m \u001b[38;5;124;03mLog a metric under the current run. If no run is active, this method will create\u001b[39;00m\n\u001b[1;32m    677\u001b[0m \u001b[38;5;124;03ma new active run.\u001b[39;00m\n\u001b[0;32m   (...)\u001b[0m\n\u001b[1;32m    696\u001b[0m \u001b[38;5;124;03m        mlflow.log_metric(\"mse\", 2500.00)\u001b[39;00m\n\u001b[1;32m    697\u001b[0m \u001b[38;5;124;03m\"\"\"\u001b[39;00m\n\u001b[1;32m    698\u001b[0m run_id \u001b[38;5;241m=\u001b[39m _get_or_start_run()\u001b[38;5;241m.\u001b[39minfo\u001b[38;5;241m.\u001b[39mrun_id\n\u001b[0;32m--> 699\u001b[0m \u001b[43mMlflowClient\u001b[49m\u001b[43m(\u001b[49m\u001b[43m)\u001b[49m\u001b[38;5;241;43m.\u001b[39;49m\u001b[43mlog_metric\u001b[49m\u001b[43m(\u001b[49m\u001b[43mrun_id\u001b[49m\u001b[43m,\u001b[49m\u001b[43m \u001b[49m\u001b[43mkey\u001b[49m\u001b[43m,\u001b[49m\u001b[43m \u001b[49m\u001b[43mvalue\u001b[49m\u001b[43m,\u001b[49m\u001b[43m \u001b[49m\u001b[43mget_current_time_millis\u001b[49m\u001b[43m(\u001b[49m\u001b[43m)\u001b[49m\u001b[43m,\u001b[49m\u001b[43m \u001b[49m\u001b[43mstep\u001b[49m\u001b[43m \u001b[49m\u001b[38;5;129;43;01mor\u001b[39;49;00m\u001b[43m \u001b[49m\u001b[38;5;241;43m0\u001b[39;49m\u001b[43m)\u001b[49m\n",
      "File \u001b[0;32m~/opt/anaconda3/envs/tf/lib/python3.9/site-packages/mlflow/tracking/client.py:750\u001b[0m, in \u001b[0;36mMlflowClient.log_metric\u001b[0;34m(self, run_id, key, value, timestamp, step)\u001b[0m\n\u001b[1;32m    685\u001b[0m \u001b[38;5;28;01mdef\u001b[39;00m \u001b[38;5;21mlog_metric\u001b[39m(\n\u001b[1;32m    686\u001b[0m     \u001b[38;5;28mself\u001b[39m,\n\u001b[1;32m    687\u001b[0m     run_id: \u001b[38;5;28mstr\u001b[39m,\n\u001b[0;32m   (...)\u001b[0m\n\u001b[1;32m    691\u001b[0m     step: Optional[\u001b[38;5;28mint\u001b[39m] \u001b[38;5;241m=\u001b[39m \u001b[38;5;28;01mNone\u001b[39;00m,\n\u001b[1;32m    692\u001b[0m ) \u001b[38;5;241m-\u001b[39m\u001b[38;5;241m>\u001b[39m \u001b[38;5;28;01mNone\u001b[39;00m:\n\u001b[1;32m    693\u001b[0m \u001b[38;5;250m    \u001b[39m\u001b[38;5;124;03m\"\"\"\u001b[39;00m\n\u001b[1;32m    694\u001b[0m \u001b[38;5;124;03m    Log a metric against the run ID.\u001b[39;00m\n\u001b[1;32m    695\u001b[0m \n\u001b[0;32m   (...)\u001b[0m\n\u001b[1;32m    748\u001b[0m \u001b[38;5;124;03m        status: FINISHED\u001b[39;00m\n\u001b[1;32m    749\u001b[0m \u001b[38;5;124;03m    \"\"\"\u001b[39;00m\n\u001b[0;32m--> 750\u001b[0m     \u001b[38;5;28;43mself\u001b[39;49m\u001b[38;5;241;43m.\u001b[39;49m\u001b[43m_tracking_client\u001b[49m\u001b[38;5;241;43m.\u001b[39;49m\u001b[43mlog_metric\u001b[49m\u001b[43m(\u001b[49m\u001b[43mrun_id\u001b[49m\u001b[43m,\u001b[49m\u001b[43m \u001b[49m\u001b[43mkey\u001b[49m\u001b[43m,\u001b[49m\u001b[43m \u001b[49m\u001b[43mvalue\u001b[49m\u001b[43m,\u001b[49m\u001b[43m \u001b[49m\u001b[43mtimestamp\u001b[49m\u001b[43m,\u001b[49m\u001b[43m \u001b[49m\u001b[43mstep\u001b[49m\u001b[43m)\u001b[49m\n",
      "File \u001b[0;32m~/opt/anaconda3/envs/tf/lib/python3.9/site-packages/mlflow/tracking/_tracking_service/client.py:286\u001b[0m, in \u001b[0;36mTrackingServiceClient.log_metric\u001b[0;34m(self, run_id, key, value, timestamp, step)\u001b[0m\n\u001b[1;32m    284\u001b[0m metric_value \u001b[38;5;241m=\u001b[39m convert_metric_value_to_float_if_possible(value)\n\u001b[1;32m    285\u001b[0m metric \u001b[38;5;241m=\u001b[39m Metric(key, metric_value, timestamp, step)\n\u001b[0;32m--> 286\u001b[0m \u001b[38;5;28;43mself\u001b[39;49m\u001b[38;5;241;43m.\u001b[39;49m\u001b[43mstore\u001b[49m\u001b[38;5;241;43m.\u001b[39;49m\u001b[43mlog_metric\u001b[49m\u001b[43m(\u001b[49m\u001b[43mrun_id\u001b[49m\u001b[43m,\u001b[49m\u001b[43m \u001b[49m\u001b[43mmetric\u001b[49m\u001b[43m)\u001b[49m\n",
      "File \u001b[0;32m~/opt/anaconda3/envs/tf/lib/python3.9/site-packages/mlflow/store/tracking/file_store.py:926\u001b[0m, in \u001b[0;36mFileStore.log_metric\u001b[0;34m(self, run_id, metric)\u001b[0m\n\u001b[1;32m    924\u001b[0m _validate_metric(metric\u001b[38;5;241m.\u001b[39mkey, metric\u001b[38;5;241m.\u001b[39mvalue, metric\u001b[38;5;241m.\u001b[39mtimestamp, metric\u001b[38;5;241m.\u001b[39mstep)\n\u001b[1;32m    925\u001b[0m run_info \u001b[38;5;241m=\u001b[39m \u001b[38;5;28mself\u001b[39m\u001b[38;5;241m.\u001b[39m_get_run_info(run_id)\n\u001b[0;32m--> 926\u001b[0m \u001b[43mcheck_run_is_active\u001b[49m\u001b[43m(\u001b[49m\u001b[43mrun_info\u001b[49m\u001b[43m)\u001b[49m\n\u001b[1;32m    927\u001b[0m \u001b[38;5;28mself\u001b[39m\u001b[38;5;241m.\u001b[39m_log_run_metric(run_info, metric)\n",
      "File \u001b[0;32m~/opt/anaconda3/envs/tf/lib/python3.9/site-packages/mlflow/entities/run_info.py:11\u001b[0m, in \u001b[0;36mcheck_run_is_active\u001b[0;34m(run_info)\u001b[0m\n\u001b[1;32m      9\u001b[0m \u001b[38;5;28;01mdef\u001b[39;00m \u001b[38;5;21mcheck_run_is_active\u001b[39m(run_info):\n\u001b[1;32m     10\u001b[0m     \u001b[38;5;28;01mif\u001b[39;00m run_info\u001b[38;5;241m.\u001b[39mlifecycle_stage \u001b[38;5;241m!=\u001b[39m LifecycleStage\u001b[38;5;241m.\u001b[39mACTIVE:\n\u001b[0;32m---> 11\u001b[0m         \u001b[38;5;28;01mraise\u001b[39;00m MlflowException(\n\u001b[1;32m     12\u001b[0m             \u001b[38;5;124mf\u001b[39m\u001b[38;5;124m\"\u001b[39m\u001b[38;5;124mThe run \u001b[39m\u001b[38;5;132;01m{\u001b[39;00mrun_info\u001b[38;5;241m.\u001b[39mrun_id\u001b[38;5;132;01m}\u001b[39;00m\u001b[38;5;124m must be in \u001b[39m\u001b[38;5;124m'\u001b[39m\u001b[38;5;124mactive\u001b[39m\u001b[38;5;124m'\u001b[39m\u001b[38;5;124m lifecycle_stage.\u001b[39m\u001b[38;5;124m\"\u001b[39m,\n\u001b[1;32m     13\u001b[0m             error_code\u001b[38;5;241m=\u001b[39mINVALID_PARAMETER_VALUE,\n\u001b[1;32m     14\u001b[0m         )\n",
      "\u001b[0;31mMlflowException\u001b[0m: The run 6a92fa47e6664e7490737cc069bfcc52 must be in 'active' lifecycle_stage."
     ]
    }
   ],
   "source": [
    "# test on sample\n",
    "config['balancing']['should_oversample'] = True\n",
    "config['balancing']['with_categorical'] = True\n",
    "\n",
    "train('log_regression', config, dev_mode=True)"
   ]
  },
  {
   "cell_type": "markdown",
   "id": "a897ee6f-21c5-412f-891b-f80c0585dff7",
   "metadata": {},
   "source": [
    "### Baseline"
   ]
  },
  {
   "cell_type": "code",
   "execution_count": 577,
   "id": "a65563d1-eb5b-4203-8d96-da331a286ed9",
   "metadata": {},
   "outputs": [
    {
     "ename": "MlflowException",
     "evalue": "The run 4989d39c3c264b8db317dbc6d4353412 must be in 'active' lifecycle_stage.",
     "output_type": "error",
     "traceback": [
      "\u001b[0;31m---------------------------------------------------------------------------\u001b[0m",
      "\u001b[0;31mMlflowException\u001b[0m                           Traceback (most recent call last)",
      "Cell \u001b[0;32mIn[577], line 1\u001b[0m\n\u001b[0;32m----> 1\u001b[0m \u001b[43mmlflow\u001b[49m\u001b[38;5;241;43m.\u001b[39;49m\u001b[43mend_run\u001b[49m\u001b[43m(\u001b[49m\u001b[43m)\u001b[49m\n",
      "File \u001b[0;32m~/opt/anaconda3/envs/tf/lib/python3.9/site-packages/mlflow/tracking/fluent.py:408\u001b[0m, in \u001b[0;36mend_run\u001b[0;34m(status)\u001b[0m\n\u001b[1;32m    406\u001b[0m MLFLOW_RUN_ID\u001b[38;5;241m.\u001b[39munset()\n\u001b[1;32m    407\u001b[0m run \u001b[38;5;241m=\u001b[39m _active_run_stack\u001b[38;5;241m.\u001b[39mpop()\n\u001b[0;32m--> 408\u001b[0m \u001b[43mMlflowClient\u001b[49m\u001b[43m(\u001b[49m\u001b[43m)\u001b[49m\u001b[38;5;241;43m.\u001b[39;49m\u001b[43mset_terminated\u001b[49m\u001b[43m(\u001b[49m\u001b[43mrun\u001b[49m\u001b[38;5;241;43m.\u001b[39;49m\u001b[43minfo\u001b[49m\u001b[38;5;241;43m.\u001b[39;49m\u001b[43mrun_id\u001b[49m\u001b[43m,\u001b[49m\u001b[43m \u001b[49m\u001b[43mstatus\u001b[49m\u001b[43m)\u001b[49m\n\u001b[1;32m    409\u001b[0m _last_active_run_id \u001b[38;5;241m=\u001b[39m run\u001b[38;5;241m.\u001b[39minfo\u001b[38;5;241m.\u001b[39mrun_id\n",
      "File \u001b[0;32m~/opt/anaconda3/envs/tf/lib/python3.9/site-packages/mlflow/tracking/client.py:1857\u001b[0m, in \u001b[0;36mMlflowClient.set_terminated\u001b[0;34m(self, run_id, status, end_time)\u001b[0m\n\u001b[1;32m   1812\u001b[0m \u001b[38;5;28;01mdef\u001b[39;00m \u001b[38;5;21mset_terminated\u001b[39m(\n\u001b[1;32m   1813\u001b[0m     \u001b[38;5;28mself\u001b[39m, run_id: \u001b[38;5;28mstr\u001b[39m, status: Optional[\u001b[38;5;28mstr\u001b[39m] \u001b[38;5;241m=\u001b[39m \u001b[38;5;28;01mNone\u001b[39;00m, end_time: Optional[\u001b[38;5;28mint\u001b[39m] \u001b[38;5;241m=\u001b[39m \u001b[38;5;28;01mNone\u001b[39;00m\n\u001b[1;32m   1814\u001b[0m ) \u001b[38;5;241m-\u001b[39m\u001b[38;5;241m>\u001b[39m \u001b[38;5;28;01mNone\u001b[39;00m:\n\u001b[1;32m   1815\u001b[0m \u001b[38;5;250m    \u001b[39m\u001b[38;5;124;03m\"\"\"Set a run's status to terminated.\u001b[39;00m\n\u001b[1;32m   1816\u001b[0m \n\u001b[1;32m   1817\u001b[0m \u001b[38;5;124;03m    :param status: A string value of :py:class:`mlflow.entities.RunStatus`.\u001b[39;00m\n\u001b[0;32m   (...)\u001b[0m\n\u001b[1;32m   1855\u001b[0m \u001b[38;5;124;03m        status: KILLED\u001b[39;00m\n\u001b[1;32m   1856\u001b[0m \u001b[38;5;124;03m    \"\"\"\u001b[39;00m\n\u001b[0;32m-> 1857\u001b[0m     \u001b[38;5;28;43mself\u001b[39;49m\u001b[38;5;241;43m.\u001b[39;49m\u001b[43m_tracking_client\u001b[49m\u001b[38;5;241;43m.\u001b[39;49m\u001b[43mset_terminated\u001b[49m\u001b[43m(\u001b[49m\u001b[43mrun_id\u001b[49m\u001b[43m,\u001b[49m\u001b[43m \u001b[49m\u001b[43mstatus\u001b[49m\u001b[43m,\u001b[49m\u001b[43m \u001b[49m\u001b[43mend_time\u001b[49m\u001b[43m)\u001b[49m\n",
      "File \u001b[0;32m~/opt/anaconda3/envs/tf/lib/python3.9/site-packages/mlflow/tracking/_tracking_service/client.py:500\u001b[0m, in \u001b[0;36mTrackingServiceClient.set_terminated\u001b[0;34m(self, run_id, status, end_time)\u001b[0m\n\u001b[1;32m    498\u001b[0m end_time \u001b[38;5;241m=\u001b[39m end_time \u001b[38;5;28;01mif\u001b[39;00m end_time \u001b[38;5;28;01melse\u001b[39;00m get_current_time_millis()\n\u001b[1;32m    499\u001b[0m status \u001b[38;5;241m=\u001b[39m status \u001b[38;5;28;01mif\u001b[39;00m status \u001b[38;5;28;01melse\u001b[39;00m RunStatus\u001b[38;5;241m.\u001b[39mto_string(RunStatus\u001b[38;5;241m.\u001b[39mFINISHED)\n\u001b[0;32m--> 500\u001b[0m \u001b[38;5;28;43mself\u001b[39;49m\u001b[38;5;241;43m.\u001b[39;49m\u001b[43mstore\u001b[49m\u001b[38;5;241;43m.\u001b[39;49m\u001b[43mupdate_run_info\u001b[49m\u001b[43m(\u001b[49m\n\u001b[1;32m    501\u001b[0m \u001b[43m    \u001b[49m\u001b[43mrun_id\u001b[49m\u001b[43m,\u001b[49m\n\u001b[1;32m    502\u001b[0m \u001b[43m    \u001b[49m\u001b[43mrun_status\u001b[49m\u001b[38;5;241;43m=\u001b[39;49m\u001b[43mRunStatus\u001b[49m\u001b[38;5;241;43m.\u001b[39;49m\u001b[43mfrom_string\u001b[49m\u001b[43m(\u001b[49m\u001b[43mstatus\u001b[49m\u001b[43m)\u001b[49m\u001b[43m,\u001b[49m\n\u001b[1;32m    503\u001b[0m \u001b[43m    \u001b[49m\u001b[43mend_time\u001b[49m\u001b[38;5;241;43m=\u001b[39;49m\u001b[43mend_time\u001b[49m\u001b[43m,\u001b[49m\n\u001b[1;32m    504\u001b[0m \u001b[43m    \u001b[49m\u001b[43mrun_name\u001b[49m\u001b[38;5;241;43m=\u001b[39;49m\u001b[38;5;28;43;01mNone\u001b[39;49;00m\u001b[43m,\u001b[49m\n\u001b[1;32m    505\u001b[0m \u001b[43m\u001b[49m\u001b[43m)\u001b[49m\n",
      "File \u001b[0;32m~/opt/anaconda3/envs/tf/lib/python3.9/site-packages/mlflow/store/tracking/file_store.py:593\u001b[0m, in \u001b[0;36mFileStore.update_run_info\u001b[0;34m(self, run_id, run_status, end_time, run_name)\u001b[0m\n\u001b[1;32m    591\u001b[0m _validate_run_id(run_id)\n\u001b[1;32m    592\u001b[0m run_info \u001b[38;5;241m=\u001b[39m \u001b[38;5;28mself\u001b[39m\u001b[38;5;241m.\u001b[39m_get_run_info(run_id)\n\u001b[0;32m--> 593\u001b[0m \u001b[43mcheck_run_is_active\u001b[49m\u001b[43m(\u001b[49m\u001b[43mrun_info\u001b[49m\u001b[43m)\u001b[49m\n\u001b[1;32m    594\u001b[0m new_info \u001b[38;5;241m=\u001b[39m run_info\u001b[38;5;241m.\u001b[39m_copy_with_overrides(run_status, end_time, run_name\u001b[38;5;241m=\u001b[39mrun_name)\n\u001b[1;32m    595\u001b[0m \u001b[38;5;28;01mif\u001b[39;00m run_name:\n",
      "File \u001b[0;32m~/opt/anaconda3/envs/tf/lib/python3.9/site-packages/mlflow/entities/run_info.py:11\u001b[0m, in \u001b[0;36mcheck_run_is_active\u001b[0;34m(run_info)\u001b[0m\n\u001b[1;32m      9\u001b[0m \u001b[38;5;28;01mdef\u001b[39;00m \u001b[38;5;21mcheck_run_is_active\u001b[39m(run_info):\n\u001b[1;32m     10\u001b[0m     \u001b[38;5;28;01mif\u001b[39;00m run_info\u001b[38;5;241m.\u001b[39mlifecycle_stage \u001b[38;5;241m!=\u001b[39m LifecycleStage\u001b[38;5;241m.\u001b[39mACTIVE:\n\u001b[0;32m---> 11\u001b[0m         \u001b[38;5;28;01mraise\u001b[39;00m MlflowException(\n\u001b[1;32m     12\u001b[0m             \u001b[38;5;124mf\u001b[39m\u001b[38;5;124m\"\u001b[39m\u001b[38;5;124mThe run \u001b[39m\u001b[38;5;132;01m{\u001b[39;00mrun_info\u001b[38;5;241m.\u001b[39mrun_id\u001b[38;5;132;01m}\u001b[39;00m\u001b[38;5;124m must be in \u001b[39m\u001b[38;5;124m'\u001b[39m\u001b[38;5;124mactive\u001b[39m\u001b[38;5;124m'\u001b[39m\u001b[38;5;124m lifecycle_stage.\u001b[39m\u001b[38;5;124m\"\u001b[39m,\n\u001b[1;32m     13\u001b[0m             error_code\u001b[38;5;241m=\u001b[39mINVALID_PARAMETER_VALUE,\n\u001b[1;32m     14\u001b[0m         )\n",
      "\u001b[0;31mMlflowException\u001b[0m: The run 4989d39c3c264b8db317dbc6d4353412 must be in 'active' lifecycle_stage."
     ]
    }
   ],
   "source": [
    "mlflow.end_run()"
   ]
  },
  {
   "cell_type": "code",
   "execution_count": 538,
   "id": "cd3eecfc-efc9-4bc0-92ee-fd239d158707",
   "metadata": {},
   "outputs": [
    {
     "name": "stdout",
     "output_type": "stream",
     "text": [
      "Training the model\n",
      "Loading application_train ...\n",
      "Loading Done.\n",
      "Train shape: (246008, 121)\n",
      "Valid shape: (246008,)\n",
      "Start pipeline fit and transform\n"
     ]
    },
    {
     "name": "stderr",
     "output_type": "stream",
     "text": [
      "2023/11/15 11:01:02 WARNING mlflow.utils: Truncated the value of the key `steps`. Truncated value: `[('preprocessor', Pipeline(steps=[('cleaner', ApplicationCleaner()),\n",
      "                ('feature_extractor', ApplicationFeaturesExtractor()),\n",
      "                ('imputer',\n",
      "                 ApplicationImputer(cat_imputer=SimpleImputer(strategy='most_frequent'),\n",
      "                                    num_imputer=SimpleImputer(strategy='median'))),\n",
      "                ('scalar', ApplicationScaler(scaler=StandardScaler())),\n",
      "                ('encoder', ApplicationEncoder())],\n",
      "         verbose=True)), ('class...`\n",
      "2023/11/15 11:01:04 WARNING mlflow.data.pandas_dataset: Failed to infer schema for Pandas dataset. Exception: Unable to map 'object' type to MLflow DataType. object can be mapped iff all values have identical data type which is one of (string, (bytes or byterray),  int, float).\n"
     ]
    },
    {
     "name": "stdout",
     "output_type": "stream",
     "text": [
      "[Pipeline] ........... (step 1 of 5) Processing cleaner, total=   0.3s\n",
      "[Pipeline] . (step 2 of 5) Processing feature_extractor, total=   0.0s\n",
      "[Pipeline] ........... (step 3 of 5) Processing imputer, total=   2.5s\n",
      "[Pipeline] ............ (step 4 of 5) Processing scalar, total=   0.3s\n",
      "[Pipeline] ........... (step 5 of 5) Processing encoder, total=   1.2s\n",
      "[Pipeline] ...... (step 1 of 2) Processing preprocessor, total=   4.3s\n",
      "[Pipeline] ........ (step 2 of 2) Processing classifier, total=   0.8s\n"
     ]
    },
    {
     "name": "stderr",
     "output_type": "stream",
     "text": [
      "/Users/natche/opt/anaconda3/envs/tf/lib/python3.9/site-packages/sklearn/metrics/_classification.py:1469: UndefinedMetricWarning: Precision is ill-defined and being set to 0.0 in labels with no predicted samples. Use `zero_division` parameter to control this behavior.\n",
      "  _warn_prf(average, modifier, msg_start, len(result))\n",
      "2023/11/15 11:01:24 WARNING mlflow.sklearn: Failed to infer model signature: Unable to map 'object' type to MLflow DataType. object can be mapped iff all values have identical data type which is one of (string, (bytes or byterray),  int, float).\n",
      "2023/11/15 11:01:27 WARNING mlflow.utils.autologging_utils: MLflow autologging encountered a warning: \"/Users/natche/opt/anaconda3/envs/tf/lib/python3.9/site-packages/mlflow/data/pandas_dataset.py:116: UserWarning: Hint: Inferred schema contains integer column(s). Integer columns in Python cannot represent missing values. If your input data contains missing values at inference time, it will be encoded as floats and will cause a schema enforcement error. The best way to avoid this problem is to infer the model schema based on a realistic data sample (training dataset) that includes missing values. Alternatively, you can declare integer columns as doubles (float64) whenever these columns may have missing values. See `Handling Integers With Missing Values <https://www.mlflow.org/docs/latest/models.html#handling-integers-with-missing-values>`_ for more details.\"\n",
      "2023/11/15 11:01:28 WARNING mlflow.data.pandas_dataset: Failed to infer schema for Pandas dataset. Exception: Unable to map 'object' type to MLflow DataType. object can be mapped iff all values have identical data type which is one of (string, (bytes or byterray),  int, float).\n"
     ]
    },
    {
     "name": "stdout",
     "output_type": "stream",
     "text": [
      "-------------------------\n",
      "ROC AUC: 0.5\n",
      "Accuracy: 0.92\n",
      "Fbeta score(b=10): 0.0\n",
      "Classification report:\n",
      "              precision    recall  f1-score   support\n",
      "\n",
      "           0       0.92      1.00      0.96     56619\n",
      "           1       0.00      0.00      0.00      4884\n",
      "\n",
      "    accuracy                           0.92     61503\n",
      "   macro avg       0.46      0.50      0.48     61503\n",
      "weighted avg       0.85      0.92      0.88     61503\n",
      "\n",
      "-------------------------\n",
      "execution time: 29.06 seconds \n",
      "\n"
     ]
    },
    {
     "data": {
      "image/png": "[encoded data removed]",
      "text/plain": [
       "<Figure size 640x480 with 1 Axes>"
      ]
     },
     "metadata": {},
     "output_type": "display_data"
    }
   ],
   "source": [
    "base_config = {\n",
    "    'preprocessing': {\n",
    "        'should_fill_na': True,\n",
    "        'num_imputer': SimpleImputer(strategy='median'),\n",
    "        'cat_imputer': SimpleImputer(strategy='most_frequent'),\n",
    "        'should_scale': True,\n",
    "        'scaler': StandardScaler(),\n",
    "    },\n",
    "     'balancing': {\n",
    "        'should_oversample': False,\n",
    "        'with_categorical': False\n",
    "    },\n",
    "    'model_params': {\n",
    "        'random_state': 42\n",
    "    }\n",
    "}\n",
    "\n",
    "with mlflow.start_run(run_name = 'log_regression_baseline'):\n",
    "    train('log_regression', config=base_config, dev_mode=False)\n",
    "\n",
    "mlflow.end_run()"
   ]
  },
  {
   "cell_type": "markdown",
   "id": "c6dbe8ea-307b-4ae9-8b17-d4aebf5db103",
   "metadata": {},
   "source": [
    "### With SMOTE"
   ]
  },
  {
   "cell_type": "code",
   "execution_count": 539,
   "id": "796f2248-9b61-4942-815d-dad2619cbfeb",
   "metadata": {},
   "outputs": [],
   "source": [
    "smote_config = {\n",
    "    'preprocessing': {\n",
    "        'should_fill_na': True,\n",
    "        'num_imputer': SimpleImputer(strategy='median'),\n",
    "        'cat_imputer': SimpleImputer(strategy='most_frequent'),\n",
    "        'should_scale': True,\n",
    "        'scaler': StandardScaler(),\n",
    "    },\n",
    "     'balancing': {\n",
    "        'should_oversample': True,\n",
    "        'with_categorical': False\n",
    "    },\n",
    "    'model_params': {\n",
    "        'random_state': 42\n",
    "    }\n",
    "}"
   ]
  },
  {
   "cell_type": "code",
   "execution_count": 540,
   "id": "3397aa12-787f-4bb3-a966-9651daab51b8",
   "metadata": {},
   "outputs": [
    {
     "name": "stdout",
     "output_type": "stream",
     "text": [
      "Training the model\n",
      "Loading application_train ...\n",
      "Loading Done.\n",
      "Train shape: (246008, 121)\n",
      "Valid shape: (246008,)\n",
      "Start pipeline fit and transform\n",
      "[Pipeline] ........... (step 1 of 7) Processing cleaner, total=   0.3s\n",
      "[Pipeline] . (step 2 of 7) Processing feature_extractor, total=   0.0s\n",
      "[Pipeline] ........... (step 3 of 7) Processing imputer, total=   2.5s\n",
      "[Pipeline] ............ (step 4 of 7) Processing scalar, total=   0.2s\n",
      "[Pipeline] ........... (step 5 of 7) Processing encoder, total=   1.1s\n"
     ]
    },
    {
     "name": "stderr",
     "output_type": "stream",
     "text": [
      "2023/11/15 11:02:41 WARNING mlflow.sklearn: Training metrics will not be recorded because training labels were not specified. To automatically record training metrics, provide training labels as inputs to the model training function.\n",
      "2023/11/15 11:02:41 WARNING mlflow.sklearn: Failed to infer model signature: the trained model does not have a `predict` or `transform` function, which is required in order to infer the signature\n",
      "2023/11/15 11:02:41 WARNING mlflow.sklearn: Model was missing function: predict. Not logging python_function flavor!\n"
     ]
    },
    {
     "name": "stdout",
     "output_type": "stream",
     "text": [
      "[Pipeline] ............. (step 6 of 7) Processing smote, total=   4.0s\n"
     ]
    },
    {
     "name": "stderr",
     "output_type": "stream",
     "text": [
      "2023/11/15 11:02:56 WARNING mlflow.utils.autologging_utils: MLflow autologging encountered a warning: \"/Users/natche/opt/anaconda3/envs/tf/lib/python3.9/site-packages/mlflow/data/pandas_dataset.py:116: UserWarning: Hint: Inferred schema contains integer column(s). Integer columns in Python cannot represent missing values. If your input data contains missing values at inference time, it will be encoded as floats and will cause a schema enforcement error. The best way to avoid this problem is to infer the model schema based on a realistic data sample (training dataset) that includes missing values. Alternatively, you can declare integer columns as doubles (float64) whenever these columns may have missing values. See `Handling Integers With Missing Values <https://www.mlflow.org/docs/latest/models.html#handling-integers-with-missing-values>`_ for more details.\"\n",
      "2023/11/15 11:02:59 WARNING mlflow.utils.autologging_utils: MLflow autologging encountered a warning: \"/Users/natche/opt/anaconda3/envs/tf/lib/python3.9/site-packages/mlflow/models/signature.py:212: UserWarning: Hint: Inferred schema contains integer column(s). Integer columns in Python cannot represent missing values. If your input data contains missing values at inference time, it will be encoded as floats and will cause a schema enforcement error. The best way to avoid this problem is to infer the model schema based on a realistic data sample (training dataset) that includes missing values. Alternatively, you can declare integer columns as doubles (float64) whenever these columns may have missing values. See `Handling Integers With Missing Values <https://www.mlflow.org/docs/latest/models.html#handling-integers-with-missing-values>`_ for more details.\"\n"
     ]
    },
    {
     "name": "stdout",
     "output_type": "stream",
     "text": [
      "[Pipeline] ........ (step 7 of 7) Processing classifier, total=  15.9s\n"
     ]
    },
    {
     "name": "stderr",
     "output_type": "stream",
     "text": [
      "2023/11/15 11:03:02 WARNING mlflow.utils.autologging_utils: MLflow autologging encountered a warning: \"/Users/natche/opt/anaconda3/envs/tf/lib/python3.9/site-packages/mlflow/data/pandas_dataset.py:116: UserWarning: Hint: Inferred schema contains integer column(s). Integer columns in Python cannot represent missing values. If your input data contains missing values at inference time, it will be encoded as floats and will cause a schema enforcement error. The best way to avoid this problem is to infer the model schema based on a realistic data sample (training dataset) that includes missing values. Alternatively, you can declare integer columns as doubles (float64) whenever these columns may have missing values. See `Handling Integers With Missing Values <https://www.mlflow.org/docs/latest/models.html#handling-integers-with-missing-values>`_ for more details.\"\n",
      "2023/11/15 11:03:04 WARNING mlflow.utils.autologging_utils: MLflow autologging encountered a warning: \"/Users/natche/opt/anaconda3/envs/tf/lib/python3.9/site-packages/mlflow/data/pandas_dataset.py:116: UserWarning: Hint: Inferred schema contains integer column(s). Integer columns in Python cannot represent missing values. If your input data contains missing values at inference time, it will be encoded as floats and will cause a schema enforcement error. The best way to avoid this problem is to infer the model schema based on a realistic data sample (training dataset) that includes missing values. Alternatively, you can declare integer columns as doubles (float64) whenever these columns may have missing values. See `Handling Integers With Missing Values <https://www.mlflow.org/docs/latest/models.html#handling-integers-with-missing-values>`_ for more details.\"\n"
     ]
    },
    {
     "name": "stdout",
     "output_type": "stream",
     "text": [
      "-------------------------\n",
      "ROC AUC: 0.64\n",
      "Accuracy: 0.68\n",
      "Fbeta score(b=10): 0.58\n",
      "Classification report:\n",
      "              precision    recall  f1-score   support\n",
      "\n",
      "           0       0.95      0.69      0.80     56619\n",
      "           1       0.14      0.60      0.23      4884\n",
      "\n",
      "    accuracy                           0.68     61503\n",
      "   macro avg       0.55      0.64      0.51     61503\n",
      "weighted avg       0.89      0.68      0.75     61503\n",
      "\n",
      "-------------------------\n",
      "execution time: 30.95 seconds \n",
      "\n"
     ]
    },
    {
     "data": {
      "image/png": "[encoded data removed]",
      "text/plain": [
       "<Figure size 640x480 with 1 Axes>"
      ]
     },
     "metadata": {},
     "output_type": "display_data"
    }
   ],
   "source": [
    "with mlflow.start_run(run_name = 'log_regression_base_smote'):\n",
    "    train('log_regression', config=smote_config, dev_mode=False)\n",
    "\n",
    "mlflow.end_run()"
   ]
  },
  {
   "cell_type": "markdown",
   "id": "e0e1ab8a-d90d-4395-b390-a6d3e793da57",
   "metadata": {},
   "source": [
    "### With SMOTENC"
   ]
  },
  {
   "cell_type": "code",
   "execution_count": 541,
   "id": "f491802a-be94-4436-bbbd-0a7a70059313",
   "metadata": {},
   "outputs": [],
   "source": [
    "smotenc_config = {\n",
    "    'preprocessing': {\n",
    "        'should_fill_na': True,\n",
    "        'num_imputer': SimpleImputer(strategy='median'),\n",
    "        'cat_imputer': SimpleImputer(strategy='most_frequent'),\n",
    "        'should_scale': True,\n",
    "        'scaler': StandardScaler(),\n",
    "    },\n",
    "     'balancing': {\n",
    "        'should_oversample': True,\n",
    "        'with_categorical': True\n",
    "    },\n",
    "    'model_params': {\n",
    "        'random_state': 42\n",
    "    }\n",
    "}"
   ]
  },
  {
   "cell_type": "code",
   "execution_count": 542,
   "id": "16f58e3f-d930-4215-990a-1e377ef4a026",
   "metadata": {},
   "outputs": [
    {
     "name": "stdout",
     "output_type": "stream",
     "text": [
      "Training the model\n",
      "Loading application_train ...\n",
      "Loading Done.\n",
      "Train shape: (246008, 121)\n",
      "Valid shape: (246008,)\n",
      "Start pipeline fit and transform\n",
      "[Pipeline] ........... (step 1 of 7) Processing cleaner, total=   0.3s\n",
      "[Pipeline] . (step 2 of 7) Processing feature_extractor, total=   0.0s\n",
      "[Pipeline] ........... (step 3 of 7) Processing imputer, total=   2.4s\n",
      "[Pipeline] ............ (step 4 of 7) Processing scalar, total=   0.2s\n"
     ]
    },
    {
     "name": "stderr",
     "output_type": "stream",
     "text": [
      "2023/11/15 11:04:02 WARNING mlflow.sklearn: Training metrics will not be recorded because training labels were not specified. To automatically record training metrics, provide training labels as inputs to the model training function.\n",
      "2023/11/15 11:04:02 WARNING mlflow.sklearn: Failed to infer model signature: the trained model does not have a `predict` or `transform` function, which is required in order to infer the signature\n",
      "2023/11/15 11:04:02 WARNING mlflow.sklearn: Model was missing function: predict. Not logging python_function flavor!\n"
     ]
    },
    {
     "name": "stdout",
     "output_type": "stream",
     "text": [
      "[Pipeline] .......... (step 5 of 7) Processing smote_nc, total= 4.4min\n",
      "[Pipeline] ........... (step 6 of 7) Processing encoder, total=   2.4s\n"
     ]
    },
    {
     "name": "stderr",
     "output_type": "stream",
     "text": [
      "2023/11/15 11:08:40 WARNING mlflow.utils.autologging_utils: MLflow autologging encountered a warning: \"/Users/natche/opt/anaconda3/envs/tf/lib/python3.9/site-packages/mlflow/data/pandas_dataset.py:116: UserWarning: Hint: Inferred schema contains integer column(s). Integer columns in Python cannot represent missing values. If your input data contains missing values at inference time, it will be encoded as floats and will cause a schema enforcement error. The best way to avoid this problem is to infer the model schema based on a realistic data sample (training dataset) that includes missing values. Alternatively, you can declare integer columns as doubles (float64) whenever these columns may have missing values. See `Handling Integers With Missing Values <https://www.mlflow.org/docs/latest/models.html#handling-integers-with-missing-values>`_ for more details.\"\n",
      "2023/11/15 11:08:44 WARNING mlflow.utils.autologging_utils: MLflow autologging encountered a warning: \"/Users/natche/opt/anaconda3/envs/tf/lib/python3.9/site-packages/mlflow/models/signature.py:212: UserWarning: Hint: Inferred schema contains integer column(s). Integer columns in Python cannot represent missing values. If your input data contains missing values at inference time, it will be encoded as floats and will cause a schema enforcement error. The best way to avoid this problem is to infer the model schema based on a realistic data sample (training dataset) that includes missing values. Alternatively, you can declare integer columns as doubles (float64) whenever these columns may have missing values. See `Handling Integers With Missing Values <https://www.mlflow.org/docs/latest/models.html#handling-integers-with-missing-values>`_ for more details.\"\n"
     ]
    },
    {
     "name": "stdout",
     "output_type": "stream",
     "text": [
      "[Pipeline] ........ (step 7 of 7) Processing classifier, total=  16.3s\n"
     ]
    },
    {
     "name": "stderr",
     "output_type": "stream",
     "text": [
      "2023/11/15 11:08:47 WARNING mlflow.utils.autologging_utils: MLflow autologging encountered a warning: \"/Users/natche/opt/anaconda3/envs/tf/lib/python3.9/site-packages/mlflow/data/pandas_dataset.py:116: UserWarning: Hint: Inferred schema contains integer column(s). Integer columns in Python cannot represent missing values. If your input data contains missing values at inference time, it will be encoded as floats and will cause a schema enforcement error. The best way to avoid this problem is to infer the model schema based on a realistic data sample (training dataset) that includes missing values. Alternatively, you can declare integer columns as doubles (float64) whenever these columns may have missing values. See `Handling Integers With Missing Values <https://www.mlflow.org/docs/latest/models.html#handling-integers-with-missing-values>`_ for more details.\"\n",
      "2023/11/15 11:08:49 WARNING mlflow.utils.autologging_utils: MLflow autologging encountered a warning: \"/Users/natche/opt/anaconda3/envs/tf/lib/python3.9/site-packages/mlflow/data/pandas_dataset.py:116: UserWarning: Hint: Inferred schema contains integer column(s). Integer columns in Python cannot represent missing values. If your input data contains missing values at inference time, it will be encoded as floats and will cause a schema enforcement error. The best way to avoid this problem is to infer the model schema based on a realistic data sample (training dataset) that includes missing values. Alternatively, you can declare integer columns as doubles (float64) whenever these columns may have missing values. See `Handling Integers With Missing Values <https://www.mlflow.org/docs/latest/models.html#handling-integers-with-missing-values>`_ for more details.\"\n"
     ]
    },
    {
     "name": "stdout",
     "output_type": "stream",
     "text": [
      "-------------------------\n",
      "ROC AUC: 0.63\n",
      "Accuracy: 0.76\n",
      "Fbeta score(b=10): 0.47\n",
      "Classification report:\n",
      "              precision    recall  f1-score   support\n",
      "\n",
      "           0       0.95      0.79      0.86     56619\n",
      "           1       0.16      0.48      0.24      4884\n",
      "\n",
      "    accuracy                           0.76     61503\n",
      "   macro avg       0.55      0.63      0.55     61503\n",
      "weighted avg       0.88      0.76      0.81     61503\n",
      "\n",
      "-------------------------\n",
      "execution time: 294.35 seconds \n",
      "\n"
     ]
    },
    {
     "data": {
      "image/png": "[encoded data removed]",
      "text/plain": [
       "<Figure size 640x480 with 1 Axes>"
      ]
     },
     "metadata": {},
     "output_type": "display_data"
    }
   ],
   "source": [
    "with mlflow.start_run(run_name = 'log_regression_base_smotenc'):\n",
    "    train('log_regression', config=smotenc_config, dev_mode=False)\n",
    "\n",
    "mlflow.end_run()"
   ]
  },
  {
   "cell_type": "markdown",
   "id": "6f9ca503-444c-4c6a-ab11-391adb5c5c3c",
   "metadata": {},
   "source": [
    "### With bureau and balance"
   ]
  },
  {
   "cell_type": "code",
   "execution_count": 578,
   "id": "f0e28c57-6e34-44d8-b33f-370683ca27ec",
   "metadata": {},
   "outputs": [
    {
     "name": "stdout",
     "output_type": "stream",
     "text": [
      "Training the model\n",
      "Loading application_train ...\n",
      "Loading Done.\n",
      "Train shape: (246008, 121)\n",
      "Valid shape: (246008,)\n",
      "Start pipeline fit and transform\n",
      "[Pipeline] ........... (step 1 of 8) Processing cleaner, total=   0.3s\n",
      "[Pipeline] . (step 2 of 8) Processing feature_extractor, total=   0.0s\n",
      "shape before  (246008, 128)\n",
      "new shape after merge (246008, 244)\n",
      "[Pipeline]  (step 3 of 8) Processing merge_bureau_and_balance, total=   0.2s\n",
      "[Pipeline] ........... (step 4 of 8) Processing imputer, total=   4.4s\n",
      "[Pipeline] ............ (step 5 of 8) Processing scalar, total=   0.4s\n",
      "[Pipeline] ........... (step 6 of 8) Processing encoder, total=   1.3s\n"
     ]
    },
    {
     "name": "stderr",
     "output_type": "stream",
     "text": [
      "2023/11/16 17:04:09 WARNING mlflow.sklearn: Training metrics will not be recorded because training labels were not specified. To automatically record training metrics, provide training labels as inputs to the model training function.\n",
      "2023/11/16 17:04:09 WARNING mlflow.sklearn: Failed to infer model signature: the trained model does not have a `predict` or `transform` function, which is required in order to infer the signature\n",
      "2023/11/16 17:04:09 WARNING mlflow.sklearn: Model was missing function: predict. Not logging python_function flavor!\n"
     ]
    },
    {
     "name": "stdout",
     "output_type": "stream",
     "text": [
      "[Pipeline] ............. (step 7 of 8) Processing smote, total=   5.1s\n"
     ]
    },
    {
     "name": "stderr",
     "output_type": "stream",
     "text": [
      "2023/11/16 17:04:28 WARNING mlflow.utils.autologging_utils: MLflow autologging encountered a warning: \"/Users/natche/opt/anaconda3/envs/tf/lib/python3.9/site-packages/mlflow/data/pandas_dataset.py:116: UserWarning: Hint: Inferred schema contains integer column(s). Integer columns in Python cannot represent missing values. If your input data contains missing values at inference time, it will be encoded as floats and will cause a schema enforcement error. The best way to avoid this problem is to infer the model schema based on a realistic data sample (training dataset) that includes missing values. Alternatively, you can declare integer columns as doubles (float64) whenever these columns may have missing values. See `Handling Integers With Missing Values <https://www.mlflow.org/docs/latest/models.html#handling-integers-with-missing-values>`_ for more details.\"\n",
      "2023/11/16 17:04:33 WARNING mlflow.utils.autologging_utils: MLflow autologging encountered a warning: \"/Users/natche/opt/anaconda3/envs/tf/lib/python3.9/site-packages/mlflow/models/signature.py:212: UserWarning: Hint: Inferred schema contains integer column(s). Integer columns in Python cannot represent missing values. If your input data contains missing values at inference time, it will be encoded as floats and will cause a schema enforcement error. The best way to avoid this problem is to infer the model schema based on a realistic data sample (training dataset) that includes missing values. Alternatively, you can declare integer columns as doubles (float64) whenever these columns may have missing values. See `Handling Integers With Missing Values <https://www.mlflow.org/docs/latest/models.html#handling-integers-with-missing-values>`_ for more details.\"\n"
     ]
    },
    {
     "name": "stdout",
     "output_type": "stream",
     "text": [
      "[Pipeline] ........ (step 8 of 8) Processing classifier, total=  20.3s\n",
      "shape before  (61503, 128)\n",
      "new shape after merge (61503, 244)\n"
     ]
    },
    {
     "name": "stderr",
     "output_type": "stream",
     "text": [
      "2023/11/16 17:04:37 WARNING mlflow.utils.autologging_utils: MLflow autologging encountered a warning: \"/Users/natche/opt/anaconda3/envs/tf/lib/python3.9/site-packages/mlflow/data/pandas_dataset.py:116: UserWarning: Hint: Inferred schema contains integer column(s). Integer columns in Python cannot represent missing values. If your input data contains missing values at inference time, it will be encoded as floats and will cause a schema enforcement error. The best way to avoid this problem is to infer the model schema based on a realistic data sample (training dataset) that includes missing values. Alternatively, you can declare integer columns as doubles (float64) whenever these columns may have missing values. See `Handling Integers With Missing Values <https://www.mlflow.org/docs/latest/models.html#handling-integers-with-missing-values>`_ for more details.\"\n"
     ]
    },
    {
     "name": "stdout",
     "output_type": "stream",
     "text": [
      "shape before  (61503, 128)\n",
      "new shape after merge (61503, 244)\n"
     ]
    },
    {
     "name": "stderr",
     "output_type": "stream",
     "text": [
      "2023/11/16 17:04:40 WARNING mlflow.utils.autologging_utils: MLflow autologging encountered a warning: \"/Users/natche/opt/anaconda3/envs/tf/lib/python3.9/site-packages/mlflow/data/pandas_dataset.py:116: UserWarning: Hint: Inferred schema contains integer column(s). Integer columns in Python cannot represent missing values. If your input data contains missing values at inference time, it will be encoded as floats and will cause a schema enforcement error. The best way to avoid this problem is to infer the model schema based on a realistic data sample (training dataset) that includes missing values. Alternatively, you can declare integer columns as doubles (float64) whenever these columns may have missing values. See `Handling Integers With Missing Values <https://www.mlflow.org/docs/latest/models.html#handling-integers-with-missing-values>`_ for more details.\"\n"
     ]
    },
    {
     "name": "stdout",
     "output_type": "stream",
     "text": [
      "-------------------------\n",
      "ROC AUC: 0.63\n",
      "Accuracy: 0.69\n",
      "Fbeta score(b=10): 0.55\n",
      "Classification report:\n",
      "              precision    recall  f1-score   support\n",
      "\n",
      "           0       0.95      0.70      0.80     56619\n",
      "           1       0.14      0.56      0.22      4884\n",
      "\n",
      "    accuracy                           0.69     61503\n",
      "   macro avg       0.54      0.63      0.51     61503\n",
      "weighted avg       0.88      0.69      0.76     61503\n",
      "\n",
      "-------------------------\n",
      "execution time: 51.41 seconds \n",
      "\n"
     ]
    },
    {
     "data": {
      "image/png": "[encoded data removed]",
      "text/plain": [
       "<Figure size 640x480 with 1 Axes>"
      ]
     },
     "metadata": {},
     "output_type": "display_data"
    }
   ],
   "source": [
    "with_bureau_config = {\n",
    "    'preprocessing': {\n",
    "        'should_fill_na': True,\n",
    "        'num_imputer': SimpleImputer(strategy='median'),\n",
    "        'cat_imputer': SimpleImputer(strategy='most_frequent'),\n",
    "        'should_scale': True,\n",
    "        'scaler': StandardScaler(),\n",
    "        'use_bureau': True\n",
    "    },\n",
    "     'balancing': {\n",
    "        'should_oversample': True,\n",
    "        'with_categorical': False\n",
    "    },\n",
    "    'model_params': {\n",
    "        'random_state': 42\n",
    "    }\n",
    "}\n",
    "with mlflow.start_run(run_name = 'log_regression_with_bureau'):\n",
    "    train('log_regression', config=with_bureau_config, dev_mode=False)\n",
    "mlflow.end_run()"
   ]
  },
  {
   "cell_type": "code",
   "execution_count": null,
   "id": "8afe6651-b0a7-4397-bb34-dd02d2ad8093",
   "metadata": {},
   "outputs": [],
   "source": []
  }
 ],
 "metadata": {
  "kernelspec": {
   "display_name": "Python 3 (ipykernel)",
   "language": "python",
   "name": "python3"
  },
  "language_info": {
   "codemirror_mode": {
    "name": "ipython",
    "version": 3
   },
   "file_extension": ".py",
   "mimetype": "text/x-python",
   "name": "python",
   "nbconvert_exporter": "python",
   "pygments_lexer": "ipython3",
   "version": "3.9.18"
  }
 },
 "nbformat": 4,
 "nbformat_minor": 5
}
