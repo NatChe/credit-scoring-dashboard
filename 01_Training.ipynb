{
 "cells": [
  {
   "cell_type": "markdown",
   "id": "5c864b19-599a-40c8-afc4-3e90cec21d97",
   "metadata": {},
   "source": [
    "# Notebook overview"
   ]
  },
  {
   "cell_type": "markdown",
   "id": "cb524379-3ab1-4838-8b3a-ca1b65b4157d",
   "metadata": {},
   "source": [
    "# Imports\n",
    "## Libraries"
   ]
  },
  {
   "cell_type": "code",
   "execution_count": 364,
   "id": "1c2e150f-eada-4842-a0d2-49daccf8360d",
   "metadata": {},
   "outputs": [],
   "source": [
    "import pandas as pd\n",
    "import numpy as np\n",
    "import matplotlib.pyplot as plt\n",
    "import mlflow\n",
    "import gc, warnings, os\n",
    "import importlib\n",
    "import pipelines\n",
    "import data_preprocessing as process\n",
    "import transformers\n",
    "\n",
    "importlib.reload(process)\n",
    "importlib.reload(transformers)\n",
    "importlib.reload(pipelines)\n",
    "\n",
    "\n",
    "from transformers import ApplicationCleaner\n",
    "from pipelines import PIPELINES, DEFAULT_CONFIG\n",
    "\n",
    "from sklearn.model_selection import train_test_split\n",
    "from sklearn.impute import SimpleImputer\n",
    "from sklearn.preprocessing import StandardScaler, OneHotEncoder\n",
    "from sklearn.metrics import roc_auc_score, accuracy_score, classification_report\n",
    "\n",
    "warnings.simplefilter(action='ignore', category=FutureWarning)\n",
    "\n",
    "pd.set_option('display.max_colwidth', None)\n",
    "pd.options.display.float_format = '{:.4f}'.format"
   ]
  },
  {
   "cell_type": "markdown",
   "id": "5c367c99-2b9f-44f1-85ca-22754eb55fc0",
   "metadata": {},
   "source": [
    "# Pipeline"
   ]
  },
  {
   "cell_type": "code",
   "execution_count": 274,
   "id": "950f5675-5623-4e1a-93e9-17e25cf499b4",
   "metadata": {},
   "outputs": [],
   "source": [
    "def display_scores(y_true, y_pred):\n",
    "    print(classification_report(y_true, y_pred))"
   ]
  },
  {
   "cell_type": "code",
   "execution_count": 367,
   "id": "78ddc1fa-857b-40c9-a27b-dd9ce4260c4d",
   "metadata": {},
   "outputs": [],
   "source": [
    "def train(pipeline_name, config, dev_mode=True):\n",
    "    print('Training the model')\n",
    "\n",
    "    data = process.load_data(dev_mode)\n",
    "\n",
    "    X = data['application'].drop(process.TARGET_COLUMN, axis=1)\n",
    "    y = data['application'][process.TARGET_COLUMN]\n",
    "\n",
    "    X_train, X_test, y_train, y_test = train_test_split(X,\n",
    "                                                          y,\n",
    "                                                          test_size=0.2,\n",
    "                                                          random_state=42,\n",
    "                                                          shuffle=False)\n",
    "\n",
    "    print('Train shape: {}'.format(X_train.shape))\n",
    "    print('Valid shape: {}'.format(y_train.shape))\n",
    "\n",
    "    pipeline = PIPELINES[pipeline_name](config=config)\n",
    "\n",
    "    print('Start pipeline fit and transform')\n",
    "    pipeline.fit(X_train, y_train)\n",
    "\n",
    "    y_pred = pipeline.predict(X_test)\n",
    "    \n",
    "    display_scores(y_test, y_pred)"
   ]
  },
  {
   "cell_type": "code",
   "execution_count": 366,
   "id": "cd3eecfc-efc9-4bc0-92ee-fd239d158707",
   "metadata": {},
   "outputs": [
    {
     "name": "stdout",
     "output_type": "stream",
     "text": [
      "Training the model\n",
      "Loading application_train ...\n",
      "Loading Done.\n",
      "FLAG_OWN_CAR\n",
      "N    162480\n",
      "Y     83528\n",
      "Name: count, dtype: int64\n",
      "Train shape: (246008, 121)\n",
      "Valid shape: (246008,)\n",
      "Start pipeline fit and transform\n",
      "Cleaning data...\n",
      "Extracting features..\n",
      "New X shape: (246008, 128)\n",
      "Removing null values...\n",
      "Removed 7449679 null values\n",
      "Encoding values...\n",
      "New X shape: (246008, 250)\n",
      "Scaling values...\n",
      "FLAG_OWN_CAR\n",
      "0    162480\n",
      "1     83528\n",
      "Name: count, dtype: int64\n",
      "Cleaning data...\n",
      "Extracting features..\n",
      "New X shape: (61503, 128)\n",
      "Removing null values...\n",
      "Removed 1851234 null values\n",
      "Encoding values...\n",
      "New X shape: (61503, 250)\n",
      "Scaling values...\n",
      "              precision    recall  f1-score   support\n",
      "\n",
      "           0       0.92      1.00      0.96     56619\n",
      "           1       0.00      0.00      0.00      4884\n",
      "\n",
      "    accuracy                           0.92     61503\n",
      "   macro avg       0.46      0.50      0.48     61503\n",
      "weighted avg       0.85      0.92      0.88     61503\n",
      "\n"
     ]
    },
    {
     "name": "stderr",
     "output_type": "stream",
     "text": [
      "/Users/natche/opt/anaconda3/envs/tf/lib/python3.9/site-packages/sklearn/metrics/_classification.py:1469: UndefinedMetricWarning: Precision and F-score are ill-defined and being set to 0.0 in labels with no predicted samples. Use `zero_division` parameter to control this behavior.\n",
      "  _warn_prf(average, modifier, msg_start, len(result))\n",
      "/Users/natche/opt/anaconda3/envs/tf/lib/python3.9/site-packages/sklearn/metrics/_classification.py:1469: UndefinedMetricWarning: Precision and F-score are ill-defined and being set to 0.0 in labels with no predicted samples. Use `zero_division` parameter to control this behavior.\n",
      "  _warn_prf(average, modifier, msg_start, len(result))\n",
      "/Users/natche/opt/anaconda3/envs/tf/lib/python3.9/site-packages/sklearn/metrics/_classification.py:1469: UndefinedMetricWarning: Precision and F-score are ill-defined and being set to 0.0 in labels with no predicted samples. Use `zero_division` parameter to control this behavior.\n",
      "  _warn_prf(average, modifier, msg_start, len(result))\n"
     ]
    }
   ],
   "source": [
    "config = {\n",
    "    'preprocessing': {\n",
    "        'should_fill_na': True,\n",
    "        'num_imputer': SimpleImputer(strategy='median'),\n",
    "        'cat_imputer': SimpleImputer(strategy='most_frequent'),\n",
    "        'should_scale': True,\n",
    "        'scaler': StandardScaler()\n",
    "    }\n",
    "}\n",
    "\n",
    "\n",
    "train('log_regression', config, dev_mode=False)"
   ]
  },
  {
   "cell_type": "code",
   "execution_count": null,
   "id": "022ca827-e2c3-493c-845c-5fe0dac57b72",
   "metadata": {},
   "outputs": [],
   "source": []
  },
  {
   "cell_type": "code",
   "execution_count": null,
   "id": "796f2248-9b61-4942-815d-dad2619cbfeb",
   "metadata": {},
   "outputs": [],
   "source": []
  },
  {
   "cell_type": "code",
   "execution_count": null,
   "id": "3397aa12-787f-4bb3-a966-9651daab51b8",
   "metadata": {},
   "outputs": [],
   "source": []
  }
 ],
 "metadata": {
  "kernelspec": {
   "display_name": "Python 3 (ipykernel)",
   "language": "python",
   "name": "python3"
  },
  "language_info": {
   "codemirror_mode": {
    "name": "ipython",
    "version": 3
   },
   "file_extension": ".py",
   "mimetype": "text/x-python",
   "name": "python",
   "nbconvert_exporter": "python",
   "pygments_lexer": "ipython3",
   "version": "3.9.18"
  }
 },
 "nbformat": 4,
 "nbformat_minor": 5
}
